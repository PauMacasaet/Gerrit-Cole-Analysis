{
 "cells": [
  {
   "cell_type": "code",
   "execution_count": 1,
   "metadata": {},
   "outputs": [
    {
     "data": {
      "text/html": [
       "        <script type=\"text/javascript\">\n",
       "        window.PlotlyConfig = {MathJaxConfig: 'local'};\n",
       "        if (window.MathJax) {MathJax.Hub.Config({SVG: {font: \"STIX-Web\"}});}\n",
       "        if (typeof require !== 'undefined') {\n",
       "        require.undef(\"plotly\");\n",
       "        requirejs.config({\n",
       "            paths: {\n",
       "                'plotly': ['https://cdn.plot.ly/plotly-latest.min']\n",
       "            }\n",
       "        });\n",
       "        require(['plotly'], function(Plotly) {\n",
       "            window._Plotly = Plotly;\n",
       "        });\n",
       "        }\n",
       "        </script>\n",
       "        "
      ]
     },
     "metadata": {},
     "output_type": "display_data"
    }
   ],
   "source": [
    "from baseball_scraper import playerid_lookup\n",
    "from baseball_scraper import statcast_pitcher\n",
    "from baseball_scraper import pitching_stats\n",
    "import numpy as np # linear algebra\n",
    "import pandas as pd # data processing, CSV file I/O (e.g. pd.read_csv)\n",
    "import matplotlib.pyplot as plt\n",
    "import seaborn as sns\n",
    "import plotly.offline as py\n",
    "from plotly.offline import init_notebook_mode, iplot\n",
    "from plotly.subplots import make_subplots\n",
    "import plotly.graph_objs as go\n",
    "#import plotly.offline as pyo\n",
    "from plotly import tools\n",
    "init_notebook_mode(connected=True)  \n",
    "import plotly.figure_factory as ff\n",
    "\n",
    "# Set notebook mode to work in offline\n",
    "#pyo.init_notebook_mode()"
   ]
  },
  {
   "cell_type": "code",
   "execution_count": 2,
   "metadata": {},
   "outputs": [
    {
     "name": "stdout",
     "output_type": "stream",
     "text": [
      "Gathering player lookup table. This may take a moment.\n"
     ]
    },
    {
     "data": {
      "text/html": [
       "<div>\n",
       "<style scoped>\n",
       "    .dataframe tbody tr th:only-of-type {\n",
       "        vertical-align: middle;\n",
       "    }\n",
       "\n",
       "    .dataframe tbody tr th {\n",
       "        vertical-align: top;\n",
       "    }\n",
       "\n",
       "    .dataframe thead th {\n",
       "        text-align: right;\n",
       "    }\n",
       "</style>\n",
       "<table border=\"1\" class=\"dataframe\">\n",
       "  <thead>\n",
       "    <tr style=\"text-align: right;\">\n",
       "      <th></th>\n",
       "      <th>name_last</th>\n",
       "      <th>name_first</th>\n",
       "      <th>key_mlbam</th>\n",
       "      <th>key_retro</th>\n",
       "      <th>key_bbref</th>\n",
       "      <th>key_fangraphs</th>\n",
       "      <th>mlb_played_first</th>\n",
       "      <th>mlb_played_last</th>\n",
       "    </tr>\n",
       "  </thead>\n",
       "  <tbody>\n",
       "    <tr>\n",
       "      <th>0</th>\n",
       "      <td>cole</td>\n",
       "      <td>gerrit</td>\n",
       "      <td>543037</td>\n",
       "      <td>coleg001</td>\n",
       "      <td>colege01</td>\n",
       "      <td>13125</td>\n",
       "      <td>2013.0</td>\n",
       "      <td>2020.0</td>\n",
       "    </tr>\n",
       "  </tbody>\n",
       "</table>\n",
       "</div>"
      ],
      "text/plain": [
       "  name_last name_first  key_mlbam key_retro key_bbref  key_fangraphs  \\\n",
       "0      cole     gerrit     543037  coleg001  colege01          13125   \n",
       "\n",
       "   mlb_played_first  mlb_played_last  \n",
       "0            2013.0           2020.0  "
      ]
     },
     "execution_count": 2,
     "metadata": {},
     "output_type": "execute_result"
    }
   ],
   "source": [
    "playerid_lookup('cole', 'gerrit')"
   ]
  },
  {
   "cell_type": "code",
   "execution_count": 3,
   "metadata": {},
   "outputs": [
    {
     "name": "stdout",
     "output_type": "stream",
     "text": [
      "Gathering Player Data\n"
     ]
    }
   ],
   "source": [
    "cole_stats = statcast_pitcher('2020-07-22', '2020-10-18',543037)"
   ]
  },
  {
   "cell_type": "code",
   "execution_count": 4,
   "metadata": {},
   "outputs": [
    {
     "data": {
      "text/plain": [
       "Index(['pitch_type', 'game_date', 'release_speed', 'release_pos_x',\n",
       "       'release_pos_z', 'player_name', 'batter', 'pitcher', 'events',\n",
       "       'description', 'spin_dir', 'spin_rate_deprecated',\n",
       "       'break_angle_deprecated', 'break_length_deprecated', 'zone', 'des',\n",
       "       'game_type', 'stand', 'p_throws', 'home_team', 'away_team', 'type',\n",
       "       'hit_location', 'bb_type', 'balls', 'strikes', 'game_year', 'pfx_x',\n",
       "       'pfx_z', 'plate_x', 'plate_z', 'on_3b', 'on_2b', 'on_1b',\n",
       "       'outs_when_up', 'inning', 'inning_topbot', 'hc_x', 'hc_y',\n",
       "       'tfs_deprecated', 'tfs_zulu_deprecated', 'fielder_2', 'umpire', 'sv_id',\n",
       "       'vx0', 'vy0', 'vz0', 'ax', 'ay', 'az', 'sz_top', 'sz_bot',\n",
       "       'hit_distance_sc', 'launch_speed', 'launch_angle', 'effective_speed',\n",
       "       'release_spin_rate', 'release_extension', 'game_pk', 'pitcher.1',\n",
       "       'fielder_2.1', 'fielder_3', 'fielder_4', 'fielder_5', 'fielder_6',\n",
       "       'fielder_7', 'fielder_8', 'fielder_9', 'release_pos_y',\n",
       "       'estimated_ba_using_speedangle', 'estimated_woba_using_speedangle',\n",
       "       'woba_value', 'woba_denom', 'babip_value', 'iso_value',\n",
       "       'launch_speed_angle', 'at_bat_number', 'pitch_number', 'pitch_name',\n",
       "       'home_score', 'away_score', 'bat_score', 'fld_score', 'post_away_score',\n",
       "       'post_home_score', 'post_bat_score', 'post_fld_score',\n",
       "       'if_fielding_alignment', 'of_fielding_alignment'],\n",
       "      dtype='object')"
      ]
     },
     "execution_count": 4,
     "metadata": {},
     "output_type": "execute_result"
    }
   ],
   "source": [
    "cole_stats.columns"
   ]
  },
  {
   "cell_type": "code",
   "execution_count": 5,
   "metadata": {},
   "outputs": [
    {
     "data": {
      "text/html": [
       "<div>\n",
       "<style scoped>\n",
       "    .dataframe tbody tr th:only-of-type {\n",
       "        vertical-align: middle;\n",
       "    }\n",
       "\n",
       "    .dataframe tbody tr th {\n",
       "        vertical-align: top;\n",
       "    }\n",
       "\n",
       "    .dataframe thead th {\n",
       "        text-align: right;\n",
       "    }\n",
       "</style>\n",
       "<table border=\"1\" class=\"dataframe\">\n",
       "  <thead>\n",
       "    <tr style=\"text-align: right;\">\n",
       "      <th></th>\n",
       "      <th>pitch_type</th>\n",
       "      <th>game_date</th>\n",
       "      <th>release_speed</th>\n",
       "      <th>release_pos_x</th>\n",
       "      <th>release_pos_z</th>\n",
       "      <th>player_name</th>\n",
       "      <th>batter</th>\n",
       "      <th>pitcher</th>\n",
       "      <th>events</th>\n",
       "      <th>description</th>\n",
       "      <th>...</th>\n",
       "      <th>home_score</th>\n",
       "      <th>away_score</th>\n",
       "      <th>bat_score</th>\n",
       "      <th>fld_score</th>\n",
       "      <th>post_away_score</th>\n",
       "      <th>post_home_score</th>\n",
       "      <th>post_bat_score</th>\n",
       "      <th>post_fld_score</th>\n",
       "      <th>if_fielding_alignment</th>\n",
       "      <th>of_fielding_alignment</th>\n",
       "    </tr>\n",
       "  </thead>\n",
       "  <tbody>\n",
       "    <tr>\n",
       "      <th>0</th>\n",
       "      <td>KC</td>\n",
       "      <td>2020-10-09</td>\n",
       "      <td>83.0</td>\n",
       "      <td>-1.91</td>\n",
       "      <td>5.79</td>\n",
       "      <td>Gerrit Cole</td>\n",
       "      <td>668227</td>\n",
       "      <td>543037</td>\n",
       "      <td>field_out</td>\n",
       "      <td>hit_into_play</td>\n",
       "      <td>...</td>\n",
       "      <td>1</td>\n",
       "      <td>1</td>\n",
       "      <td>1</td>\n",
       "      <td>1</td>\n",
       "      <td>1</td>\n",
       "      <td>1</td>\n",
       "      <td>1</td>\n",
       "      <td>1</td>\n",
       "      <td>Standard</td>\n",
       "      <td>Standard</td>\n",
       "    </tr>\n",
       "    <tr>\n",
       "      <th>1</th>\n",
       "      <td>CH</td>\n",
       "      <td>2020-10-09</td>\n",
       "      <td>91.2</td>\n",
       "      <td>-1.94</td>\n",
       "      <td>5.45</td>\n",
       "      <td>Gerrit Cole</td>\n",
       "      <td>664040</td>\n",
       "      <td>543037</td>\n",
       "      <td>field_out</td>\n",
       "      <td>hit_into_play</td>\n",
       "      <td>...</td>\n",
       "      <td>1</td>\n",
       "      <td>1</td>\n",
       "      <td>1</td>\n",
       "      <td>1</td>\n",
       "      <td>1</td>\n",
       "      <td>1</td>\n",
       "      <td>1</td>\n",
       "      <td>1</td>\n",
       "      <td>Infield shift</td>\n",
       "      <td>Standard</td>\n",
       "    </tr>\n",
       "    <tr>\n",
       "      <th>2</th>\n",
       "      <td>FF</td>\n",
       "      <td>2020-10-09</td>\n",
       "      <td>98.3</td>\n",
       "      <td>-2.11</td>\n",
       "      <td>5.54</td>\n",
       "      <td>Gerrit Cole</td>\n",
       "      <td>664040</td>\n",
       "      <td>543037</td>\n",
       "      <td>NaN</td>\n",
       "      <td>ball</td>\n",
       "      <td>...</td>\n",
       "      <td>1</td>\n",
       "      <td>1</td>\n",
       "      <td>1</td>\n",
       "      <td>1</td>\n",
       "      <td>1</td>\n",
       "      <td>1</td>\n",
       "      <td>1</td>\n",
       "      <td>1</td>\n",
       "      <td>Infield shift</td>\n",
       "      <td>Standard</td>\n",
       "    </tr>\n",
       "    <tr>\n",
       "      <th>3</th>\n",
       "      <td>FF</td>\n",
       "      <td>2020-10-09</td>\n",
       "      <td>96.4</td>\n",
       "      <td>-2.06</td>\n",
       "      <td>5.45</td>\n",
       "      <td>Gerrit Cole</td>\n",
       "      <td>640457</td>\n",
       "      <td>543037</td>\n",
       "      <td>home_run</td>\n",
       "      <td>hit_into_play_score</td>\n",
       "      <td>...</td>\n",
       "      <td>0</td>\n",
       "      <td>1</td>\n",
       "      <td>0</td>\n",
       "      <td>1</td>\n",
       "      <td>1</td>\n",
       "      <td>0</td>\n",
       "      <td>0</td>\n",
       "      <td>1</td>\n",
       "      <td>Infield shift</td>\n",
       "      <td>Standard</td>\n",
       "    </tr>\n",
       "    <tr>\n",
       "      <th>4</th>\n",
       "      <td>FF</td>\n",
       "      <td>2020-10-09</td>\n",
       "      <td>97.6</td>\n",
       "      <td>-1.93</td>\n",
       "      <td>5.58</td>\n",
       "      <td>Gerrit Cole</td>\n",
       "      <td>640457</td>\n",
       "      <td>543037</td>\n",
       "      <td>NaN</td>\n",
       "      <td>ball</td>\n",
       "      <td>...</td>\n",
       "      <td>0</td>\n",
       "      <td>1</td>\n",
       "      <td>0</td>\n",
       "      <td>1</td>\n",
       "      <td>1</td>\n",
       "      <td>0</td>\n",
       "      <td>0</td>\n",
       "      <td>1</td>\n",
       "      <td>Infield shift</td>\n",
       "      <td>Standard</td>\n",
       "    </tr>\n",
       "  </tbody>\n",
       "</table>\n",
       "<p>5 rows × 89 columns</p>\n",
       "</div>"
      ],
      "text/plain": [
       "  pitch_type   game_date  release_speed  release_pos_x  release_pos_z  \\\n",
       "0         KC  2020-10-09           83.0          -1.91           5.79   \n",
       "1         CH  2020-10-09           91.2          -1.94           5.45   \n",
       "2         FF  2020-10-09           98.3          -2.11           5.54   \n",
       "3         FF  2020-10-09           96.4          -2.06           5.45   \n",
       "4         FF  2020-10-09           97.6          -1.93           5.58   \n",
       "\n",
       "   player_name  batter  pitcher     events          description  ...  \\\n",
       "0  Gerrit Cole  668227   543037  field_out        hit_into_play  ...   \n",
       "1  Gerrit Cole  664040   543037  field_out        hit_into_play  ...   \n",
       "2  Gerrit Cole  664040   543037        NaN                 ball  ...   \n",
       "3  Gerrit Cole  640457   543037   home_run  hit_into_play_score  ...   \n",
       "4  Gerrit Cole  640457   543037        NaN                 ball  ...   \n",
       "\n",
       "   home_score  away_score  bat_score  fld_score  post_away_score  \\\n",
       "0           1           1          1          1                1   \n",
       "1           1           1          1          1                1   \n",
       "2           1           1          1          1                1   \n",
       "3           0           1          0          1                1   \n",
       "4           0           1          0          1                1   \n",
       "\n",
       "  post_home_score post_bat_score post_fld_score if_fielding_alignment  \\\n",
       "0               1              1              1              Standard   \n",
       "1               1              1              1         Infield shift   \n",
       "2               1              1              1         Infield shift   \n",
       "3               0              0              1         Infield shift   \n",
       "4               0              0              1         Infield shift   \n",
       "\n",
       "  of_fielding_alignment  \n",
       "0              Standard  \n",
       "1              Standard  \n",
       "2              Standard  \n",
       "3              Standard  \n",
       "4              Standard  \n",
       "\n",
       "[5 rows x 89 columns]"
      ]
     },
     "execution_count": 5,
     "metadata": {},
     "output_type": "execute_result"
    }
   ],
   "source": [
    "cole_stats.head()"
   ]
  },
  {
   "cell_type": "markdown",
   "metadata": {},
   "source": [
    "### Gerrit Cole Pitch types and outcomes (description column) when it is 2 strikes"
   ]
  },
  {
   "cell_type": "code",
   "execution_count": 6,
   "metadata": {},
   "outputs": [
    {
     "name": "stdout",
     "output_type": "stream",
     "text": [
      "Pitch Percentage when count is at 2 strikes\n",
      "FF    44.779116\n",
      "SL    31.124498\n",
      "KC    19.076305\n",
      "CH     5.020080\n",
      "Name: pitch_type, dtype: float64\n"
     ]
    }
   ],
   "source": [
    "strike2 = cole_stats.strikes == 2\n",
    "cole_strike2 = cole_stats[strike2]\n",
    "\n",
    "strike2_pct = cole_strike2.pitch_type.value_counts() / len(cole_strike2)*100\n",
    "\n",
    "print('Pitch Percentage when count is at 2 strikes\\n{}'.format(strike2_pct))"
   ]
  },
  {
   "cell_type": "code",
   "execution_count": 7,
   "metadata": {},
   "outputs": [
    {
     "data": {
      "application/vnd.plotly.v1+json": {
       "config": {
        "linkText": "Export to plot.ly",
        "plotlyServerURL": "https://plot.ly",
        "showLink": false
       },
       "data": [
        {
         "hovertext": [
          "called_strike",
          "foul",
          "ball",
          "ball",
          "swinging_strike",
          "foul",
          "ball",
          "hit_into_play",
          "blocked_ball",
          "foul",
          "ball",
          "foul",
          "ball",
          "foul",
          "foul",
          "hit_into_play_no_out",
          "foul",
          "foul",
          "foul",
          "foul",
          "called_strike",
          "foul_tip",
          "ball",
          "hit_into_play",
          "swinging_strike",
          "swinging_strike",
          "swinging_strike",
          "called_strike",
          "ball",
          "blocked_ball",
          "foul",
          "swinging_strike",
          "swinging_strike",
          "swinging_strike",
          "ball",
          "foul",
          "ball",
          "swinging_strike",
          "ball",
          "foul",
          "ball",
          "swinging_strike",
          "swinging_strike",
          "blocked_ball",
          "swinging_strike",
          "ball",
          "hit_into_play",
          "foul",
          "ball",
          "ball",
          "swinging_strike_blocked",
          "foul",
          "ball",
          "hit_into_play",
          "foul_tip",
          "ball",
          "hit_into_play",
          "called_strike",
          "ball",
          "foul_tip",
          "blocked_ball",
          "foul",
          "blocked_ball",
          "swinging_strike",
          "foul",
          "ball",
          "hit_into_play",
          "ball",
          "ball",
          "swinging_strike",
          "ball",
          "swinging_strike",
          "foul",
          "swinging_strike",
          "swinging_strike",
          "ball",
          "swinging_strike",
          "hit_into_play",
          "ball",
          "swinging_strike",
          "foul",
          "ball",
          "ball",
          "hit_into_play",
          "ball",
          "swinging_strike",
          "foul_tip",
          "foul",
          "hit_into_play",
          "foul_tip",
          "ball",
          "ball",
          "foul_tip",
          "foul",
          "called_strike",
          "foul",
          "foul",
          "foul",
          "foul",
          "foul",
          "foul",
          "ball",
          "hit_into_play",
          "hit_into_play",
          "hit_into_play_no_out",
          "foul",
          "swinging_strike",
          "ball",
          "hit_into_play",
          "ball",
          "swinging_strike_blocked",
          "ball",
          "swinging_strike",
          "ball",
          "ball",
          "swinging_strike_blocked",
          "ball",
          "foul",
          "foul",
          "hit_into_play",
          "ball",
          "foul",
          "swinging_strike",
          "foul",
          "hit_into_play",
          "ball",
          "ball",
          "ball",
          "hit_into_play_no_out",
          "hit_into_play",
          "foul",
          "foul",
          "foul",
          "hit_into_play",
          "foul",
          "swinging_strike",
          "ball",
          "called_strike",
          "called_strike",
          "ball",
          "ball",
          "blocked_ball",
          "swinging_strike",
          "ball",
          "ball",
          "hit_into_play_no_out",
          "ball",
          "hit_into_play",
          "ball",
          "ball",
          "ball",
          "blocked_ball",
          "hit_into_play",
          "hit_into_play",
          "ball",
          "ball",
          "hit_into_play",
          "hit_into_play",
          "ball",
          "called_strike",
          "ball",
          "swinging_strike",
          "ball",
          "ball",
          "hit_into_play",
          "swinging_strike_blocked",
          "foul",
          "swinging_strike",
          "hit_into_play",
          "ball",
          "foul_tip",
          "hit_into_play",
          "blocked_ball",
          "hit_into_play_no_out",
          "ball",
          "foul",
          "swinging_strike",
          "swinging_strike",
          "ball",
          "swinging_strike",
          "hit_into_play",
          "hit_into_play",
          "swinging_strike_blocked",
          "foul",
          "hit_into_play",
          "ball",
          "ball",
          "swinging_strike",
          "foul",
          "ball",
          "hit_into_play",
          "ball",
          "swinging_strike",
          "ball",
          "hit_into_play",
          "ball",
          "foul",
          "foul",
          "swinging_strike",
          "ball",
          "ball",
          "called_strike",
          "ball",
          "foul",
          "foul",
          "swinging_strike_blocked",
          "hit_into_play",
          "ball",
          "foul",
          "hit_into_play",
          "ball",
          "hit_into_play",
          "hit_into_play_score",
          "swinging_strike",
          "hit_into_play_no_out",
          "ball",
          "hit_into_play",
          "hit_into_play",
          "swinging_strike_blocked",
          "ball",
          "hit_into_play_no_out",
          "swinging_strike",
          "foul",
          "foul",
          "swinging_strike",
          "foul",
          "foul",
          "ball",
          "foul_tip",
          "foul",
          "foul",
          "ball",
          "ball",
          "called_strike",
          "called_strike",
          "swinging_strike_blocked",
          "ball",
          "ball",
          "ball",
          "swinging_strike",
          "swinging_strike",
          "hit_into_play",
          "foul",
          "foul_tip",
          "hit_into_play_score",
          "blocked_ball",
          "hit_by_pitch",
          "hit_into_play",
          "swinging_strike",
          "hit_into_play",
          "swinging_strike",
          "swinging_strike",
          "hit_into_play_no_out",
          "hit_into_play_no_out",
          "swinging_strike",
          "ball",
          "blocked_ball",
          "swinging_strike",
          "foul",
          "ball",
          "foul",
          "hit_into_play",
          "hit_into_play_score",
          "ball",
          "called_strike",
          "ball",
          "ball",
          "called_strike",
          "ball",
          "swinging_strike_blocked",
          "ball",
          "called_strike",
          "foul",
          "ball",
          "hit_into_play",
          "swinging_strike",
          "hit_into_play",
          "ball",
          "ball",
          "foul",
          "ball",
          "ball",
          "hit_into_play",
          "ball",
          "swinging_strike",
          "ball",
          "ball",
          "swinging_strike",
          "hit_into_play",
          "hit_into_play_no_out",
          "ball",
          "foul",
          "ball",
          "swinging_strike",
          "swinging_strike",
          "swinging_strike",
          "ball",
          "foul",
          "hit_into_play_score",
          "called_strike",
          "foul",
          "ball",
          "hit_into_play",
          "ball",
          "swinging_strike",
          "ball",
          "ball",
          "hit_into_play",
          "ball",
          "foul",
          "foul",
          "ball",
          "foul",
          "swinging_strike",
          "ball",
          "swinging_strike",
          "ball",
          "foul",
          "foul",
          "foul",
          "swinging_strike",
          "called_strike",
          "ball",
          "ball",
          "swinging_strike",
          "foul",
          "blocked_ball",
          "hit_into_play",
          "ball",
          "ball",
          "hit_into_play",
          "swinging_strike_blocked",
          "ball",
          "foul",
          "ball",
          "hit_into_play_score",
          "hit_into_play",
          "foul",
          "ball",
          "swinging_strike",
          "called_strike",
          "hit_into_play",
          "foul",
          "ball",
          "swinging_strike_blocked",
          "swinging_strike",
          "swinging_strike",
          "hit_into_play",
          "ball",
          "foul",
          "swinging_strike",
          "ball",
          "foul",
          "hit_into_play_no_out",
          "hit_into_play",
          "swinging_strike",
          "swinging_strike",
          "hit_into_play",
          "hit_into_play",
          "ball",
          "foul",
          "hit_into_play",
          "foul",
          "called_strike",
          "swinging_strike",
          "ball",
          "ball",
          "hit_into_play",
          "ball",
          "foul",
          "ball",
          "foul",
          "hit_into_play_score",
          "ball",
          "blocked_ball",
          "called_strike",
          "foul",
          "hit_into_play_no_out",
          "ball",
          "foul",
          "ball",
          "swinging_strike",
          "ball",
          "ball",
          "foul_tip",
          "ball",
          "foul",
          "foul",
          "foul",
          "foul",
          "foul",
          "ball",
          "foul",
          "swinging_strike",
          "hit_into_play_no_out",
          "hit_into_play",
          "ball",
          "ball",
          "ball",
          "foul",
          "foul_tip",
          "ball",
          "swinging_strike",
          "hit_into_play_no_out",
          "swinging_strike",
          "ball",
          "called_strike",
          "swinging_strike",
          "ball",
          "blocked_ball",
          "swinging_strike",
          "hit_into_play_no_out",
          "ball",
          "hit_into_play_no_out",
          "ball",
          "foul",
          "ball",
          "ball",
          "hit_into_play",
          "swinging_strike_blocked",
          "foul",
          "ball",
          "ball",
          "foul",
          "ball",
          "ball",
          "called_strike",
          "ball",
          "foul",
          "swinging_strike",
          "foul",
          "ball",
          "foul",
          "hit_into_play",
          "ball",
          "ball",
          "foul",
          "ball",
          "hit_into_play_score",
          "ball",
          "ball",
          "ball",
          "hit_into_play",
          "foul_tip",
          "foul",
          "hit_into_play",
          "foul",
          "ball",
          "foul",
          "foul",
          "hit_into_play",
          "hit_into_play",
          "hit_into_play",
          "ball",
          "foul",
          "ball",
          "swinging_strike",
          "swinging_strike",
          "foul",
          "ball",
          "hit_into_play",
          "ball",
          "hit_into_play",
          "ball",
          "swinging_strike",
          "ball",
          "ball",
          "swinging_strike_blocked",
          "ball",
          "foul",
          "hit_into_play",
          "ball",
          "foul_tip",
          "swinging_strike",
          "hit_into_play_score",
          "swinging_strike_blocked",
          "ball",
          "foul",
          "ball",
          "called_strike",
          "blocked_ball",
          "blocked_ball",
          "swinging_strike_blocked",
          "ball",
          "ball",
          "hit_into_play",
          "ball",
          "hit_into_play",
          "foul",
          "hit_into_play",
          "swinging_strike",
          "foul_tip",
          "foul",
          "foul",
          "called_strike",
          "hit_into_play_score",
          "foul",
          "foul"
         ],
         "marker": {
          "line": {
           "width": 2
          },
          "size": 10
         },
         "mode": "markers",
         "name": "Four Seam Fastball",
         "type": "scatter",
         "x": [
          1.08,
          -1.58,
          0.44,
          1.53,
          -0.64,
          0.36,
          -0.74,
          -1.16,
          -0.42,
          0.11,
          0.79,
          -0.1,
          -0.7,
          -0.29,
          -0.29,
          -0.71,
          -0.92,
          -0.3,
          -0.4,
          -0.06,
          -0.25,
          0.2,
          0.19,
          -0.43,
          -0.01,
          -0.36,
          -0.26,
          -0.97,
          -0.96,
          -0.68,
          -0.25,
          -0.94,
          -1.72,
          -1.09,
          -0.61,
          0.5,
          0.16,
          0.12,
          0.98,
          0.94,
          -0.3,
          -0.39,
          -0.46,
          -0.52,
          -0.23,
          -1.64,
          -0.15,
          0.02,
          0.89,
          0.21,
          -0.49,
          -0.53,
          -0.03,
          -0.36,
          -0.29,
          0,
          0.48,
          0.75,
          -0.05,
          1,
          -0.56,
          0.11,
          0.15,
          -0.7,
          -0.25,
          -0.05,
          -0.11,
          1.29,
          -0.13,
          -1.43,
          0.85,
          -0.25,
          0,
          1.36,
          0.52,
          -0.71,
          -0.62,
          -1.28,
          0.82,
          -0.06,
          -1.09,
          0.37,
          -0.83,
          -0.85,
          -0.11,
          0.82,
          0.2,
          0.04,
          -1.44,
          0.99,
          -0.7,
          -0.78,
          -0.62,
          -0.65,
          0.01,
          -0.74,
          0.56,
          -0.38,
          -0.06,
          -0.65,
          0.16,
          0.56,
          1.1,
          0.55,
          1.26,
          0.7,
          -0.65,
          0.44,
          -0.35,
          0.67,
          -0.95,
          -0.43,
          0.2,
          -1.11,
          0.76,
          0.63,
          0.05,
          -0.77,
          -0.67,
          -0.2,
          -1.32,
          0.36,
          1.2,
          -0.09,
          -0.15,
          -1.1,
          -2.09,
          -0.1,
          0.78,
          0.65,
          1.14,
          -0.92,
          1.99,
          -1.42,
          -0.37,
          -0.16,
          -0.97,
          -0.93,
          -1.12,
          -0.57,
          -0.71,
          -1,
          0.63,
          0.28,
          -0.58,
          -0.04,
          0.06,
          -0.86,
          0.36,
          -1.58,
          -0.46,
          0.43,
          0.75,
          -0.95,
          -0.06,
          0.73,
          -0.67,
          0.05,
          -0.7,
          1,
          1.47,
          -0.36,
          -1.44,
          -0.27,
          0.22,
          0.9,
          -0.87,
          -0.32,
          -0.95,
          -1.7,
          -0.42,
          -0.85,
          -0.09,
          0.34,
          -0.37,
          0.45,
          -0.65,
          -0.39,
          0.18,
          -1.54,
          -0.89,
          0.47,
          -0.72,
          -0.8,
          -0.33,
          -1.14,
          0.74,
          0,
          0,
          -0.8,
          -0.83,
          -0.25,
          0.92,
          0.03,
          -0.76,
          0.39,
          -0.13,
          -0.26,
          -0.36,
          -0.51,
          0.26,
          1.2,
          -0.61,
          -0.13,
          1.46,
          -0.04,
          0.42,
          -0.01,
          0.15,
          -0.41,
          -0.56,
          0.21,
          0.71,
          0.43,
          1.19,
          -0.07,
          0.81,
          0.25,
          0.14,
          -0.59,
          -0.04,
          0.23,
          -0.47
         ],
         "y": [
          2.42,
          3.51,
          2.61,
          2.17,
          3.03,
          1.52,
          3.28,
          3.2,
          2.76,
          2.46,
          1.81,
          3.68,
          3.78,
          1.67,
          2.93,
          1.41,
          3.45,
          3.71,
          4.58,
          5.08,
          3.64,
          4.1,
          2.84,
          1.89,
          2.05,
          3.96,
          2.78,
          4.35,
          3.4,
          2.59,
          2.48,
          2.1,
          3.54,
          4.15,
          3.37,
          2.29,
          2.67,
          3.04,
          2.77,
          2.45,
          4.14,
          3.2,
          2.11,
          3.43,
          3.25,
          3.74,
          3.45,
          2.02,
          3.04,
          2.16,
          5.06,
          2.09,
          3.5,
          3.42,
          3.22,
          3.3,
          4.2,
          2.37,
          2.84,
          1.54,
          4.15,
          3.41,
          3.49,
          3.62,
          2.14,
          3.9,
          3.06,
          1.79,
          3.38,
          2.57,
          2.2,
          4.4,
          3.1,
          3.03,
          2.65,
          2.68,
          3.17,
          4.72,
          3.51,
          2.1,
          3.6,
          2.25,
          4.57,
          3.92,
          1.73,
          1.5,
          2.83,
          2.62,
          3.77,
          2.88,
          3.71,
          2.71,
          3.86,
          2.63,
          4.01,
          5.02,
          3.16,
          3.88,
          2.23,
          2.39,
          2.43,
          2.85,
          3.19,
          3.78,
          2.14,
          3.76,
          3.22,
          2.59,
          3.13,
          2.72,
          2.72,
          3.69,
          3.02,
          3.19,
          1.87,
          3.93,
          2.71,
          2.85,
          3.51,
          3.86,
          4.73,
          3.56,
          3.66,
          2.52,
          2.5,
          3.2,
          3.06,
          2.87,
          2.77,
          2.74,
          4.33,
          2.8,
          2.24,
          3.87,
          3.81,
          3.69,
          5.09,
          3.11,
          4.25,
          4.02,
          3.65,
          3.14,
          1.47,
          4.24,
          3.37,
          2.51,
          3.39,
          3.01,
          1.75,
          3.51,
          2.81,
          2.81,
          3.72,
          4.21,
          3.46,
          2.9,
          3.03,
          3.14,
          2.05,
          3.24,
          3.17,
          3.05,
          4.05,
          2.85,
          2.92,
          2.54,
          1.85,
          2.87,
          4.13,
          4.63,
          2.24,
          4.02,
          3.19,
          2.7,
          2.99,
          2.89,
          2.75,
          2.88,
          2.7,
          4.04,
          3.49,
          3.78,
          2.85,
          3.78,
          2.08,
          2.87,
          2.83,
          4.45,
          3.05,
          4.27,
          2.35,
          4.35,
          1.76,
          3.43,
          2.09,
          3.53,
          2.91,
          2.87,
          3.39,
          3.39,
          2.46,
          2.6,
          3.22,
          3.36,
          0.85,
          3.76,
          3.3,
          3.63,
          3.52,
          2.83,
          3,
          2.84,
          2.61,
          1.74,
          2.37,
          2.3,
          1.8,
          2.69,
          2.46,
          3.24,
          3.69,
          2.37,
          3.48
         ]
        },
        {
         "hovertext": [
          "called_strike",
          "foul",
          "ball",
          "ball",
          "swinging_strike",
          "foul",
          "ball",
          "hit_into_play",
          "blocked_ball",
          "foul",
          "ball",
          "foul",
          "ball",
          "foul",
          "foul",
          "hit_into_play_no_out",
          "foul",
          "foul",
          "foul",
          "foul",
          "called_strike",
          "foul_tip",
          "ball",
          "hit_into_play",
          "swinging_strike",
          "swinging_strike",
          "swinging_strike",
          "called_strike",
          "ball",
          "blocked_ball",
          "foul",
          "swinging_strike",
          "swinging_strike",
          "swinging_strike",
          "ball",
          "foul",
          "ball",
          "swinging_strike",
          "ball",
          "foul",
          "ball",
          "swinging_strike",
          "swinging_strike",
          "blocked_ball",
          "swinging_strike",
          "ball",
          "hit_into_play",
          "foul",
          "ball",
          "ball",
          "swinging_strike_blocked",
          "foul",
          "ball",
          "hit_into_play",
          "foul_tip",
          "ball",
          "hit_into_play",
          "called_strike",
          "ball",
          "foul_tip",
          "blocked_ball",
          "foul",
          "blocked_ball",
          "swinging_strike",
          "foul",
          "ball",
          "hit_into_play",
          "ball",
          "ball",
          "swinging_strike",
          "ball",
          "swinging_strike",
          "foul",
          "swinging_strike",
          "swinging_strike",
          "ball",
          "swinging_strike",
          "hit_into_play",
          "ball",
          "swinging_strike",
          "foul",
          "ball",
          "ball",
          "hit_into_play",
          "ball",
          "swinging_strike",
          "foul_tip",
          "foul",
          "hit_into_play",
          "foul_tip",
          "ball",
          "ball",
          "foul_tip",
          "foul",
          "called_strike",
          "foul",
          "foul",
          "foul",
          "foul",
          "foul",
          "foul",
          "ball",
          "hit_into_play",
          "hit_into_play",
          "hit_into_play_no_out",
          "foul",
          "swinging_strike",
          "ball",
          "hit_into_play",
          "ball",
          "swinging_strike_blocked",
          "ball",
          "swinging_strike",
          "ball",
          "ball",
          "swinging_strike_blocked",
          "ball",
          "foul",
          "foul",
          "hit_into_play",
          "ball",
          "foul",
          "swinging_strike",
          "foul",
          "hit_into_play",
          "ball",
          "ball",
          "ball",
          "hit_into_play_no_out",
          "hit_into_play",
          "foul",
          "foul",
          "foul",
          "hit_into_play",
          "foul",
          "swinging_strike",
          "ball",
          "called_strike",
          "called_strike",
          "ball",
          "ball",
          "blocked_ball",
          "swinging_strike",
          "ball",
          "ball",
          "hit_into_play_no_out",
          "ball",
          "hit_into_play",
          "ball",
          "ball",
          "ball",
          "blocked_ball",
          "hit_into_play",
          "hit_into_play",
          "ball",
          "ball",
          "hit_into_play",
          "hit_into_play",
          "ball",
          "called_strike",
          "ball",
          "swinging_strike",
          "ball",
          "ball",
          "hit_into_play",
          "swinging_strike_blocked",
          "foul",
          "swinging_strike",
          "hit_into_play",
          "ball",
          "foul_tip",
          "hit_into_play",
          "blocked_ball",
          "hit_into_play_no_out",
          "ball",
          "foul",
          "swinging_strike",
          "swinging_strike",
          "ball",
          "swinging_strike",
          "hit_into_play",
          "hit_into_play",
          "swinging_strike_blocked",
          "foul",
          "hit_into_play",
          "ball",
          "ball",
          "swinging_strike",
          "foul",
          "ball",
          "hit_into_play",
          "ball",
          "swinging_strike",
          "ball",
          "hit_into_play",
          "ball",
          "foul",
          "foul",
          "swinging_strike",
          "ball",
          "ball",
          "called_strike",
          "ball",
          "foul",
          "foul",
          "swinging_strike_blocked",
          "hit_into_play",
          "ball",
          "foul",
          "hit_into_play",
          "ball",
          "hit_into_play",
          "hit_into_play_score",
          "swinging_strike",
          "hit_into_play_no_out",
          "ball",
          "hit_into_play",
          "hit_into_play",
          "swinging_strike_blocked",
          "ball",
          "hit_into_play_no_out",
          "swinging_strike",
          "foul",
          "foul",
          "swinging_strike",
          "foul",
          "foul",
          "ball",
          "foul_tip",
          "foul",
          "foul",
          "ball",
          "ball",
          "called_strike",
          "called_strike",
          "swinging_strike_blocked",
          "ball",
          "ball",
          "ball",
          "swinging_strike",
          "swinging_strike",
          "hit_into_play",
          "foul",
          "foul_tip",
          "hit_into_play_score",
          "blocked_ball",
          "hit_by_pitch",
          "hit_into_play",
          "swinging_strike",
          "hit_into_play",
          "swinging_strike",
          "swinging_strike",
          "hit_into_play_no_out",
          "hit_into_play_no_out",
          "swinging_strike",
          "ball",
          "blocked_ball",
          "swinging_strike",
          "foul",
          "ball",
          "foul",
          "hit_into_play",
          "hit_into_play_score",
          "ball",
          "called_strike",
          "ball",
          "ball",
          "called_strike",
          "ball",
          "swinging_strike_blocked",
          "ball",
          "called_strike",
          "foul",
          "ball",
          "hit_into_play",
          "swinging_strike",
          "hit_into_play",
          "ball",
          "ball",
          "foul",
          "ball",
          "ball",
          "hit_into_play",
          "ball",
          "swinging_strike",
          "ball",
          "ball",
          "swinging_strike",
          "hit_into_play",
          "hit_into_play_no_out",
          "ball",
          "foul",
          "ball",
          "swinging_strike",
          "swinging_strike",
          "swinging_strike",
          "ball",
          "foul",
          "hit_into_play_score",
          "called_strike",
          "foul",
          "ball",
          "hit_into_play",
          "ball",
          "swinging_strike",
          "ball",
          "ball",
          "hit_into_play",
          "ball",
          "foul",
          "foul",
          "ball",
          "foul",
          "swinging_strike",
          "ball",
          "swinging_strike",
          "ball",
          "foul",
          "foul",
          "foul",
          "swinging_strike",
          "called_strike",
          "ball",
          "ball",
          "swinging_strike",
          "foul",
          "blocked_ball",
          "hit_into_play",
          "ball",
          "ball",
          "hit_into_play",
          "swinging_strike_blocked",
          "ball",
          "foul",
          "ball",
          "hit_into_play_score",
          "hit_into_play",
          "foul",
          "ball",
          "swinging_strike",
          "called_strike",
          "hit_into_play",
          "foul",
          "ball",
          "swinging_strike_blocked",
          "swinging_strike",
          "swinging_strike",
          "hit_into_play",
          "ball",
          "foul",
          "swinging_strike",
          "ball",
          "foul",
          "hit_into_play_no_out",
          "hit_into_play",
          "swinging_strike",
          "swinging_strike",
          "hit_into_play",
          "hit_into_play",
          "ball",
          "foul",
          "hit_into_play",
          "foul",
          "called_strike",
          "swinging_strike",
          "ball",
          "ball",
          "hit_into_play",
          "ball",
          "foul",
          "ball",
          "foul",
          "hit_into_play_score",
          "ball",
          "blocked_ball",
          "called_strike",
          "foul",
          "hit_into_play_no_out",
          "ball",
          "foul",
          "ball",
          "swinging_strike",
          "ball",
          "ball",
          "foul_tip",
          "ball",
          "foul",
          "foul",
          "foul",
          "foul",
          "foul",
          "ball",
          "foul",
          "swinging_strike",
          "hit_into_play_no_out",
          "hit_into_play",
          "ball",
          "ball",
          "ball",
          "foul",
          "foul_tip",
          "ball",
          "swinging_strike",
          "hit_into_play_no_out",
          "swinging_strike",
          "ball",
          "called_strike",
          "swinging_strike",
          "ball",
          "blocked_ball",
          "swinging_strike",
          "hit_into_play_no_out",
          "ball",
          "hit_into_play_no_out",
          "ball",
          "foul",
          "ball",
          "ball",
          "hit_into_play",
          "swinging_strike_blocked",
          "foul",
          "ball",
          "ball",
          "foul",
          "ball",
          "ball",
          "called_strike",
          "ball",
          "foul",
          "swinging_strike",
          "foul",
          "ball",
          "foul",
          "hit_into_play",
          "ball",
          "ball",
          "foul",
          "ball",
          "hit_into_play_score",
          "ball",
          "ball",
          "ball",
          "hit_into_play",
          "foul_tip",
          "foul",
          "hit_into_play",
          "foul",
          "ball",
          "foul",
          "foul",
          "hit_into_play",
          "hit_into_play",
          "hit_into_play",
          "ball",
          "foul",
          "ball",
          "swinging_strike",
          "swinging_strike",
          "foul",
          "ball",
          "hit_into_play",
          "ball",
          "hit_into_play",
          "ball",
          "swinging_strike",
          "ball",
          "ball",
          "swinging_strike_blocked",
          "ball",
          "foul",
          "hit_into_play",
          "ball",
          "foul_tip",
          "swinging_strike",
          "hit_into_play_score",
          "swinging_strike_blocked",
          "ball",
          "foul",
          "ball",
          "called_strike",
          "blocked_ball",
          "blocked_ball",
          "swinging_strike_blocked",
          "ball",
          "ball",
          "hit_into_play",
          "ball",
          "hit_into_play",
          "foul",
          "hit_into_play",
          "swinging_strike",
          "foul_tip",
          "foul",
          "foul",
          "called_strike",
          "hit_into_play_score",
          "foul",
          "foul"
         ],
         "marker": {
          "line": {
           "width": 2
          },
          "size": 10
         },
         "mode": "markers",
         "name": "Slider",
         "type": "scatter",
         "x": [
          0.47,
          0.22,
          0.91,
          1.3,
          0.86,
          1.21,
          1.12,
          0.94,
          0.48,
          1.1,
          2.07,
          2.08,
          0.51,
          -0.39,
          1.95,
          0.46,
          2.29,
          1.24,
          0.12,
          0.62,
          0.06,
          1.75,
          1.3,
          0.75,
          1.09,
          1.67,
          0.95,
          1.06,
          0.53,
          1.44,
          0.64,
          0.58,
          0.34,
          0.93,
          1.29,
          0.91,
          1.12,
          0.51,
          0.86,
          1.52,
          0.72,
          1.22,
          1.53,
          0.76,
          1.31,
          0.28,
          0.89,
          1.12,
          1.61,
          1.05,
          2.42,
          -0.53,
          1.21,
          1.21,
          -0.42,
          1.51,
          2.04,
          0.6,
          0.96,
          1.3,
          1.91,
          0.47,
          1.55,
          2.79,
          3.01,
          0.46,
          0.23,
          2.49,
          2.23,
          0.55,
          0.79,
          0.84,
          -0.77,
          0.5,
          1,
          -0.17,
          1.88,
          1.32,
          1.05,
          3.08,
          1.22,
          -0.44,
          0.7,
          1.45,
          0.89,
          0.11,
          0.99,
          0.83,
          1.23,
          0.6,
          0.77,
          0.96,
          1,
          0.2,
          0.04,
          0.85,
          1.71,
          1.32,
          -0.12,
          0.91,
          -0.04,
          0.96,
          2.44,
          1.02,
          1.18,
          0.86,
          1.43,
          0.96,
          0.37,
          0.92,
          0.98,
          0.93,
          0.43,
          1.98,
          0.36,
          1.53,
          1.18,
          1.09,
          1.6,
          0.22,
          0.8,
          1.33,
          1.05,
          1.63,
          2.05,
          -0.2,
          0.44,
          0.87,
          1.23,
          0.12,
          0.39,
          1.22,
          0.84,
          -0.39,
          0.96,
          -0.19,
          1.46,
          -0.57,
          1.71,
          0.61,
          1.67,
          1.53,
          0.13,
          1.24,
          2.54,
          1.02,
          -0.07,
          2.17,
          0.54,
          -0.39,
          0.13,
          1.04,
          -0.07,
          1.18,
          0.81
         ],
         "y": [
          2.6,
          3.63,
          2.32,
          -1.4,
          1.51,
          2.36,
          0.03,
          1.62,
          1.78,
          2.08,
          0.24,
          -0.39,
          3.57,
          3.06,
          -0.32,
          2.71,
          -0.63,
          2.05,
          2.03,
          2.14,
          2.01,
          0.49,
          1.21,
          1.25,
          0.71,
          -0.31,
          1,
          1.78,
          1.69,
          1.54,
          1.87,
          2.11,
          2.2,
          0.88,
          -0.94,
          2.19,
          1.69,
          1.55,
          1.14,
          1.63,
          1.08,
          0.41,
          2.44,
          2.49,
          2.5,
          2.64,
          1.03,
          1.5,
          0.34,
          0.92,
          1.24,
          2.05,
          1.45,
          2.24,
          2.63,
          0.96,
          1.75,
          3.42,
          1.05,
          0.86,
          0.17,
          2.95,
          0.05,
          1.06,
          -0.26,
          1.93,
          2.26,
          0.17,
          -0.01,
          1.08,
          0.9,
          1.35,
          3.11,
          2.15,
          1.88,
          1.66,
          0.74,
          2.46,
          1.99,
          0.84,
          0.43,
          3.58,
          1.92,
          1.26,
          1.63,
          1.83,
          2.52,
          1.33,
          2.58,
          1.68,
          1.92,
          1.97,
          1.68,
          1.97,
          2.56,
          3.1,
          0.85,
          2.15,
          2.98,
          1.91,
          2.09,
          0.89,
          -0.07,
          2.04,
          2.8,
          1.47,
          0.81,
          1.18,
          1.13,
          1.93,
          1.08,
          1.18,
          2.47,
          0.59,
          1.89,
          1.27,
          0.66,
          1.31,
          1.19,
          2.38,
          2.06,
          0.98,
          2.05,
          0.06,
          0.52,
          1.93,
          2.72,
          1.6,
          1.37,
          3.02,
          2.39,
          3.57,
          0.08,
          3.51,
          1.27,
          3.08,
          0.51,
          3.72,
          -0.32,
          2.22,
          -1.35,
          0.13,
          1.33,
          2.91,
          0.67,
          0.59,
          3.63,
          -0.27,
          1.44,
          2.69,
          1.59,
          1.07,
          3.23,
          2.33,
          1.46
         ]
        },
        {
         "hovertext": [
          "called_strike",
          "foul",
          "ball",
          "ball",
          "swinging_strike",
          "foul",
          "ball",
          "hit_into_play",
          "blocked_ball",
          "foul",
          "ball",
          "foul",
          "ball",
          "foul",
          "foul",
          "hit_into_play_no_out",
          "foul",
          "foul",
          "foul",
          "foul",
          "called_strike",
          "foul_tip",
          "ball",
          "hit_into_play",
          "swinging_strike",
          "swinging_strike",
          "swinging_strike",
          "called_strike",
          "ball",
          "blocked_ball",
          "foul",
          "swinging_strike",
          "swinging_strike",
          "swinging_strike",
          "ball",
          "foul",
          "ball",
          "swinging_strike",
          "ball",
          "foul",
          "ball",
          "swinging_strike",
          "swinging_strike",
          "blocked_ball",
          "swinging_strike",
          "ball",
          "hit_into_play",
          "foul",
          "ball",
          "ball",
          "swinging_strike_blocked",
          "foul",
          "ball",
          "hit_into_play",
          "foul_tip",
          "ball",
          "hit_into_play",
          "called_strike",
          "ball",
          "foul_tip",
          "blocked_ball",
          "foul",
          "blocked_ball",
          "swinging_strike",
          "foul",
          "ball",
          "hit_into_play",
          "ball",
          "ball",
          "swinging_strike",
          "ball",
          "swinging_strike",
          "foul",
          "swinging_strike",
          "swinging_strike",
          "ball",
          "swinging_strike",
          "hit_into_play",
          "ball",
          "swinging_strike",
          "foul",
          "ball",
          "ball",
          "hit_into_play",
          "ball",
          "swinging_strike",
          "foul_tip",
          "foul",
          "hit_into_play",
          "foul_tip",
          "ball",
          "ball",
          "foul_tip",
          "foul",
          "called_strike",
          "foul",
          "foul",
          "foul",
          "foul",
          "foul",
          "foul",
          "ball",
          "hit_into_play",
          "hit_into_play",
          "hit_into_play_no_out",
          "foul",
          "swinging_strike",
          "ball",
          "hit_into_play",
          "ball",
          "swinging_strike_blocked",
          "ball",
          "swinging_strike",
          "ball",
          "ball",
          "swinging_strike_blocked",
          "ball",
          "foul",
          "foul",
          "hit_into_play",
          "ball",
          "foul",
          "swinging_strike",
          "foul",
          "hit_into_play",
          "ball",
          "ball",
          "ball",
          "hit_into_play_no_out",
          "hit_into_play",
          "foul",
          "foul",
          "foul",
          "hit_into_play",
          "foul",
          "swinging_strike",
          "ball",
          "called_strike",
          "called_strike",
          "ball",
          "ball",
          "blocked_ball",
          "swinging_strike",
          "ball",
          "ball",
          "hit_into_play_no_out",
          "ball",
          "hit_into_play",
          "ball",
          "ball",
          "ball",
          "blocked_ball",
          "hit_into_play",
          "hit_into_play",
          "ball",
          "ball",
          "hit_into_play",
          "hit_into_play",
          "ball",
          "called_strike",
          "ball",
          "swinging_strike",
          "ball",
          "ball",
          "hit_into_play",
          "swinging_strike_blocked",
          "foul",
          "swinging_strike",
          "hit_into_play",
          "ball",
          "foul_tip",
          "hit_into_play",
          "blocked_ball",
          "hit_into_play_no_out",
          "ball",
          "foul",
          "swinging_strike",
          "swinging_strike",
          "ball",
          "swinging_strike",
          "hit_into_play",
          "hit_into_play",
          "swinging_strike_blocked",
          "foul",
          "hit_into_play",
          "ball",
          "ball",
          "swinging_strike",
          "foul",
          "ball",
          "hit_into_play",
          "ball",
          "swinging_strike",
          "ball",
          "hit_into_play",
          "ball",
          "foul",
          "foul",
          "swinging_strike",
          "ball",
          "ball",
          "called_strike",
          "ball",
          "foul",
          "foul",
          "swinging_strike_blocked",
          "hit_into_play",
          "ball",
          "foul",
          "hit_into_play",
          "ball",
          "hit_into_play",
          "hit_into_play_score",
          "swinging_strike",
          "hit_into_play_no_out",
          "ball",
          "hit_into_play",
          "hit_into_play",
          "swinging_strike_blocked",
          "ball",
          "hit_into_play_no_out",
          "swinging_strike",
          "foul",
          "foul",
          "swinging_strike",
          "foul",
          "foul",
          "ball",
          "foul_tip",
          "foul",
          "foul",
          "ball",
          "ball",
          "called_strike",
          "called_strike",
          "swinging_strike_blocked",
          "ball",
          "ball",
          "ball",
          "swinging_strike",
          "swinging_strike",
          "hit_into_play",
          "foul",
          "foul_tip",
          "hit_into_play_score",
          "blocked_ball",
          "hit_by_pitch",
          "hit_into_play",
          "swinging_strike",
          "hit_into_play",
          "swinging_strike",
          "swinging_strike",
          "hit_into_play_no_out",
          "hit_into_play_no_out",
          "swinging_strike",
          "ball",
          "blocked_ball",
          "swinging_strike",
          "foul",
          "ball",
          "foul",
          "hit_into_play",
          "hit_into_play_score",
          "ball",
          "called_strike",
          "ball",
          "ball",
          "called_strike",
          "ball",
          "swinging_strike_blocked",
          "ball",
          "called_strike",
          "foul",
          "ball",
          "hit_into_play",
          "swinging_strike",
          "hit_into_play",
          "ball",
          "ball",
          "foul",
          "ball",
          "ball",
          "hit_into_play",
          "ball",
          "swinging_strike",
          "ball",
          "ball",
          "swinging_strike",
          "hit_into_play",
          "hit_into_play_no_out",
          "ball",
          "foul",
          "ball",
          "swinging_strike",
          "swinging_strike",
          "swinging_strike",
          "ball",
          "foul",
          "hit_into_play_score",
          "called_strike",
          "foul",
          "ball",
          "hit_into_play",
          "ball",
          "swinging_strike",
          "ball",
          "ball",
          "hit_into_play",
          "ball",
          "foul",
          "foul",
          "ball",
          "foul",
          "swinging_strike",
          "ball",
          "swinging_strike",
          "ball",
          "foul",
          "foul",
          "foul",
          "swinging_strike",
          "called_strike",
          "ball",
          "ball",
          "swinging_strike",
          "foul",
          "blocked_ball",
          "hit_into_play",
          "ball",
          "ball",
          "hit_into_play",
          "swinging_strike_blocked",
          "ball",
          "foul",
          "ball",
          "hit_into_play_score",
          "hit_into_play",
          "foul",
          "ball",
          "swinging_strike",
          "called_strike",
          "hit_into_play",
          "foul",
          "ball",
          "swinging_strike_blocked",
          "swinging_strike",
          "swinging_strike",
          "hit_into_play",
          "ball",
          "foul",
          "swinging_strike",
          "ball",
          "foul",
          "hit_into_play_no_out",
          "hit_into_play",
          "swinging_strike",
          "swinging_strike",
          "hit_into_play",
          "hit_into_play",
          "ball",
          "foul",
          "hit_into_play",
          "foul",
          "called_strike",
          "swinging_strike",
          "ball",
          "ball",
          "hit_into_play",
          "ball",
          "foul",
          "ball",
          "foul",
          "hit_into_play_score",
          "ball",
          "blocked_ball",
          "called_strike",
          "foul",
          "hit_into_play_no_out",
          "ball",
          "foul",
          "ball",
          "swinging_strike",
          "ball",
          "ball",
          "foul_tip",
          "ball",
          "foul",
          "foul",
          "foul",
          "foul",
          "foul",
          "ball",
          "foul",
          "swinging_strike",
          "hit_into_play_no_out",
          "hit_into_play",
          "ball",
          "ball",
          "ball",
          "foul",
          "foul_tip",
          "ball",
          "swinging_strike",
          "hit_into_play_no_out",
          "swinging_strike",
          "ball",
          "called_strike",
          "swinging_strike",
          "ball",
          "blocked_ball",
          "swinging_strike",
          "hit_into_play_no_out",
          "ball",
          "hit_into_play_no_out",
          "ball",
          "foul",
          "ball",
          "ball",
          "hit_into_play",
          "swinging_strike_blocked",
          "foul",
          "ball",
          "ball",
          "foul",
          "ball",
          "ball",
          "called_strike",
          "ball",
          "foul",
          "swinging_strike",
          "foul",
          "ball",
          "foul",
          "hit_into_play",
          "ball",
          "ball",
          "foul",
          "ball",
          "hit_into_play_score",
          "ball",
          "ball",
          "ball",
          "hit_into_play",
          "foul_tip",
          "foul",
          "hit_into_play",
          "foul",
          "ball",
          "foul",
          "foul",
          "hit_into_play",
          "hit_into_play",
          "hit_into_play",
          "ball",
          "foul",
          "ball",
          "swinging_strike",
          "swinging_strike",
          "foul",
          "ball",
          "hit_into_play",
          "ball",
          "hit_into_play",
          "ball",
          "swinging_strike",
          "ball",
          "ball",
          "swinging_strike_blocked",
          "ball",
          "foul",
          "hit_into_play",
          "ball",
          "foul_tip",
          "swinging_strike",
          "hit_into_play_score",
          "swinging_strike_blocked",
          "ball",
          "foul",
          "ball",
          "called_strike",
          "blocked_ball",
          "blocked_ball",
          "swinging_strike_blocked",
          "ball",
          "ball",
          "hit_into_play",
          "ball",
          "hit_into_play",
          "foul",
          "hit_into_play",
          "swinging_strike",
          "foul_tip",
          "foul",
          "foul",
          "called_strike",
          "hit_into_play_score",
          "foul",
          "foul"
         ],
         "marker": {
          "line": {
           "width": 2
          },
          "size": 10
         },
         "mode": "markers",
         "name": "Knuckle Curve",
         "type": "scatter",
         "x": [
          0.92,
          -0.4,
          0.2,
          0.18,
          1.32,
          1.81,
          0.52,
          -0.1,
          0.63,
          0.84,
          1.89,
          1.23,
          0.39,
          0.87,
          1.12,
          0.81,
          0.28,
          1.46,
          0.21,
          -0.56,
          1.08,
          -0.72,
          0.21,
          0.09,
          0.44,
          -0.4,
          1.14,
          1.4,
          0.63,
          -0.16,
          0.36,
          0.77,
          0.73,
          1.55,
          0.76,
          2.18,
          0.87,
          0.17,
          0.94,
          0.48,
          -0.86,
          0.14,
          -0.45,
          0.02,
          1.31,
          0.75,
          0.36,
          0.94,
          0.41,
          -0.09,
          0.29,
          -0.74,
          -0.26,
          0.08,
          0.14,
          0.46,
          -0.61,
          1.89,
          1.32,
          1.56,
          0.45,
          -0.16,
          0.57,
          3.3,
          0.42,
          0.75,
          1.86,
          0.14,
          -0.14,
          0.2,
          -0.47,
          1.46,
          1.02,
          0.42,
          -0.31,
          0.81,
          -0.11,
          1.22,
          -0.25,
          1,
          0.84,
          -0.32,
          2.49,
          0.83,
          0.78,
          1.29,
          1.21,
          0.76,
          1.12,
          0.2,
          0.54,
          0.46,
          0.56,
          0.75,
          1.12
         ],
         "y": [
          2.03,
          2.08,
          1.41,
          1.47,
          2.34,
          -1.4,
          1.75,
          1.99,
          -0.12,
          -0.83,
          -0.48,
          1.42,
          1.84,
          2.44,
          0.5,
          1.16,
          3.21,
          -0.19,
          1.04,
          0.33,
          1.39,
          2.38,
          1.32,
          1.78,
          1.04,
          2.09,
          -1.25,
          0.5,
          1.93,
          2.33,
          1.8,
          -0.82,
          1.81,
          0.14,
          0.87,
          0.81,
          1.44,
          1.22,
          0.65,
          1.85,
          3.96,
          1.97,
          4.55,
          0.53,
          0.92,
          -0.31,
          1.28,
          0.83,
          1.57,
          0.89,
          1.02,
          2.53,
          1.55,
          1.11,
          1.81,
          0.79,
          2.83,
          -0.52,
          0,
          0.09,
          2.57,
          3.9,
          1.32,
          -1.17,
          1.31,
          1.48,
          -1.57,
          0.69,
          0.55,
          2.54,
          0.48,
          2.07,
          0.79,
          0.7,
          1.62,
          1.42,
          2.74,
          0.92,
          3.57,
          -0.09,
          -0.42,
          1.59,
          0.84,
          0.61,
          1.36,
          0.47,
          -0.89,
          1.99,
          0.85,
          1.55,
          0.61,
          0.15,
          0.17,
          0.09,
          0.38
         ]
        },
        {
         "hovertext": [
          "called_strike",
          "foul",
          "ball",
          "ball",
          "swinging_strike",
          "foul",
          "ball",
          "hit_into_play",
          "blocked_ball",
          "foul",
          "ball",
          "foul",
          "ball",
          "foul",
          "foul",
          "hit_into_play_no_out",
          "foul",
          "foul",
          "foul",
          "foul",
          "called_strike",
          "foul_tip",
          "ball",
          "hit_into_play",
          "swinging_strike",
          "swinging_strike",
          "swinging_strike",
          "called_strike",
          "ball",
          "blocked_ball",
          "foul",
          "swinging_strike",
          "swinging_strike",
          "swinging_strike",
          "ball",
          "foul",
          "ball",
          "swinging_strike",
          "ball",
          "foul",
          "ball",
          "swinging_strike",
          "swinging_strike",
          "blocked_ball",
          "swinging_strike",
          "ball",
          "hit_into_play",
          "foul",
          "ball",
          "ball",
          "swinging_strike_blocked",
          "foul",
          "ball",
          "hit_into_play",
          "foul_tip",
          "ball",
          "hit_into_play",
          "called_strike",
          "ball",
          "foul_tip",
          "blocked_ball",
          "foul",
          "blocked_ball",
          "swinging_strike",
          "foul",
          "ball",
          "hit_into_play",
          "ball",
          "ball",
          "swinging_strike",
          "ball",
          "swinging_strike",
          "foul",
          "swinging_strike",
          "swinging_strike",
          "ball",
          "swinging_strike",
          "hit_into_play",
          "ball",
          "swinging_strike",
          "foul",
          "ball",
          "ball",
          "hit_into_play",
          "ball",
          "swinging_strike",
          "foul_tip",
          "foul",
          "hit_into_play",
          "foul_tip",
          "ball",
          "ball",
          "foul_tip",
          "foul",
          "called_strike",
          "foul",
          "foul",
          "foul",
          "foul",
          "foul",
          "foul",
          "ball",
          "hit_into_play",
          "hit_into_play",
          "hit_into_play_no_out",
          "foul",
          "swinging_strike",
          "ball",
          "hit_into_play",
          "ball",
          "swinging_strike_blocked",
          "ball",
          "swinging_strike",
          "ball",
          "ball",
          "swinging_strike_blocked",
          "ball",
          "foul",
          "foul",
          "hit_into_play",
          "ball",
          "foul",
          "swinging_strike",
          "foul",
          "hit_into_play",
          "ball",
          "ball",
          "ball",
          "hit_into_play_no_out",
          "hit_into_play",
          "foul",
          "foul",
          "foul",
          "hit_into_play",
          "foul",
          "swinging_strike",
          "ball",
          "called_strike",
          "called_strike",
          "ball",
          "ball",
          "blocked_ball",
          "swinging_strike",
          "ball",
          "ball",
          "hit_into_play_no_out",
          "ball",
          "hit_into_play",
          "ball",
          "ball",
          "ball",
          "blocked_ball",
          "hit_into_play",
          "hit_into_play",
          "ball",
          "ball",
          "hit_into_play",
          "hit_into_play",
          "ball",
          "called_strike",
          "ball",
          "swinging_strike",
          "ball",
          "ball",
          "hit_into_play",
          "swinging_strike_blocked",
          "foul",
          "swinging_strike",
          "hit_into_play",
          "ball",
          "foul_tip",
          "hit_into_play",
          "blocked_ball",
          "hit_into_play_no_out",
          "ball",
          "foul",
          "swinging_strike",
          "swinging_strike",
          "ball",
          "swinging_strike",
          "hit_into_play",
          "hit_into_play",
          "swinging_strike_blocked",
          "foul",
          "hit_into_play",
          "ball",
          "ball",
          "swinging_strike",
          "foul",
          "ball",
          "hit_into_play",
          "ball",
          "swinging_strike",
          "ball",
          "hit_into_play",
          "ball",
          "foul",
          "foul",
          "swinging_strike",
          "ball",
          "ball",
          "called_strike",
          "ball",
          "foul",
          "foul",
          "swinging_strike_blocked",
          "hit_into_play",
          "ball",
          "foul",
          "hit_into_play",
          "ball",
          "hit_into_play",
          "hit_into_play_score",
          "swinging_strike",
          "hit_into_play_no_out",
          "ball",
          "hit_into_play",
          "hit_into_play",
          "swinging_strike_blocked",
          "ball",
          "hit_into_play_no_out",
          "swinging_strike",
          "foul",
          "foul",
          "swinging_strike",
          "foul",
          "foul",
          "ball",
          "foul_tip",
          "foul",
          "foul",
          "ball",
          "ball",
          "called_strike",
          "called_strike",
          "swinging_strike_blocked",
          "ball",
          "ball",
          "ball",
          "swinging_strike",
          "swinging_strike",
          "hit_into_play",
          "foul",
          "foul_tip",
          "hit_into_play_score",
          "blocked_ball",
          "hit_by_pitch",
          "hit_into_play",
          "swinging_strike",
          "hit_into_play",
          "swinging_strike",
          "swinging_strike",
          "hit_into_play_no_out",
          "hit_into_play_no_out",
          "swinging_strike",
          "ball",
          "blocked_ball",
          "swinging_strike",
          "foul",
          "ball",
          "foul",
          "hit_into_play",
          "hit_into_play_score",
          "ball",
          "called_strike",
          "ball",
          "ball",
          "called_strike",
          "ball",
          "swinging_strike_blocked",
          "ball",
          "called_strike",
          "foul",
          "ball",
          "hit_into_play",
          "swinging_strike",
          "hit_into_play",
          "ball",
          "ball",
          "foul",
          "ball",
          "ball",
          "hit_into_play",
          "ball",
          "swinging_strike",
          "ball",
          "ball",
          "swinging_strike",
          "hit_into_play",
          "hit_into_play_no_out",
          "ball",
          "foul",
          "ball",
          "swinging_strike",
          "swinging_strike",
          "swinging_strike",
          "ball",
          "foul",
          "hit_into_play_score",
          "called_strike",
          "foul",
          "ball",
          "hit_into_play",
          "ball",
          "swinging_strike",
          "ball",
          "ball",
          "hit_into_play",
          "ball",
          "foul",
          "foul",
          "ball",
          "foul",
          "swinging_strike",
          "ball",
          "swinging_strike",
          "ball",
          "foul",
          "foul",
          "foul",
          "swinging_strike",
          "called_strike",
          "ball",
          "ball",
          "swinging_strike",
          "foul",
          "blocked_ball",
          "hit_into_play",
          "ball",
          "ball",
          "hit_into_play",
          "swinging_strike_blocked",
          "ball",
          "foul",
          "ball",
          "hit_into_play_score",
          "hit_into_play",
          "foul",
          "ball",
          "swinging_strike",
          "called_strike",
          "hit_into_play",
          "foul",
          "ball",
          "swinging_strike_blocked",
          "swinging_strike",
          "swinging_strike",
          "hit_into_play",
          "ball",
          "foul",
          "swinging_strike",
          "ball",
          "foul",
          "hit_into_play_no_out",
          "hit_into_play",
          "swinging_strike",
          "swinging_strike",
          "hit_into_play",
          "hit_into_play",
          "ball",
          "foul",
          "hit_into_play",
          "foul",
          "called_strike",
          "swinging_strike",
          "ball",
          "ball",
          "hit_into_play",
          "ball",
          "foul",
          "ball",
          "foul",
          "hit_into_play_score",
          "ball",
          "blocked_ball",
          "called_strike",
          "foul",
          "hit_into_play_no_out",
          "ball",
          "foul",
          "ball",
          "swinging_strike",
          "ball",
          "ball",
          "foul_tip",
          "ball",
          "foul",
          "foul",
          "foul",
          "foul",
          "foul",
          "ball",
          "foul",
          "swinging_strike",
          "hit_into_play_no_out",
          "hit_into_play",
          "ball",
          "ball",
          "ball",
          "foul",
          "foul_tip",
          "ball",
          "swinging_strike",
          "hit_into_play_no_out",
          "swinging_strike",
          "ball",
          "called_strike",
          "swinging_strike",
          "ball",
          "blocked_ball",
          "swinging_strike",
          "hit_into_play_no_out",
          "ball",
          "hit_into_play_no_out",
          "ball",
          "foul",
          "ball",
          "ball",
          "hit_into_play",
          "swinging_strike_blocked",
          "foul",
          "ball",
          "ball",
          "foul",
          "ball",
          "ball",
          "called_strike",
          "ball",
          "foul",
          "swinging_strike",
          "foul",
          "ball",
          "foul",
          "hit_into_play",
          "ball",
          "ball",
          "foul",
          "ball",
          "hit_into_play_score",
          "ball",
          "ball",
          "ball",
          "hit_into_play",
          "foul_tip",
          "foul",
          "hit_into_play",
          "foul",
          "ball",
          "foul",
          "foul",
          "hit_into_play",
          "hit_into_play",
          "hit_into_play",
          "ball",
          "foul",
          "ball",
          "swinging_strike",
          "swinging_strike",
          "foul",
          "ball",
          "hit_into_play",
          "ball",
          "hit_into_play",
          "ball",
          "swinging_strike",
          "ball",
          "ball",
          "swinging_strike_blocked",
          "ball",
          "foul",
          "hit_into_play",
          "ball",
          "foul_tip",
          "swinging_strike",
          "hit_into_play_score",
          "swinging_strike_blocked",
          "ball",
          "foul",
          "ball",
          "called_strike",
          "blocked_ball",
          "blocked_ball",
          "swinging_strike_blocked",
          "ball",
          "ball",
          "hit_into_play",
          "ball",
          "hit_into_play",
          "foul",
          "hit_into_play",
          "swinging_strike",
          "foul_tip",
          "foul",
          "foul",
          "called_strike",
          "hit_into_play_score",
          "foul",
          "foul"
         ],
         "marker": {
          "line": {
           "width": 2
          },
          "size": 10
         },
         "mode": "markers",
         "name": "Changeup",
         "type": "scatter",
         "x": [
          -0.75,
          -0.46,
          -0.28,
          0.53,
          -0.75,
          -1.42,
          0.59,
          -0.04,
          -1.15,
          0.26,
          0.21,
          -0.02,
          0.82,
          -0.11,
          -0.12,
          -0.03,
          -1.17,
          0.03,
          -1.85,
          1.4,
          0.41,
          -0.95,
          -1.18,
          -0.99,
          -0.68
         ],
         "y": [
          0.86,
          2.64,
          1.03,
          0.15,
          3.11,
          2.62,
          1.64,
          0.47,
          3.49,
          2.84,
          0.77,
          0.76,
          0.38,
          2.07,
          1.7,
          0.28,
          1.95,
          1.77,
          2.69,
          0.4,
          1.44,
          2.61,
          2.63,
          0.77,
          0.23
         ]
        }
       ],
       "layout": {
        "height": 700,
        "template": {
         "data": {
          "bar": [
           {
            "error_x": {
             "color": "#2a3f5f"
            },
            "error_y": {
             "color": "#2a3f5f"
            },
            "marker": {
             "line": {
              "color": "#E5ECF6",
              "width": 0.5
             }
            },
            "type": "bar"
           }
          ],
          "barpolar": [
           {
            "marker": {
             "line": {
              "color": "#E5ECF6",
              "width": 0.5
             }
            },
            "type": "barpolar"
           }
          ],
          "carpet": [
           {
            "aaxis": {
             "endlinecolor": "#2a3f5f",
             "gridcolor": "white",
             "linecolor": "white",
             "minorgridcolor": "white",
             "startlinecolor": "#2a3f5f"
            },
            "baxis": {
             "endlinecolor": "#2a3f5f",
             "gridcolor": "white",
             "linecolor": "white",
             "minorgridcolor": "white",
             "startlinecolor": "#2a3f5f"
            },
            "type": "carpet"
           }
          ],
          "choropleth": [
           {
            "colorbar": {
             "outlinewidth": 0,
             "ticks": ""
            },
            "type": "choropleth"
           }
          ],
          "contour": [
           {
            "colorbar": {
             "outlinewidth": 0,
             "ticks": ""
            },
            "colorscale": [
             [
              0,
              "#0d0887"
             ],
             [
              0.1111111111111111,
              "#46039f"
             ],
             [
              0.2222222222222222,
              "#7201a8"
             ],
             [
              0.3333333333333333,
              "#9c179e"
             ],
             [
              0.4444444444444444,
              "#bd3786"
             ],
             [
              0.5555555555555556,
              "#d8576b"
             ],
             [
              0.6666666666666666,
              "#ed7953"
             ],
             [
              0.7777777777777778,
              "#fb9f3a"
             ],
             [
              0.8888888888888888,
              "#fdca26"
             ],
             [
              1,
              "#f0f921"
             ]
            ],
            "type": "contour"
           }
          ],
          "contourcarpet": [
           {
            "colorbar": {
             "outlinewidth": 0,
             "ticks": ""
            },
            "type": "contourcarpet"
           }
          ],
          "heatmap": [
           {
            "colorbar": {
             "outlinewidth": 0,
             "ticks": ""
            },
            "colorscale": [
             [
              0,
              "#0d0887"
             ],
             [
              0.1111111111111111,
              "#46039f"
             ],
             [
              0.2222222222222222,
              "#7201a8"
             ],
             [
              0.3333333333333333,
              "#9c179e"
             ],
             [
              0.4444444444444444,
              "#bd3786"
             ],
             [
              0.5555555555555556,
              "#d8576b"
             ],
             [
              0.6666666666666666,
              "#ed7953"
             ],
             [
              0.7777777777777778,
              "#fb9f3a"
             ],
             [
              0.8888888888888888,
              "#fdca26"
             ],
             [
              1,
              "#f0f921"
             ]
            ],
            "type": "heatmap"
           }
          ],
          "heatmapgl": [
           {
            "colorbar": {
             "outlinewidth": 0,
             "ticks": ""
            },
            "colorscale": [
             [
              0,
              "#0d0887"
             ],
             [
              0.1111111111111111,
              "#46039f"
             ],
             [
              0.2222222222222222,
              "#7201a8"
             ],
             [
              0.3333333333333333,
              "#9c179e"
             ],
             [
              0.4444444444444444,
              "#bd3786"
             ],
             [
              0.5555555555555556,
              "#d8576b"
             ],
             [
              0.6666666666666666,
              "#ed7953"
             ],
             [
              0.7777777777777778,
              "#fb9f3a"
             ],
             [
              0.8888888888888888,
              "#fdca26"
             ],
             [
              1,
              "#f0f921"
             ]
            ],
            "type": "heatmapgl"
           }
          ],
          "histogram": [
           {
            "marker": {
             "colorbar": {
              "outlinewidth": 0,
              "ticks": ""
             }
            },
            "type": "histogram"
           }
          ],
          "histogram2d": [
           {
            "colorbar": {
             "outlinewidth": 0,
             "ticks": ""
            },
            "colorscale": [
             [
              0,
              "#0d0887"
             ],
             [
              0.1111111111111111,
              "#46039f"
             ],
             [
              0.2222222222222222,
              "#7201a8"
             ],
             [
              0.3333333333333333,
              "#9c179e"
             ],
             [
              0.4444444444444444,
              "#bd3786"
             ],
             [
              0.5555555555555556,
              "#d8576b"
             ],
             [
              0.6666666666666666,
              "#ed7953"
             ],
             [
              0.7777777777777778,
              "#fb9f3a"
             ],
             [
              0.8888888888888888,
              "#fdca26"
             ],
             [
              1,
              "#f0f921"
             ]
            ],
            "type": "histogram2d"
           }
          ],
          "histogram2dcontour": [
           {
            "colorbar": {
             "outlinewidth": 0,
             "ticks": ""
            },
            "colorscale": [
             [
              0,
              "#0d0887"
             ],
             [
              0.1111111111111111,
              "#46039f"
             ],
             [
              0.2222222222222222,
              "#7201a8"
             ],
             [
              0.3333333333333333,
              "#9c179e"
             ],
             [
              0.4444444444444444,
              "#bd3786"
             ],
             [
              0.5555555555555556,
              "#d8576b"
             ],
             [
              0.6666666666666666,
              "#ed7953"
             ],
             [
              0.7777777777777778,
              "#fb9f3a"
             ],
             [
              0.8888888888888888,
              "#fdca26"
             ],
             [
              1,
              "#f0f921"
             ]
            ],
            "type": "histogram2dcontour"
           }
          ],
          "mesh3d": [
           {
            "colorbar": {
             "outlinewidth": 0,
             "ticks": ""
            },
            "type": "mesh3d"
           }
          ],
          "parcoords": [
           {
            "line": {
             "colorbar": {
              "outlinewidth": 0,
              "ticks": ""
             }
            },
            "type": "parcoords"
           }
          ],
          "pie": [
           {
            "automargin": true,
            "type": "pie"
           }
          ],
          "scatter": [
           {
            "marker": {
             "colorbar": {
              "outlinewidth": 0,
              "ticks": ""
             }
            },
            "type": "scatter"
           }
          ],
          "scatter3d": [
           {
            "line": {
             "colorbar": {
              "outlinewidth": 0,
              "ticks": ""
             }
            },
            "marker": {
             "colorbar": {
              "outlinewidth": 0,
              "ticks": ""
             }
            },
            "type": "scatter3d"
           }
          ],
          "scattercarpet": [
           {
            "marker": {
             "colorbar": {
              "outlinewidth": 0,
              "ticks": ""
             }
            },
            "type": "scattercarpet"
           }
          ],
          "scattergeo": [
           {
            "marker": {
             "colorbar": {
              "outlinewidth": 0,
              "ticks": ""
             }
            },
            "type": "scattergeo"
           }
          ],
          "scattergl": [
           {
            "marker": {
             "colorbar": {
              "outlinewidth": 0,
              "ticks": ""
             }
            },
            "type": "scattergl"
           }
          ],
          "scattermapbox": [
           {
            "marker": {
             "colorbar": {
              "outlinewidth": 0,
              "ticks": ""
             }
            },
            "type": "scattermapbox"
           }
          ],
          "scatterpolar": [
           {
            "marker": {
             "colorbar": {
              "outlinewidth": 0,
              "ticks": ""
             }
            },
            "type": "scatterpolar"
           }
          ],
          "scatterpolargl": [
           {
            "marker": {
             "colorbar": {
              "outlinewidth": 0,
              "ticks": ""
             }
            },
            "type": "scatterpolargl"
           }
          ],
          "scatterternary": [
           {
            "marker": {
             "colorbar": {
              "outlinewidth": 0,
              "ticks": ""
             }
            },
            "type": "scatterternary"
           }
          ],
          "surface": [
           {
            "colorbar": {
             "outlinewidth": 0,
             "ticks": ""
            },
            "colorscale": [
             [
              0,
              "#0d0887"
             ],
             [
              0.1111111111111111,
              "#46039f"
             ],
             [
              0.2222222222222222,
              "#7201a8"
             ],
             [
              0.3333333333333333,
              "#9c179e"
             ],
             [
              0.4444444444444444,
              "#bd3786"
             ],
             [
              0.5555555555555556,
              "#d8576b"
             ],
             [
              0.6666666666666666,
              "#ed7953"
             ],
             [
              0.7777777777777778,
              "#fb9f3a"
             ],
             [
              0.8888888888888888,
              "#fdca26"
             ],
             [
              1,
              "#f0f921"
             ]
            ],
            "type": "surface"
           }
          ],
          "table": [
           {
            "cells": {
             "fill": {
              "color": "#EBF0F8"
             },
             "line": {
              "color": "white"
             }
            },
            "header": {
             "fill": {
              "color": "#C8D4E3"
             },
             "line": {
              "color": "white"
             }
            },
            "type": "table"
           }
          ]
         },
         "layout": {
          "annotationdefaults": {
           "arrowcolor": "#2a3f5f",
           "arrowhead": 0,
           "arrowwidth": 1
          },
          "coloraxis": {
           "colorbar": {
            "outlinewidth": 0,
            "ticks": ""
           }
          },
          "colorscale": {
           "diverging": [
            [
             0,
             "#8e0152"
            ],
            [
             0.1,
             "#c51b7d"
            ],
            [
             0.2,
             "#de77ae"
            ],
            [
             0.3,
             "#f1b6da"
            ],
            [
             0.4,
             "#fde0ef"
            ],
            [
             0.5,
             "#f7f7f7"
            ],
            [
             0.6,
             "#e6f5d0"
            ],
            [
             0.7,
             "#b8e186"
            ],
            [
             0.8,
             "#7fbc41"
            ],
            [
             0.9,
             "#4d9221"
            ],
            [
             1,
             "#276419"
            ]
           ],
           "sequential": [
            [
             0,
             "#0d0887"
            ],
            [
             0.1111111111111111,
             "#46039f"
            ],
            [
             0.2222222222222222,
             "#7201a8"
            ],
            [
             0.3333333333333333,
             "#9c179e"
            ],
            [
             0.4444444444444444,
             "#bd3786"
            ],
            [
             0.5555555555555556,
             "#d8576b"
            ],
            [
             0.6666666666666666,
             "#ed7953"
            ],
            [
             0.7777777777777778,
             "#fb9f3a"
            ],
            [
             0.8888888888888888,
             "#fdca26"
            ],
            [
             1,
             "#f0f921"
            ]
           ],
           "sequentialminus": [
            [
             0,
             "#0d0887"
            ],
            [
             0.1111111111111111,
             "#46039f"
            ],
            [
             0.2222222222222222,
             "#7201a8"
            ],
            [
             0.3333333333333333,
             "#9c179e"
            ],
            [
             0.4444444444444444,
             "#bd3786"
            ],
            [
             0.5555555555555556,
             "#d8576b"
            ],
            [
             0.6666666666666666,
             "#ed7953"
            ],
            [
             0.7777777777777778,
             "#fb9f3a"
            ],
            [
             0.8888888888888888,
             "#fdca26"
            ],
            [
             1,
             "#f0f921"
            ]
           ]
          },
          "colorway": [
           "#636efa",
           "#EF553B",
           "#00cc96",
           "#ab63fa",
           "#FFA15A",
           "#19d3f3",
           "#FF6692",
           "#B6E880",
           "#FF97FF",
           "#FECB52"
          ],
          "font": {
           "color": "#2a3f5f"
          },
          "geo": {
           "bgcolor": "white",
           "lakecolor": "white",
           "landcolor": "#E5ECF6",
           "showlakes": true,
           "showland": true,
           "subunitcolor": "white"
          },
          "hoverlabel": {
           "align": "left"
          },
          "hovermode": "closest",
          "mapbox": {
           "style": "light"
          },
          "paper_bgcolor": "white",
          "plot_bgcolor": "#E5ECF6",
          "polar": {
           "angularaxis": {
            "gridcolor": "white",
            "linecolor": "white",
            "ticks": ""
           },
           "bgcolor": "#E5ECF6",
           "radialaxis": {
            "gridcolor": "white",
            "linecolor": "white",
            "ticks": ""
           }
          },
          "scene": {
           "xaxis": {
            "backgroundcolor": "#E5ECF6",
            "gridcolor": "white",
            "gridwidth": 2,
            "linecolor": "white",
            "showbackground": true,
            "ticks": "",
            "zerolinecolor": "white"
           },
           "yaxis": {
            "backgroundcolor": "#E5ECF6",
            "gridcolor": "white",
            "gridwidth": 2,
            "linecolor": "white",
            "showbackground": true,
            "ticks": "",
            "zerolinecolor": "white"
           },
           "zaxis": {
            "backgroundcolor": "#E5ECF6",
            "gridcolor": "white",
            "gridwidth": 2,
            "linecolor": "white",
            "showbackground": true,
            "ticks": "",
            "zerolinecolor": "white"
           }
          },
          "shapedefaults": {
           "line": {
            "color": "#2a3f5f"
           }
          },
          "ternary": {
           "aaxis": {
            "gridcolor": "white",
            "linecolor": "white",
            "ticks": ""
           },
           "baxis": {
            "gridcolor": "white",
            "linecolor": "white",
            "ticks": ""
           },
           "bgcolor": "#E5ECF6",
           "caxis": {
            "gridcolor": "white",
            "linecolor": "white",
            "ticks": ""
           }
          },
          "title": {
           "x": 0.05
          },
          "xaxis": {
           "automargin": true,
           "gridcolor": "white",
           "linecolor": "white",
           "ticks": "",
           "title": {
            "standoff": 15
           },
           "zerolinecolor": "white",
           "zerolinewidth": 2
          },
          "yaxis": {
           "automargin": true,
           "gridcolor": "white",
           "linecolor": "white",
           "ticks": "",
           "title": {
            "standoff": 15
           },
           "zerolinecolor": "white",
           "zerolinewidth": 2
          }
         }
        },
        "title": {
         "text": "Pitch types of Gerrit Cole on 2 Strike Count 2020 "
        },
        "width": 700,
        "xaxis": {
         "zeroline": false
        },
        "yaxis": {
         "zeroline": false
        }
       }
      },
      "text/html": [
       "<div>\n",
       "        \n",
       "        \n",
       "            <div id=\"7beb869f-9649-450d-acab-8bc7f279ee09\" class=\"plotly-graph-div\" style=\"height:700px; width:700px;\"></div>\n",
       "            <script type=\"text/javascript\">\n",
       "                require([\"plotly\"], function(Plotly) {\n",
       "                    window.PLOTLYENV=window.PLOTLYENV || {};\n",
       "                    \n",
       "                if (document.getElementById(\"7beb869f-9649-450d-acab-8bc7f279ee09\")) {\n",
       "                    Plotly.newPlot(\n",
       "                        '7beb869f-9649-450d-acab-8bc7f279ee09',\n",
       "                        [{\"hovertext\": [\"called_strike\", \"foul\", \"ball\", \"ball\", \"swinging_strike\", \"foul\", \"ball\", \"hit_into_play\", \"blocked_ball\", \"foul\", \"ball\", \"foul\", \"ball\", \"foul\", \"foul\", \"hit_into_play_no_out\", \"foul\", \"foul\", \"foul\", \"foul\", \"called_strike\", \"foul_tip\", \"ball\", \"hit_into_play\", \"swinging_strike\", \"swinging_strike\", \"swinging_strike\", \"called_strike\", \"ball\", \"blocked_ball\", \"foul\", \"swinging_strike\", \"swinging_strike\", \"swinging_strike\", \"ball\", \"foul\", \"ball\", \"swinging_strike\", \"ball\", \"foul\", \"ball\", \"swinging_strike\", \"swinging_strike\", \"blocked_ball\", \"swinging_strike\", \"ball\", \"hit_into_play\", \"foul\", \"ball\", \"ball\", \"swinging_strike_blocked\", \"foul\", \"ball\", \"hit_into_play\", \"foul_tip\", \"ball\", \"hit_into_play\", \"called_strike\", \"ball\", \"foul_tip\", \"blocked_ball\", \"foul\", \"blocked_ball\", \"swinging_strike\", \"foul\", \"ball\", \"hit_into_play\", \"ball\", \"ball\", \"swinging_strike\", \"ball\", \"swinging_strike\", \"foul\", \"swinging_strike\", \"swinging_strike\", \"ball\", \"swinging_strike\", \"hit_into_play\", \"ball\", \"swinging_strike\", \"foul\", \"ball\", \"ball\", \"hit_into_play\", \"ball\", \"swinging_strike\", \"foul_tip\", \"foul\", \"hit_into_play\", \"foul_tip\", \"ball\", \"ball\", \"foul_tip\", \"foul\", \"called_strike\", \"foul\", \"foul\", \"foul\", \"foul\", \"foul\", \"foul\", \"ball\", \"hit_into_play\", \"hit_into_play\", \"hit_into_play_no_out\", \"foul\", \"swinging_strike\", \"ball\", \"hit_into_play\", \"ball\", \"swinging_strike_blocked\", \"ball\", \"swinging_strike\", \"ball\", \"ball\", \"swinging_strike_blocked\", \"ball\", \"foul\", \"foul\", \"hit_into_play\", \"ball\", \"foul\", \"swinging_strike\", \"foul\", \"hit_into_play\", \"ball\", \"ball\", \"ball\", \"hit_into_play_no_out\", \"hit_into_play\", \"foul\", \"foul\", \"foul\", \"hit_into_play\", \"foul\", \"swinging_strike\", \"ball\", \"called_strike\", \"called_strike\", \"ball\", \"ball\", \"blocked_ball\", \"swinging_strike\", \"ball\", \"ball\", \"hit_into_play_no_out\", \"ball\", \"hit_into_play\", \"ball\", \"ball\", \"ball\", \"blocked_ball\", \"hit_into_play\", \"hit_into_play\", \"ball\", \"ball\", \"hit_into_play\", \"hit_into_play\", \"ball\", \"called_strike\", \"ball\", \"swinging_strike\", \"ball\", \"ball\", \"hit_into_play\", \"swinging_strike_blocked\", \"foul\", \"swinging_strike\", \"hit_into_play\", \"ball\", \"foul_tip\", \"hit_into_play\", \"blocked_ball\", \"hit_into_play_no_out\", \"ball\", \"foul\", \"swinging_strike\", \"swinging_strike\", \"ball\", \"swinging_strike\", \"hit_into_play\", \"hit_into_play\", \"swinging_strike_blocked\", \"foul\", \"hit_into_play\", \"ball\", \"ball\", \"swinging_strike\", \"foul\", \"ball\", \"hit_into_play\", \"ball\", \"swinging_strike\", \"ball\", \"hit_into_play\", \"ball\", \"foul\", \"foul\", \"swinging_strike\", \"ball\", \"ball\", \"called_strike\", \"ball\", \"foul\", \"foul\", \"swinging_strike_blocked\", \"hit_into_play\", \"ball\", \"foul\", \"hit_into_play\", \"ball\", \"hit_into_play\", \"hit_into_play_score\", \"swinging_strike\", \"hit_into_play_no_out\", \"ball\", \"hit_into_play\", \"hit_into_play\", \"swinging_strike_blocked\", \"ball\", \"hit_into_play_no_out\", \"swinging_strike\", \"foul\", \"foul\", \"swinging_strike\", \"foul\", \"foul\", \"ball\", \"foul_tip\", \"foul\", \"foul\", \"ball\", \"ball\", \"called_strike\", \"called_strike\", \"swinging_strike_blocked\", \"ball\", \"ball\", \"ball\", \"swinging_strike\", \"swinging_strike\", \"hit_into_play\", \"foul\", \"foul_tip\", \"hit_into_play_score\", \"blocked_ball\", \"hit_by_pitch\", \"hit_into_play\", \"swinging_strike\", \"hit_into_play\", \"swinging_strike\", \"swinging_strike\", \"hit_into_play_no_out\", \"hit_into_play_no_out\", \"swinging_strike\", \"ball\", \"blocked_ball\", \"swinging_strike\", \"foul\", \"ball\", \"foul\", \"hit_into_play\", \"hit_into_play_score\", \"ball\", \"called_strike\", \"ball\", \"ball\", \"called_strike\", \"ball\", \"swinging_strike_blocked\", \"ball\", \"called_strike\", \"foul\", \"ball\", \"hit_into_play\", \"swinging_strike\", \"hit_into_play\", \"ball\", \"ball\", \"foul\", \"ball\", \"ball\", \"hit_into_play\", \"ball\", \"swinging_strike\", \"ball\", \"ball\", \"swinging_strike\", \"hit_into_play\", \"hit_into_play_no_out\", \"ball\", \"foul\", \"ball\", \"swinging_strike\", \"swinging_strike\", \"swinging_strike\", \"ball\", \"foul\", \"hit_into_play_score\", \"called_strike\", \"foul\", \"ball\", \"hit_into_play\", \"ball\", \"swinging_strike\", \"ball\", \"ball\", \"hit_into_play\", \"ball\", \"foul\", \"foul\", \"ball\", \"foul\", \"swinging_strike\", \"ball\", \"swinging_strike\", \"ball\", \"foul\", \"foul\", \"foul\", \"swinging_strike\", \"called_strike\", \"ball\", \"ball\", \"swinging_strike\", \"foul\", \"blocked_ball\", \"hit_into_play\", \"ball\", \"ball\", \"hit_into_play\", \"swinging_strike_blocked\", \"ball\", \"foul\", \"ball\", \"hit_into_play_score\", \"hit_into_play\", \"foul\", \"ball\", \"swinging_strike\", \"called_strike\", \"hit_into_play\", \"foul\", \"ball\", \"swinging_strike_blocked\", \"swinging_strike\", \"swinging_strike\", \"hit_into_play\", \"ball\", \"foul\", \"swinging_strike\", \"ball\", \"foul\", \"hit_into_play_no_out\", \"hit_into_play\", \"swinging_strike\", \"swinging_strike\", \"hit_into_play\", \"hit_into_play\", \"ball\", \"foul\", \"hit_into_play\", \"foul\", \"called_strike\", \"swinging_strike\", \"ball\", \"ball\", \"hit_into_play\", \"ball\", \"foul\", \"ball\", \"foul\", \"hit_into_play_score\", \"ball\", \"blocked_ball\", \"called_strike\", \"foul\", \"hit_into_play_no_out\", \"ball\", \"foul\", \"ball\", \"swinging_strike\", \"ball\", \"ball\", \"foul_tip\", \"ball\", \"foul\", \"foul\", \"foul\", \"foul\", \"foul\", \"ball\", \"foul\", \"swinging_strike\", \"hit_into_play_no_out\", \"hit_into_play\", \"ball\", \"ball\", \"ball\", \"foul\", \"foul_tip\", \"ball\", \"swinging_strike\", \"hit_into_play_no_out\", \"swinging_strike\", \"ball\", \"called_strike\", \"swinging_strike\", \"ball\", \"blocked_ball\", \"swinging_strike\", \"hit_into_play_no_out\", \"ball\", \"hit_into_play_no_out\", \"ball\", \"foul\", \"ball\", \"ball\", \"hit_into_play\", \"swinging_strike_blocked\", \"foul\", \"ball\", \"ball\", \"foul\", \"ball\", \"ball\", \"called_strike\", \"ball\", \"foul\", \"swinging_strike\", \"foul\", \"ball\", \"foul\", \"hit_into_play\", \"ball\", \"ball\", \"foul\", \"ball\", \"hit_into_play_score\", \"ball\", \"ball\", \"ball\", \"hit_into_play\", \"foul_tip\", \"foul\", \"hit_into_play\", \"foul\", \"ball\", \"foul\", \"foul\", \"hit_into_play\", \"hit_into_play\", \"hit_into_play\", \"ball\", \"foul\", \"ball\", \"swinging_strike\", \"swinging_strike\", \"foul\", \"ball\", \"hit_into_play\", \"ball\", \"hit_into_play\", \"ball\", \"swinging_strike\", \"ball\", \"ball\", \"swinging_strike_blocked\", \"ball\", \"foul\", \"hit_into_play\", \"ball\", \"foul_tip\", \"swinging_strike\", \"hit_into_play_score\", \"swinging_strike_blocked\", \"ball\", \"foul\", \"ball\", \"called_strike\", \"blocked_ball\", \"blocked_ball\", \"swinging_strike_blocked\", \"ball\", \"ball\", \"hit_into_play\", \"ball\", \"hit_into_play\", \"foul\", \"hit_into_play\", \"swinging_strike\", \"foul_tip\", \"foul\", \"foul\", \"called_strike\", \"hit_into_play_score\", \"foul\", \"foul\"], \"marker\": {\"line\": {\"width\": 2}, \"size\": 10}, \"mode\": \"markers\", \"name\": \"Four Seam Fastball\", \"type\": \"scatter\", \"x\": [1.08, -1.58, 0.44, 1.53, -0.64, 0.36, -0.74, -1.16, -0.42, 0.11, 0.79, -0.1, -0.7, -0.29, -0.29, -0.71, -0.92, -0.3, -0.4, -0.06, -0.25, 0.2, 0.19, -0.43, -0.01, -0.36, -0.26, -0.97, -0.96, -0.68, -0.25, -0.94, -1.72, -1.09, -0.61, 0.5, 0.16, 0.12, 0.98, 0.94, -0.3, -0.39, -0.46, -0.52, -0.23, -1.64, -0.15, 0.02, 0.89, 0.21, -0.49, -0.53, -0.03, -0.36, -0.29, 0.0, 0.48, 0.75, -0.05, 1.0, -0.56, 0.11, 0.15, -0.7, -0.25, -0.05, -0.11, 1.29, -0.13, -1.43, 0.85, -0.25, 0.0, 1.36, 0.52, -0.71, -0.62, -1.28, 0.82, -0.06, -1.09, 0.37, -0.83, -0.85, -0.11, 0.82, 0.2, 0.04, -1.44, 0.99, -0.7, -0.78, -0.62, -0.65, 0.01, -0.74, 0.56, -0.38, -0.06, -0.65, 0.16, 0.56, 1.1, 0.55, 1.26, 0.7, -0.65, 0.44, -0.35, 0.67, -0.95, -0.43, 0.2, -1.11, 0.76, 0.63, 0.05, -0.77, -0.67, -0.2, -1.32, 0.36, 1.2, -0.09, -0.15, -1.1, -2.09, -0.1, 0.78, 0.65, 1.14, -0.92, 1.99, -1.42, -0.37, -0.16, -0.97, -0.93, -1.12, -0.57, -0.71, -1.0, 0.63, 0.28, -0.58, -0.04, 0.06, -0.86, 0.36, -1.58, -0.46, 0.43, 0.75, -0.95, -0.06, 0.73, -0.67, 0.05, -0.7, 1.0, 1.47, -0.36, -1.44, -0.27, 0.22, 0.9, -0.87, -0.32, -0.95, -1.7, -0.42, -0.85, -0.09, 0.34, -0.37, 0.45, -0.65, -0.39, 0.18, -1.54, -0.89, 0.47, -0.72, -0.8, -0.33, -1.14, 0.74, 0.0, 0.0, -0.8, -0.83, -0.25, 0.92, 0.03, -0.76, 0.39, -0.13, -0.26, -0.36, -0.51, 0.26, 1.2, -0.61, -0.13, 1.46, -0.04, 0.42, -0.01, 0.15, -0.41, -0.56, 0.21, 0.71, 0.43, 1.19, -0.07, 0.81, 0.25, 0.14, -0.59, -0.04, 0.23, -0.47], \"y\": [2.42, 3.51, 2.61, 2.17, 3.03, 1.52, 3.28, 3.2, 2.76, 2.46, 1.81, 3.68, 3.78, 1.67, 2.93, 1.41, 3.45, 3.71, 4.58, 5.08, 3.64, 4.1, 2.84, 1.89, 2.05, 3.96, 2.78, 4.35, 3.4, 2.59, 2.48, 2.1, 3.54, 4.15, 3.37, 2.29, 2.67, 3.04, 2.77, 2.45, 4.14, 3.2, 2.11, 3.43, 3.25, 3.74, 3.45, 2.02, 3.04, 2.16, 5.06, 2.09, 3.5, 3.42, 3.22, 3.3, 4.2, 2.37, 2.84, 1.54, 4.15, 3.41, 3.49, 3.62, 2.14, 3.9, 3.06, 1.79, 3.38, 2.57, 2.2, 4.4, 3.1, 3.03, 2.65, 2.68, 3.17, 4.72, 3.51, 2.1, 3.6, 2.25, 4.57, 3.92, 1.73, 1.5, 2.83, 2.62, 3.77, 2.88, 3.71, 2.71, 3.86, 2.63, 4.01, 5.02, 3.16, 3.88, 2.23, 2.39, 2.43, 2.85, 3.19, 3.78, 2.14, 3.76, 3.22, 2.59, 3.13, 2.72, 2.72, 3.69, 3.02, 3.19, 1.87, 3.93, 2.71, 2.85, 3.51, 3.86, 4.73, 3.56, 3.66, 2.52, 2.5, 3.2, 3.06, 2.87, 2.77, 2.74, 4.33, 2.8, 2.24, 3.87, 3.81, 3.69, 5.09, 3.11, 4.25, 4.02, 3.65, 3.14, 1.47, 4.24, 3.37, 2.51, 3.39, 3.01, 1.75, 3.51, 2.81, 2.81, 3.72, 4.21, 3.46, 2.9, 3.03, 3.14, 2.05, 3.24, 3.17, 3.05, 4.05, 2.85, 2.92, 2.54, 1.85, 2.87, 4.13, 4.63, 2.24, 4.02, 3.19, 2.7, 2.99, 2.89, 2.75, 2.88, 2.7, 4.04, 3.49, 3.78, 2.85, 3.78, 2.08, 2.87, 2.83, 4.45, 3.05, 4.27, 2.35, 4.35, 1.76, 3.43, 2.09, 3.53, 2.91, 2.87, 3.39, 3.39, 2.46, 2.6, 3.22, 3.36, 0.85, 3.76, 3.3, 3.63, 3.52, 2.83, 3.0, 2.84, 2.61, 1.74, 2.37, 2.3, 1.8, 2.69, 2.46, 3.24, 3.69, 2.37, 3.48]}, {\"hovertext\": [\"called_strike\", \"foul\", \"ball\", \"ball\", \"swinging_strike\", \"foul\", \"ball\", \"hit_into_play\", \"blocked_ball\", \"foul\", \"ball\", \"foul\", \"ball\", \"foul\", \"foul\", \"hit_into_play_no_out\", \"foul\", \"foul\", \"foul\", \"foul\", \"called_strike\", \"foul_tip\", \"ball\", \"hit_into_play\", \"swinging_strike\", \"swinging_strike\", \"swinging_strike\", \"called_strike\", \"ball\", \"blocked_ball\", \"foul\", \"swinging_strike\", \"swinging_strike\", \"swinging_strike\", \"ball\", \"foul\", \"ball\", \"swinging_strike\", \"ball\", \"foul\", \"ball\", \"swinging_strike\", \"swinging_strike\", \"blocked_ball\", \"swinging_strike\", \"ball\", \"hit_into_play\", \"foul\", \"ball\", \"ball\", \"swinging_strike_blocked\", \"foul\", \"ball\", \"hit_into_play\", \"foul_tip\", \"ball\", \"hit_into_play\", \"called_strike\", \"ball\", \"foul_tip\", \"blocked_ball\", \"foul\", \"blocked_ball\", \"swinging_strike\", \"foul\", \"ball\", \"hit_into_play\", \"ball\", \"ball\", \"swinging_strike\", \"ball\", \"swinging_strike\", \"foul\", \"swinging_strike\", \"swinging_strike\", \"ball\", \"swinging_strike\", \"hit_into_play\", \"ball\", \"swinging_strike\", \"foul\", \"ball\", \"ball\", \"hit_into_play\", \"ball\", \"swinging_strike\", \"foul_tip\", \"foul\", \"hit_into_play\", \"foul_tip\", \"ball\", \"ball\", \"foul_tip\", \"foul\", \"called_strike\", \"foul\", \"foul\", \"foul\", \"foul\", \"foul\", \"foul\", \"ball\", \"hit_into_play\", \"hit_into_play\", \"hit_into_play_no_out\", \"foul\", \"swinging_strike\", \"ball\", \"hit_into_play\", \"ball\", \"swinging_strike_blocked\", \"ball\", \"swinging_strike\", \"ball\", \"ball\", \"swinging_strike_blocked\", \"ball\", \"foul\", \"foul\", \"hit_into_play\", \"ball\", \"foul\", \"swinging_strike\", \"foul\", \"hit_into_play\", \"ball\", \"ball\", \"ball\", \"hit_into_play_no_out\", \"hit_into_play\", \"foul\", \"foul\", \"foul\", \"hit_into_play\", \"foul\", \"swinging_strike\", \"ball\", \"called_strike\", \"called_strike\", \"ball\", \"ball\", \"blocked_ball\", \"swinging_strike\", \"ball\", \"ball\", \"hit_into_play_no_out\", \"ball\", \"hit_into_play\", \"ball\", \"ball\", \"ball\", \"blocked_ball\", \"hit_into_play\", \"hit_into_play\", \"ball\", \"ball\", \"hit_into_play\", \"hit_into_play\", \"ball\", \"called_strike\", \"ball\", \"swinging_strike\", \"ball\", \"ball\", \"hit_into_play\", \"swinging_strike_blocked\", \"foul\", \"swinging_strike\", \"hit_into_play\", \"ball\", \"foul_tip\", \"hit_into_play\", \"blocked_ball\", \"hit_into_play_no_out\", \"ball\", \"foul\", \"swinging_strike\", \"swinging_strike\", \"ball\", \"swinging_strike\", \"hit_into_play\", \"hit_into_play\", \"swinging_strike_blocked\", \"foul\", \"hit_into_play\", \"ball\", \"ball\", \"swinging_strike\", \"foul\", \"ball\", \"hit_into_play\", \"ball\", \"swinging_strike\", \"ball\", \"hit_into_play\", \"ball\", \"foul\", \"foul\", \"swinging_strike\", \"ball\", \"ball\", \"called_strike\", \"ball\", \"foul\", \"foul\", \"swinging_strike_blocked\", \"hit_into_play\", \"ball\", \"foul\", \"hit_into_play\", \"ball\", \"hit_into_play\", \"hit_into_play_score\", \"swinging_strike\", \"hit_into_play_no_out\", \"ball\", \"hit_into_play\", \"hit_into_play\", \"swinging_strike_blocked\", \"ball\", \"hit_into_play_no_out\", \"swinging_strike\", \"foul\", \"foul\", \"swinging_strike\", \"foul\", \"foul\", \"ball\", \"foul_tip\", \"foul\", \"foul\", \"ball\", \"ball\", \"called_strike\", \"called_strike\", \"swinging_strike_blocked\", \"ball\", \"ball\", \"ball\", \"swinging_strike\", \"swinging_strike\", \"hit_into_play\", \"foul\", \"foul_tip\", \"hit_into_play_score\", \"blocked_ball\", \"hit_by_pitch\", \"hit_into_play\", \"swinging_strike\", \"hit_into_play\", \"swinging_strike\", \"swinging_strike\", \"hit_into_play_no_out\", \"hit_into_play_no_out\", \"swinging_strike\", \"ball\", \"blocked_ball\", \"swinging_strike\", \"foul\", \"ball\", \"foul\", \"hit_into_play\", \"hit_into_play_score\", \"ball\", \"called_strike\", \"ball\", \"ball\", \"called_strike\", \"ball\", \"swinging_strike_blocked\", \"ball\", \"called_strike\", \"foul\", \"ball\", \"hit_into_play\", \"swinging_strike\", \"hit_into_play\", \"ball\", \"ball\", \"foul\", \"ball\", \"ball\", \"hit_into_play\", \"ball\", \"swinging_strike\", \"ball\", \"ball\", \"swinging_strike\", \"hit_into_play\", \"hit_into_play_no_out\", \"ball\", \"foul\", \"ball\", \"swinging_strike\", \"swinging_strike\", \"swinging_strike\", \"ball\", \"foul\", \"hit_into_play_score\", \"called_strike\", \"foul\", \"ball\", \"hit_into_play\", \"ball\", \"swinging_strike\", \"ball\", \"ball\", \"hit_into_play\", \"ball\", \"foul\", \"foul\", \"ball\", \"foul\", \"swinging_strike\", \"ball\", \"swinging_strike\", \"ball\", \"foul\", \"foul\", \"foul\", \"swinging_strike\", \"called_strike\", \"ball\", \"ball\", \"swinging_strike\", \"foul\", \"blocked_ball\", \"hit_into_play\", \"ball\", \"ball\", \"hit_into_play\", \"swinging_strike_blocked\", \"ball\", \"foul\", \"ball\", \"hit_into_play_score\", \"hit_into_play\", \"foul\", \"ball\", \"swinging_strike\", \"called_strike\", \"hit_into_play\", \"foul\", \"ball\", \"swinging_strike_blocked\", \"swinging_strike\", \"swinging_strike\", \"hit_into_play\", \"ball\", \"foul\", \"swinging_strike\", \"ball\", \"foul\", \"hit_into_play_no_out\", \"hit_into_play\", \"swinging_strike\", \"swinging_strike\", \"hit_into_play\", \"hit_into_play\", \"ball\", \"foul\", \"hit_into_play\", \"foul\", \"called_strike\", \"swinging_strike\", \"ball\", \"ball\", \"hit_into_play\", \"ball\", \"foul\", \"ball\", \"foul\", \"hit_into_play_score\", \"ball\", \"blocked_ball\", \"called_strike\", \"foul\", \"hit_into_play_no_out\", \"ball\", \"foul\", \"ball\", \"swinging_strike\", \"ball\", \"ball\", \"foul_tip\", \"ball\", \"foul\", \"foul\", \"foul\", \"foul\", \"foul\", \"ball\", \"foul\", \"swinging_strike\", \"hit_into_play_no_out\", \"hit_into_play\", \"ball\", \"ball\", \"ball\", \"foul\", \"foul_tip\", \"ball\", \"swinging_strike\", \"hit_into_play_no_out\", \"swinging_strike\", \"ball\", \"called_strike\", \"swinging_strike\", \"ball\", \"blocked_ball\", \"swinging_strike\", \"hit_into_play_no_out\", \"ball\", \"hit_into_play_no_out\", \"ball\", \"foul\", \"ball\", \"ball\", \"hit_into_play\", \"swinging_strike_blocked\", \"foul\", \"ball\", \"ball\", \"foul\", \"ball\", \"ball\", \"called_strike\", \"ball\", \"foul\", \"swinging_strike\", \"foul\", \"ball\", \"foul\", \"hit_into_play\", \"ball\", \"ball\", \"foul\", \"ball\", \"hit_into_play_score\", \"ball\", \"ball\", \"ball\", \"hit_into_play\", \"foul_tip\", \"foul\", \"hit_into_play\", \"foul\", \"ball\", \"foul\", \"foul\", \"hit_into_play\", \"hit_into_play\", \"hit_into_play\", \"ball\", \"foul\", \"ball\", \"swinging_strike\", \"swinging_strike\", \"foul\", \"ball\", \"hit_into_play\", \"ball\", \"hit_into_play\", \"ball\", \"swinging_strike\", \"ball\", \"ball\", \"swinging_strike_blocked\", \"ball\", \"foul\", \"hit_into_play\", \"ball\", \"foul_tip\", \"swinging_strike\", \"hit_into_play_score\", \"swinging_strike_blocked\", \"ball\", \"foul\", \"ball\", \"called_strike\", \"blocked_ball\", \"blocked_ball\", \"swinging_strike_blocked\", \"ball\", \"ball\", \"hit_into_play\", \"ball\", \"hit_into_play\", \"foul\", \"hit_into_play\", \"swinging_strike\", \"foul_tip\", \"foul\", \"foul\", \"called_strike\", \"hit_into_play_score\", \"foul\", \"foul\"], \"marker\": {\"line\": {\"width\": 2}, \"size\": 10}, \"mode\": \"markers\", \"name\": \"Slider\", \"type\": \"scatter\", \"x\": [0.47, 0.22, 0.91, 1.3, 0.86, 1.21, 1.12, 0.94, 0.48, 1.1, 2.07, 2.08, 0.51, -0.39, 1.95, 0.46, 2.29, 1.24, 0.12, 0.62, 0.06, 1.75, 1.3, 0.75, 1.09, 1.67, 0.95, 1.06, 0.53, 1.44, 0.64, 0.58, 0.34, 0.93, 1.29, 0.91, 1.12, 0.51, 0.86, 1.52, 0.72, 1.22, 1.53, 0.76, 1.31, 0.28, 0.89, 1.12, 1.61, 1.05, 2.42, -0.53, 1.21, 1.21, -0.42, 1.51, 2.04, 0.6, 0.96, 1.3, 1.91, 0.47, 1.55, 2.79, 3.01, 0.46, 0.23, 2.49, 2.23, 0.55, 0.79, 0.84, -0.77, 0.5, 1.0, -0.17, 1.88, 1.32, 1.05, 3.08, 1.22, -0.44, 0.7, 1.45, 0.89, 0.11, 0.99, 0.83, 1.23, 0.6, 0.77, 0.96, 1.0, 0.2, 0.04, 0.85, 1.71, 1.32, -0.12, 0.91, -0.04, 0.96, 2.44, 1.02, 1.18, 0.86, 1.43, 0.96, 0.37, 0.92, 0.98, 0.93, 0.43, 1.98, 0.36, 1.53, 1.18, 1.09, 1.6, 0.22, 0.8, 1.33, 1.05, 1.63, 2.05, -0.2, 0.44, 0.87, 1.23, 0.12, 0.39, 1.22, 0.84, -0.39, 0.96, -0.19, 1.46, -0.57, 1.71, 0.61, 1.67, 1.53, 0.13, 1.24, 2.54, 1.02, -0.07, 2.17, 0.54, -0.39, 0.13, 1.04, -0.07, 1.18, 0.81], \"y\": [2.6, 3.63, 2.32, -1.4, 1.51, 2.36, 0.03, 1.62, 1.78, 2.08, 0.24, -0.39, 3.57, 3.06, -0.32, 2.71, -0.63, 2.05, 2.03, 2.14, 2.01, 0.49, 1.21, 1.25, 0.71, -0.31, 1.0, 1.78, 1.69, 1.54, 1.87, 2.11, 2.2, 0.88, -0.94, 2.19, 1.69, 1.55, 1.14, 1.63, 1.08, 0.41, 2.44, 2.49, 2.5, 2.64, 1.03, 1.5, 0.34, 0.92, 1.24, 2.05, 1.45, 2.24, 2.63, 0.96, 1.75, 3.42, 1.05, 0.86, 0.17, 2.95, 0.05, 1.06, -0.26, 1.93, 2.26, 0.17, -0.01, 1.08, 0.9, 1.35, 3.11, 2.15, 1.88, 1.66, 0.74, 2.46, 1.99, 0.84, 0.43, 3.58, 1.92, 1.26, 1.63, 1.83, 2.52, 1.33, 2.58, 1.68, 1.92, 1.97, 1.68, 1.97, 2.56, 3.1, 0.85, 2.15, 2.98, 1.91, 2.09, 0.89, -0.07, 2.04, 2.8, 1.47, 0.81, 1.18, 1.13, 1.93, 1.08, 1.18, 2.47, 0.59, 1.89, 1.27, 0.66, 1.31, 1.19, 2.38, 2.06, 0.98, 2.05, 0.06, 0.52, 1.93, 2.72, 1.6, 1.37, 3.02, 2.39, 3.57, 0.08, 3.51, 1.27, 3.08, 0.51, 3.72, -0.32, 2.22, -1.35, 0.13, 1.33, 2.91, 0.67, 0.59, 3.63, -0.27, 1.44, 2.69, 1.59, 1.07, 3.23, 2.33, 1.46]}, {\"hovertext\": [\"called_strike\", \"foul\", \"ball\", \"ball\", \"swinging_strike\", \"foul\", \"ball\", \"hit_into_play\", \"blocked_ball\", \"foul\", \"ball\", \"foul\", \"ball\", \"foul\", \"foul\", \"hit_into_play_no_out\", \"foul\", \"foul\", \"foul\", \"foul\", \"called_strike\", \"foul_tip\", \"ball\", \"hit_into_play\", \"swinging_strike\", \"swinging_strike\", \"swinging_strike\", \"called_strike\", \"ball\", \"blocked_ball\", \"foul\", \"swinging_strike\", \"swinging_strike\", \"swinging_strike\", \"ball\", \"foul\", \"ball\", \"swinging_strike\", \"ball\", \"foul\", \"ball\", \"swinging_strike\", \"swinging_strike\", \"blocked_ball\", \"swinging_strike\", \"ball\", \"hit_into_play\", \"foul\", \"ball\", \"ball\", \"swinging_strike_blocked\", \"foul\", \"ball\", \"hit_into_play\", \"foul_tip\", \"ball\", \"hit_into_play\", \"called_strike\", \"ball\", \"foul_tip\", \"blocked_ball\", \"foul\", \"blocked_ball\", \"swinging_strike\", \"foul\", \"ball\", \"hit_into_play\", \"ball\", \"ball\", \"swinging_strike\", \"ball\", \"swinging_strike\", \"foul\", \"swinging_strike\", \"swinging_strike\", \"ball\", \"swinging_strike\", \"hit_into_play\", \"ball\", \"swinging_strike\", \"foul\", \"ball\", \"ball\", \"hit_into_play\", \"ball\", \"swinging_strike\", \"foul_tip\", \"foul\", \"hit_into_play\", \"foul_tip\", \"ball\", \"ball\", \"foul_tip\", \"foul\", \"called_strike\", \"foul\", \"foul\", \"foul\", \"foul\", \"foul\", \"foul\", \"ball\", \"hit_into_play\", \"hit_into_play\", \"hit_into_play_no_out\", \"foul\", \"swinging_strike\", \"ball\", \"hit_into_play\", \"ball\", \"swinging_strike_blocked\", \"ball\", \"swinging_strike\", \"ball\", \"ball\", \"swinging_strike_blocked\", \"ball\", \"foul\", \"foul\", \"hit_into_play\", \"ball\", \"foul\", \"swinging_strike\", \"foul\", \"hit_into_play\", \"ball\", \"ball\", \"ball\", \"hit_into_play_no_out\", \"hit_into_play\", \"foul\", \"foul\", \"foul\", \"hit_into_play\", \"foul\", \"swinging_strike\", \"ball\", \"called_strike\", \"called_strike\", \"ball\", \"ball\", \"blocked_ball\", \"swinging_strike\", \"ball\", \"ball\", \"hit_into_play_no_out\", \"ball\", \"hit_into_play\", \"ball\", \"ball\", \"ball\", \"blocked_ball\", \"hit_into_play\", \"hit_into_play\", \"ball\", \"ball\", \"hit_into_play\", \"hit_into_play\", \"ball\", \"called_strike\", \"ball\", \"swinging_strike\", \"ball\", \"ball\", \"hit_into_play\", \"swinging_strike_blocked\", \"foul\", \"swinging_strike\", \"hit_into_play\", \"ball\", \"foul_tip\", \"hit_into_play\", \"blocked_ball\", \"hit_into_play_no_out\", \"ball\", \"foul\", \"swinging_strike\", \"swinging_strike\", \"ball\", \"swinging_strike\", \"hit_into_play\", \"hit_into_play\", \"swinging_strike_blocked\", \"foul\", \"hit_into_play\", \"ball\", \"ball\", \"swinging_strike\", \"foul\", \"ball\", \"hit_into_play\", \"ball\", \"swinging_strike\", \"ball\", \"hit_into_play\", \"ball\", \"foul\", \"foul\", \"swinging_strike\", \"ball\", \"ball\", \"called_strike\", \"ball\", \"foul\", \"foul\", \"swinging_strike_blocked\", \"hit_into_play\", \"ball\", \"foul\", \"hit_into_play\", \"ball\", \"hit_into_play\", \"hit_into_play_score\", \"swinging_strike\", \"hit_into_play_no_out\", \"ball\", \"hit_into_play\", \"hit_into_play\", \"swinging_strike_blocked\", \"ball\", \"hit_into_play_no_out\", \"swinging_strike\", \"foul\", \"foul\", \"swinging_strike\", \"foul\", \"foul\", \"ball\", \"foul_tip\", \"foul\", \"foul\", \"ball\", \"ball\", \"called_strike\", \"called_strike\", \"swinging_strike_blocked\", \"ball\", \"ball\", \"ball\", \"swinging_strike\", \"swinging_strike\", \"hit_into_play\", \"foul\", \"foul_tip\", \"hit_into_play_score\", \"blocked_ball\", \"hit_by_pitch\", \"hit_into_play\", \"swinging_strike\", \"hit_into_play\", \"swinging_strike\", \"swinging_strike\", \"hit_into_play_no_out\", \"hit_into_play_no_out\", \"swinging_strike\", \"ball\", \"blocked_ball\", \"swinging_strike\", \"foul\", \"ball\", \"foul\", \"hit_into_play\", \"hit_into_play_score\", \"ball\", \"called_strike\", \"ball\", \"ball\", \"called_strike\", \"ball\", \"swinging_strike_blocked\", \"ball\", \"called_strike\", \"foul\", \"ball\", \"hit_into_play\", \"swinging_strike\", \"hit_into_play\", \"ball\", \"ball\", \"foul\", \"ball\", \"ball\", \"hit_into_play\", \"ball\", \"swinging_strike\", \"ball\", \"ball\", \"swinging_strike\", \"hit_into_play\", \"hit_into_play_no_out\", \"ball\", \"foul\", \"ball\", \"swinging_strike\", \"swinging_strike\", \"swinging_strike\", \"ball\", \"foul\", \"hit_into_play_score\", \"called_strike\", \"foul\", \"ball\", \"hit_into_play\", \"ball\", \"swinging_strike\", \"ball\", \"ball\", \"hit_into_play\", \"ball\", \"foul\", \"foul\", \"ball\", \"foul\", \"swinging_strike\", \"ball\", \"swinging_strike\", \"ball\", \"foul\", \"foul\", \"foul\", \"swinging_strike\", \"called_strike\", \"ball\", \"ball\", \"swinging_strike\", \"foul\", \"blocked_ball\", \"hit_into_play\", \"ball\", \"ball\", \"hit_into_play\", \"swinging_strike_blocked\", \"ball\", \"foul\", \"ball\", \"hit_into_play_score\", \"hit_into_play\", \"foul\", \"ball\", \"swinging_strike\", \"called_strike\", \"hit_into_play\", \"foul\", \"ball\", \"swinging_strike_blocked\", \"swinging_strike\", \"swinging_strike\", \"hit_into_play\", \"ball\", \"foul\", \"swinging_strike\", \"ball\", \"foul\", \"hit_into_play_no_out\", \"hit_into_play\", \"swinging_strike\", \"swinging_strike\", \"hit_into_play\", \"hit_into_play\", \"ball\", \"foul\", \"hit_into_play\", \"foul\", \"called_strike\", \"swinging_strike\", \"ball\", \"ball\", \"hit_into_play\", \"ball\", \"foul\", \"ball\", \"foul\", \"hit_into_play_score\", \"ball\", \"blocked_ball\", \"called_strike\", \"foul\", \"hit_into_play_no_out\", \"ball\", \"foul\", \"ball\", \"swinging_strike\", \"ball\", \"ball\", \"foul_tip\", \"ball\", \"foul\", \"foul\", \"foul\", \"foul\", \"foul\", \"ball\", \"foul\", \"swinging_strike\", \"hit_into_play_no_out\", \"hit_into_play\", \"ball\", \"ball\", \"ball\", \"foul\", \"foul_tip\", \"ball\", \"swinging_strike\", \"hit_into_play_no_out\", \"swinging_strike\", \"ball\", \"called_strike\", \"swinging_strike\", \"ball\", \"blocked_ball\", \"swinging_strike\", \"hit_into_play_no_out\", \"ball\", \"hit_into_play_no_out\", \"ball\", \"foul\", \"ball\", \"ball\", \"hit_into_play\", \"swinging_strike_blocked\", \"foul\", \"ball\", \"ball\", \"foul\", \"ball\", \"ball\", \"called_strike\", \"ball\", \"foul\", \"swinging_strike\", \"foul\", \"ball\", \"foul\", \"hit_into_play\", \"ball\", \"ball\", \"foul\", \"ball\", \"hit_into_play_score\", \"ball\", \"ball\", \"ball\", \"hit_into_play\", \"foul_tip\", \"foul\", \"hit_into_play\", \"foul\", \"ball\", \"foul\", \"foul\", \"hit_into_play\", \"hit_into_play\", \"hit_into_play\", \"ball\", \"foul\", \"ball\", \"swinging_strike\", \"swinging_strike\", \"foul\", \"ball\", \"hit_into_play\", \"ball\", \"hit_into_play\", \"ball\", \"swinging_strike\", \"ball\", \"ball\", \"swinging_strike_blocked\", \"ball\", \"foul\", \"hit_into_play\", \"ball\", \"foul_tip\", \"swinging_strike\", \"hit_into_play_score\", \"swinging_strike_blocked\", \"ball\", \"foul\", \"ball\", \"called_strike\", \"blocked_ball\", \"blocked_ball\", \"swinging_strike_blocked\", \"ball\", \"ball\", \"hit_into_play\", \"ball\", \"hit_into_play\", \"foul\", \"hit_into_play\", \"swinging_strike\", \"foul_tip\", \"foul\", \"foul\", \"called_strike\", \"hit_into_play_score\", \"foul\", \"foul\"], \"marker\": {\"line\": {\"width\": 2}, \"size\": 10}, \"mode\": \"markers\", \"name\": \"Knuckle Curve\", \"type\": \"scatter\", \"x\": [0.92, -0.4, 0.2, 0.18, 1.32, 1.81, 0.52, -0.1, 0.63, 0.84, 1.89, 1.23, 0.39, 0.87, 1.12, 0.81, 0.28, 1.46, 0.21, -0.56, 1.08, -0.72, 0.21, 0.09, 0.44, -0.4, 1.14, 1.4, 0.63, -0.16, 0.36, 0.77, 0.73, 1.55, 0.76, 2.18, 0.87, 0.17, 0.94, 0.48, -0.86, 0.14, -0.45, 0.02, 1.31, 0.75, 0.36, 0.94, 0.41, -0.09, 0.29, -0.74, -0.26, 0.08, 0.14, 0.46, -0.61, 1.89, 1.32, 1.56, 0.45, -0.16, 0.57, 3.3, 0.42, 0.75, 1.86, 0.14, -0.14, 0.2, -0.47, 1.46, 1.02, 0.42, -0.31, 0.81, -0.11, 1.22, -0.25, 1.0, 0.84, -0.32, 2.49, 0.83, 0.78, 1.29, 1.21, 0.76, 1.12, 0.2, 0.54, 0.46, 0.56, 0.75, 1.12], \"y\": [2.03, 2.08, 1.41, 1.47, 2.34, -1.4, 1.75, 1.99, -0.12, -0.83, -0.48, 1.42, 1.84, 2.44, 0.5, 1.16, 3.21, -0.19, 1.04, 0.33, 1.39, 2.38, 1.32, 1.78, 1.04, 2.09, -1.25, 0.5, 1.93, 2.33, 1.8, -0.82, 1.81, 0.14, 0.87, 0.81, 1.44, 1.22, 0.65, 1.85, 3.96, 1.97, 4.55, 0.53, 0.92, -0.31, 1.28, 0.83, 1.57, 0.89, 1.02, 2.53, 1.55, 1.11, 1.81, 0.79, 2.83, -0.52, 0.0, 0.09, 2.57, 3.9, 1.32, -1.17, 1.31, 1.48, -1.57, 0.69, 0.55, 2.54, 0.48, 2.07, 0.79, 0.7, 1.62, 1.42, 2.74, 0.92, 3.57, -0.09, -0.42, 1.59, 0.84, 0.61, 1.36, 0.47, -0.89, 1.99, 0.85, 1.55, 0.61, 0.15, 0.17, 0.09, 0.38]}, {\"hovertext\": [\"called_strike\", \"foul\", \"ball\", \"ball\", \"swinging_strike\", \"foul\", \"ball\", \"hit_into_play\", \"blocked_ball\", \"foul\", \"ball\", \"foul\", \"ball\", \"foul\", \"foul\", \"hit_into_play_no_out\", \"foul\", \"foul\", \"foul\", \"foul\", \"called_strike\", \"foul_tip\", \"ball\", \"hit_into_play\", \"swinging_strike\", \"swinging_strike\", \"swinging_strike\", \"called_strike\", \"ball\", \"blocked_ball\", \"foul\", \"swinging_strike\", \"swinging_strike\", \"swinging_strike\", \"ball\", \"foul\", \"ball\", \"swinging_strike\", \"ball\", \"foul\", \"ball\", \"swinging_strike\", \"swinging_strike\", \"blocked_ball\", \"swinging_strike\", \"ball\", \"hit_into_play\", \"foul\", \"ball\", \"ball\", \"swinging_strike_blocked\", \"foul\", \"ball\", \"hit_into_play\", \"foul_tip\", \"ball\", \"hit_into_play\", \"called_strike\", \"ball\", \"foul_tip\", \"blocked_ball\", \"foul\", \"blocked_ball\", \"swinging_strike\", \"foul\", \"ball\", \"hit_into_play\", \"ball\", \"ball\", \"swinging_strike\", \"ball\", \"swinging_strike\", \"foul\", \"swinging_strike\", \"swinging_strike\", \"ball\", \"swinging_strike\", \"hit_into_play\", \"ball\", \"swinging_strike\", \"foul\", \"ball\", \"ball\", \"hit_into_play\", \"ball\", \"swinging_strike\", \"foul_tip\", \"foul\", \"hit_into_play\", \"foul_tip\", \"ball\", \"ball\", \"foul_tip\", \"foul\", \"called_strike\", \"foul\", \"foul\", \"foul\", \"foul\", \"foul\", \"foul\", \"ball\", \"hit_into_play\", \"hit_into_play\", \"hit_into_play_no_out\", \"foul\", \"swinging_strike\", \"ball\", \"hit_into_play\", \"ball\", \"swinging_strike_blocked\", \"ball\", \"swinging_strike\", \"ball\", \"ball\", \"swinging_strike_blocked\", \"ball\", \"foul\", \"foul\", \"hit_into_play\", \"ball\", \"foul\", \"swinging_strike\", \"foul\", \"hit_into_play\", \"ball\", \"ball\", \"ball\", \"hit_into_play_no_out\", \"hit_into_play\", \"foul\", \"foul\", \"foul\", \"hit_into_play\", \"foul\", \"swinging_strike\", \"ball\", \"called_strike\", \"called_strike\", \"ball\", \"ball\", \"blocked_ball\", \"swinging_strike\", \"ball\", \"ball\", \"hit_into_play_no_out\", \"ball\", \"hit_into_play\", \"ball\", \"ball\", \"ball\", \"blocked_ball\", \"hit_into_play\", \"hit_into_play\", \"ball\", \"ball\", \"hit_into_play\", \"hit_into_play\", \"ball\", \"called_strike\", \"ball\", \"swinging_strike\", \"ball\", \"ball\", \"hit_into_play\", \"swinging_strike_blocked\", \"foul\", \"swinging_strike\", \"hit_into_play\", \"ball\", \"foul_tip\", \"hit_into_play\", \"blocked_ball\", \"hit_into_play_no_out\", \"ball\", \"foul\", \"swinging_strike\", \"swinging_strike\", \"ball\", \"swinging_strike\", \"hit_into_play\", \"hit_into_play\", \"swinging_strike_blocked\", \"foul\", \"hit_into_play\", \"ball\", \"ball\", \"swinging_strike\", \"foul\", \"ball\", \"hit_into_play\", \"ball\", \"swinging_strike\", \"ball\", \"hit_into_play\", \"ball\", \"foul\", \"foul\", \"swinging_strike\", \"ball\", \"ball\", \"called_strike\", \"ball\", \"foul\", \"foul\", \"swinging_strike_blocked\", \"hit_into_play\", \"ball\", \"foul\", \"hit_into_play\", \"ball\", \"hit_into_play\", \"hit_into_play_score\", \"swinging_strike\", \"hit_into_play_no_out\", \"ball\", \"hit_into_play\", \"hit_into_play\", \"swinging_strike_blocked\", \"ball\", \"hit_into_play_no_out\", \"swinging_strike\", \"foul\", \"foul\", \"swinging_strike\", \"foul\", \"foul\", \"ball\", \"foul_tip\", \"foul\", \"foul\", \"ball\", \"ball\", \"called_strike\", \"called_strike\", \"swinging_strike_blocked\", \"ball\", \"ball\", \"ball\", \"swinging_strike\", \"swinging_strike\", \"hit_into_play\", \"foul\", \"foul_tip\", \"hit_into_play_score\", \"blocked_ball\", \"hit_by_pitch\", \"hit_into_play\", \"swinging_strike\", \"hit_into_play\", \"swinging_strike\", \"swinging_strike\", \"hit_into_play_no_out\", \"hit_into_play_no_out\", \"swinging_strike\", \"ball\", \"blocked_ball\", \"swinging_strike\", \"foul\", \"ball\", \"foul\", \"hit_into_play\", \"hit_into_play_score\", \"ball\", \"called_strike\", \"ball\", \"ball\", \"called_strike\", \"ball\", \"swinging_strike_blocked\", \"ball\", \"called_strike\", \"foul\", \"ball\", \"hit_into_play\", \"swinging_strike\", \"hit_into_play\", \"ball\", \"ball\", \"foul\", \"ball\", \"ball\", \"hit_into_play\", \"ball\", \"swinging_strike\", \"ball\", \"ball\", \"swinging_strike\", \"hit_into_play\", \"hit_into_play_no_out\", \"ball\", \"foul\", \"ball\", \"swinging_strike\", \"swinging_strike\", \"swinging_strike\", \"ball\", \"foul\", \"hit_into_play_score\", \"called_strike\", \"foul\", \"ball\", \"hit_into_play\", \"ball\", \"swinging_strike\", \"ball\", \"ball\", \"hit_into_play\", \"ball\", \"foul\", \"foul\", \"ball\", \"foul\", \"swinging_strike\", \"ball\", \"swinging_strike\", \"ball\", \"foul\", \"foul\", \"foul\", \"swinging_strike\", \"called_strike\", \"ball\", \"ball\", \"swinging_strike\", \"foul\", \"blocked_ball\", \"hit_into_play\", \"ball\", \"ball\", \"hit_into_play\", \"swinging_strike_blocked\", \"ball\", \"foul\", \"ball\", \"hit_into_play_score\", \"hit_into_play\", \"foul\", \"ball\", \"swinging_strike\", \"called_strike\", \"hit_into_play\", \"foul\", \"ball\", \"swinging_strike_blocked\", \"swinging_strike\", \"swinging_strike\", \"hit_into_play\", \"ball\", \"foul\", \"swinging_strike\", \"ball\", \"foul\", \"hit_into_play_no_out\", \"hit_into_play\", \"swinging_strike\", \"swinging_strike\", \"hit_into_play\", \"hit_into_play\", \"ball\", \"foul\", \"hit_into_play\", \"foul\", \"called_strike\", \"swinging_strike\", \"ball\", \"ball\", \"hit_into_play\", \"ball\", \"foul\", \"ball\", \"foul\", \"hit_into_play_score\", \"ball\", \"blocked_ball\", \"called_strike\", \"foul\", \"hit_into_play_no_out\", \"ball\", \"foul\", \"ball\", \"swinging_strike\", \"ball\", \"ball\", \"foul_tip\", \"ball\", \"foul\", \"foul\", \"foul\", \"foul\", \"foul\", \"ball\", \"foul\", \"swinging_strike\", \"hit_into_play_no_out\", \"hit_into_play\", \"ball\", \"ball\", \"ball\", \"foul\", \"foul_tip\", \"ball\", \"swinging_strike\", \"hit_into_play_no_out\", \"swinging_strike\", \"ball\", \"called_strike\", \"swinging_strike\", \"ball\", \"blocked_ball\", \"swinging_strike\", \"hit_into_play_no_out\", \"ball\", \"hit_into_play_no_out\", \"ball\", \"foul\", \"ball\", \"ball\", \"hit_into_play\", \"swinging_strike_blocked\", \"foul\", \"ball\", \"ball\", \"foul\", \"ball\", \"ball\", \"called_strike\", \"ball\", \"foul\", \"swinging_strike\", \"foul\", \"ball\", \"foul\", \"hit_into_play\", \"ball\", \"ball\", \"foul\", \"ball\", \"hit_into_play_score\", \"ball\", \"ball\", \"ball\", \"hit_into_play\", \"foul_tip\", \"foul\", \"hit_into_play\", \"foul\", \"ball\", \"foul\", \"foul\", \"hit_into_play\", \"hit_into_play\", \"hit_into_play\", \"ball\", \"foul\", \"ball\", \"swinging_strike\", \"swinging_strike\", \"foul\", \"ball\", \"hit_into_play\", \"ball\", \"hit_into_play\", \"ball\", \"swinging_strike\", \"ball\", \"ball\", \"swinging_strike_blocked\", \"ball\", \"foul\", \"hit_into_play\", \"ball\", \"foul_tip\", \"swinging_strike\", \"hit_into_play_score\", \"swinging_strike_blocked\", \"ball\", \"foul\", \"ball\", \"called_strike\", \"blocked_ball\", \"blocked_ball\", \"swinging_strike_blocked\", \"ball\", \"ball\", \"hit_into_play\", \"ball\", \"hit_into_play\", \"foul\", \"hit_into_play\", \"swinging_strike\", \"foul_tip\", \"foul\", \"foul\", \"called_strike\", \"hit_into_play_score\", \"foul\", \"foul\"], \"marker\": {\"line\": {\"width\": 2}, \"size\": 10}, \"mode\": \"markers\", \"name\": \"Changeup\", \"type\": \"scatter\", \"x\": [-0.75, -0.46, -0.28, 0.53, -0.75, -1.42, 0.59, -0.04, -1.15, 0.26, 0.21, -0.02, 0.82, -0.11, -0.12, -0.03, -1.17, 0.03, -1.85, 1.4, 0.41, -0.95, -1.18, -0.99, -0.68], \"y\": [0.86, 2.64, 1.03, 0.15, 3.11, 2.62, 1.64, 0.47, 3.49, 2.84, 0.77, 0.76, 0.38, 2.07, 1.7, 0.28, 1.95, 1.77, 2.69, 0.4, 1.44, 2.61, 2.63, 0.77, 0.23]}],\n",
       "                        {\"height\": 700, \"template\": {\"data\": {\"bar\": [{\"error_x\": {\"color\": \"#2a3f5f\"}, \"error_y\": {\"color\": \"#2a3f5f\"}, \"marker\": {\"line\": {\"color\": \"#E5ECF6\", \"width\": 0.5}}, \"type\": \"bar\"}], \"barpolar\": [{\"marker\": {\"line\": {\"color\": \"#E5ECF6\", \"width\": 0.5}}, \"type\": \"barpolar\"}], \"carpet\": [{\"aaxis\": {\"endlinecolor\": \"#2a3f5f\", \"gridcolor\": \"white\", \"linecolor\": \"white\", \"minorgridcolor\": \"white\", \"startlinecolor\": \"#2a3f5f\"}, \"baxis\": {\"endlinecolor\": \"#2a3f5f\", \"gridcolor\": \"white\", \"linecolor\": \"white\", \"minorgridcolor\": \"white\", \"startlinecolor\": \"#2a3f5f\"}, \"type\": \"carpet\"}], \"choropleth\": [{\"colorbar\": {\"outlinewidth\": 0, \"ticks\": \"\"}, \"type\": \"choropleth\"}], \"contour\": [{\"colorbar\": {\"outlinewidth\": 0, \"ticks\": \"\"}, \"colorscale\": [[0.0, \"#0d0887\"], [0.1111111111111111, \"#46039f\"], [0.2222222222222222, \"#7201a8\"], [0.3333333333333333, \"#9c179e\"], [0.4444444444444444, \"#bd3786\"], [0.5555555555555556, \"#d8576b\"], [0.6666666666666666, \"#ed7953\"], [0.7777777777777778, \"#fb9f3a\"], [0.8888888888888888, \"#fdca26\"], [1.0, \"#f0f921\"]], \"type\": \"contour\"}], \"contourcarpet\": [{\"colorbar\": {\"outlinewidth\": 0, \"ticks\": \"\"}, \"type\": \"contourcarpet\"}], \"heatmap\": [{\"colorbar\": {\"outlinewidth\": 0, \"ticks\": \"\"}, \"colorscale\": [[0.0, \"#0d0887\"], [0.1111111111111111, \"#46039f\"], [0.2222222222222222, \"#7201a8\"], [0.3333333333333333, \"#9c179e\"], [0.4444444444444444, \"#bd3786\"], [0.5555555555555556, \"#d8576b\"], [0.6666666666666666, \"#ed7953\"], [0.7777777777777778, \"#fb9f3a\"], [0.8888888888888888, \"#fdca26\"], [1.0, \"#f0f921\"]], \"type\": \"heatmap\"}], \"heatmapgl\": [{\"colorbar\": {\"outlinewidth\": 0, \"ticks\": \"\"}, \"colorscale\": [[0.0, \"#0d0887\"], [0.1111111111111111, \"#46039f\"], [0.2222222222222222, \"#7201a8\"], [0.3333333333333333, \"#9c179e\"], [0.4444444444444444, \"#bd3786\"], [0.5555555555555556, \"#d8576b\"], [0.6666666666666666, \"#ed7953\"], [0.7777777777777778, \"#fb9f3a\"], [0.8888888888888888, \"#fdca26\"], [1.0, \"#f0f921\"]], \"type\": \"heatmapgl\"}], \"histogram\": [{\"marker\": {\"colorbar\": {\"outlinewidth\": 0, \"ticks\": \"\"}}, \"type\": \"histogram\"}], \"histogram2d\": [{\"colorbar\": {\"outlinewidth\": 0, \"ticks\": \"\"}, \"colorscale\": [[0.0, \"#0d0887\"], [0.1111111111111111, \"#46039f\"], [0.2222222222222222, \"#7201a8\"], [0.3333333333333333, \"#9c179e\"], [0.4444444444444444, \"#bd3786\"], [0.5555555555555556, \"#d8576b\"], [0.6666666666666666, \"#ed7953\"], [0.7777777777777778, \"#fb9f3a\"], [0.8888888888888888, \"#fdca26\"], [1.0, \"#f0f921\"]], \"type\": \"histogram2d\"}], \"histogram2dcontour\": [{\"colorbar\": {\"outlinewidth\": 0, \"ticks\": \"\"}, \"colorscale\": [[0.0, \"#0d0887\"], [0.1111111111111111, \"#46039f\"], [0.2222222222222222, \"#7201a8\"], [0.3333333333333333, \"#9c179e\"], [0.4444444444444444, \"#bd3786\"], [0.5555555555555556, \"#d8576b\"], [0.6666666666666666, \"#ed7953\"], [0.7777777777777778, \"#fb9f3a\"], [0.8888888888888888, \"#fdca26\"], [1.0, \"#f0f921\"]], \"type\": \"histogram2dcontour\"}], \"mesh3d\": [{\"colorbar\": {\"outlinewidth\": 0, \"ticks\": \"\"}, \"type\": \"mesh3d\"}], \"parcoords\": [{\"line\": {\"colorbar\": {\"outlinewidth\": 0, \"ticks\": \"\"}}, \"type\": \"parcoords\"}], \"pie\": [{\"automargin\": true, \"type\": \"pie\"}], \"scatter\": [{\"marker\": {\"colorbar\": {\"outlinewidth\": 0, \"ticks\": \"\"}}, \"type\": \"scatter\"}], \"scatter3d\": [{\"line\": {\"colorbar\": {\"outlinewidth\": 0, \"ticks\": \"\"}}, \"marker\": {\"colorbar\": {\"outlinewidth\": 0, \"ticks\": \"\"}}, \"type\": \"scatter3d\"}], \"scattercarpet\": [{\"marker\": {\"colorbar\": {\"outlinewidth\": 0, \"ticks\": \"\"}}, \"type\": \"scattercarpet\"}], \"scattergeo\": [{\"marker\": {\"colorbar\": {\"outlinewidth\": 0, \"ticks\": \"\"}}, \"type\": \"scattergeo\"}], \"scattergl\": [{\"marker\": {\"colorbar\": {\"outlinewidth\": 0, \"ticks\": \"\"}}, \"type\": \"scattergl\"}], \"scattermapbox\": [{\"marker\": {\"colorbar\": {\"outlinewidth\": 0, \"ticks\": \"\"}}, \"type\": \"scattermapbox\"}], \"scatterpolar\": [{\"marker\": {\"colorbar\": {\"outlinewidth\": 0, \"ticks\": \"\"}}, \"type\": \"scatterpolar\"}], \"scatterpolargl\": [{\"marker\": {\"colorbar\": {\"outlinewidth\": 0, \"ticks\": \"\"}}, \"type\": \"scatterpolargl\"}], \"scatterternary\": [{\"marker\": {\"colorbar\": {\"outlinewidth\": 0, \"ticks\": \"\"}}, \"type\": \"scatterternary\"}], \"surface\": [{\"colorbar\": {\"outlinewidth\": 0, \"ticks\": \"\"}, \"colorscale\": [[0.0, \"#0d0887\"], [0.1111111111111111, \"#46039f\"], [0.2222222222222222, \"#7201a8\"], [0.3333333333333333, \"#9c179e\"], [0.4444444444444444, \"#bd3786\"], [0.5555555555555556, \"#d8576b\"], [0.6666666666666666, \"#ed7953\"], [0.7777777777777778, \"#fb9f3a\"], [0.8888888888888888, \"#fdca26\"], [1.0, \"#f0f921\"]], \"type\": \"surface\"}], \"table\": [{\"cells\": {\"fill\": {\"color\": \"#EBF0F8\"}, \"line\": {\"color\": \"white\"}}, \"header\": {\"fill\": {\"color\": \"#C8D4E3\"}, \"line\": {\"color\": \"white\"}}, \"type\": \"table\"}]}, \"layout\": {\"annotationdefaults\": {\"arrowcolor\": \"#2a3f5f\", \"arrowhead\": 0, \"arrowwidth\": 1}, \"coloraxis\": {\"colorbar\": {\"outlinewidth\": 0, \"ticks\": \"\"}}, \"colorscale\": {\"diverging\": [[0, \"#8e0152\"], [0.1, \"#c51b7d\"], [0.2, \"#de77ae\"], [0.3, \"#f1b6da\"], [0.4, \"#fde0ef\"], [0.5, \"#f7f7f7\"], [0.6, \"#e6f5d0\"], [0.7, \"#b8e186\"], [0.8, \"#7fbc41\"], [0.9, \"#4d9221\"], [1, \"#276419\"]], \"sequential\": [[0.0, \"#0d0887\"], [0.1111111111111111, \"#46039f\"], [0.2222222222222222, \"#7201a8\"], [0.3333333333333333, \"#9c179e\"], [0.4444444444444444, \"#bd3786\"], [0.5555555555555556, \"#d8576b\"], [0.6666666666666666, \"#ed7953\"], [0.7777777777777778, \"#fb9f3a\"], [0.8888888888888888, \"#fdca26\"], [1.0, \"#f0f921\"]], \"sequentialminus\": [[0.0, \"#0d0887\"], [0.1111111111111111, \"#46039f\"], [0.2222222222222222, \"#7201a8\"], [0.3333333333333333, \"#9c179e\"], [0.4444444444444444, \"#bd3786\"], [0.5555555555555556, \"#d8576b\"], [0.6666666666666666, \"#ed7953\"], [0.7777777777777778, \"#fb9f3a\"], [0.8888888888888888, \"#fdca26\"], [1.0, \"#f0f921\"]]}, \"colorway\": [\"#636efa\", \"#EF553B\", \"#00cc96\", \"#ab63fa\", \"#FFA15A\", \"#19d3f3\", \"#FF6692\", \"#B6E880\", \"#FF97FF\", \"#FECB52\"], \"font\": {\"color\": \"#2a3f5f\"}, \"geo\": {\"bgcolor\": \"white\", \"lakecolor\": \"white\", \"landcolor\": \"#E5ECF6\", \"showlakes\": true, \"showland\": true, \"subunitcolor\": \"white\"}, \"hoverlabel\": {\"align\": \"left\"}, \"hovermode\": \"closest\", \"mapbox\": {\"style\": \"light\"}, \"paper_bgcolor\": \"white\", \"plot_bgcolor\": \"#E5ECF6\", \"polar\": {\"angularaxis\": {\"gridcolor\": \"white\", \"linecolor\": \"white\", \"ticks\": \"\"}, \"bgcolor\": \"#E5ECF6\", \"radialaxis\": {\"gridcolor\": \"white\", \"linecolor\": \"white\", \"ticks\": \"\"}}, \"scene\": {\"xaxis\": {\"backgroundcolor\": \"#E5ECF6\", \"gridcolor\": \"white\", \"gridwidth\": 2, \"linecolor\": \"white\", \"showbackground\": true, \"ticks\": \"\", \"zerolinecolor\": \"white\"}, \"yaxis\": {\"backgroundcolor\": \"#E5ECF6\", \"gridcolor\": \"white\", \"gridwidth\": 2, \"linecolor\": \"white\", \"showbackground\": true, \"ticks\": \"\", \"zerolinecolor\": \"white\"}, \"zaxis\": {\"backgroundcolor\": \"#E5ECF6\", \"gridcolor\": \"white\", \"gridwidth\": 2, \"linecolor\": \"white\", \"showbackground\": true, \"ticks\": \"\", \"zerolinecolor\": \"white\"}}, \"shapedefaults\": {\"line\": {\"color\": \"#2a3f5f\"}}, \"ternary\": {\"aaxis\": {\"gridcolor\": \"white\", \"linecolor\": \"white\", \"ticks\": \"\"}, \"baxis\": {\"gridcolor\": \"white\", \"linecolor\": \"white\", \"ticks\": \"\"}, \"bgcolor\": \"#E5ECF6\", \"caxis\": {\"gridcolor\": \"white\", \"linecolor\": \"white\", \"ticks\": \"\"}}, \"title\": {\"x\": 0.05}, \"xaxis\": {\"automargin\": true, \"gridcolor\": \"white\", \"linecolor\": \"white\", \"ticks\": \"\", \"title\": {\"standoff\": 15}, \"zerolinecolor\": \"white\", \"zerolinewidth\": 2}, \"yaxis\": {\"automargin\": true, \"gridcolor\": \"white\", \"linecolor\": \"white\", \"ticks\": \"\", \"title\": {\"standoff\": 15}, \"zerolinecolor\": \"white\", \"zerolinewidth\": 2}}}, \"title\": {\"text\": \"Pitch types of Gerrit Cole on 2 Strike Count 2020 \"}, \"width\": 700, \"xaxis\": {\"zeroline\": false}, \"yaxis\": {\"zeroline\": false}},\n",
       "                        {\"responsive\": true}\n",
       "                    ).then(function(){\n",
       "                            \n",
       "var gd = document.getElementById('7beb869f-9649-450d-acab-8bc7f279ee09');\n",
       "var x = new MutationObserver(function (mutations, observer) {{\n",
       "        var display = window.getComputedStyle(gd).display;\n",
       "        if (!display || display === 'none') {{\n",
       "            console.log([gd, 'removed!']);\n",
       "            Plotly.purge(gd);\n",
       "            observer.disconnect();\n",
       "        }}\n",
       "}});\n",
       "\n",
       "// Listen for the removal of the full notebook cells\n",
       "var notebookContainer = gd.closest('#notebook-container');\n",
       "if (notebookContainer) {{\n",
       "    x.observe(notebookContainer, {childList: true});\n",
       "}}\n",
       "\n",
       "// Listen for the clearing of the current output cell\n",
       "var outputEl = gd.closest('.output');\n",
       "if (outputEl) {{\n",
       "    x.observe(outputEl, {childList: true});\n",
       "}}\n",
       "\n",
       "                        })\n",
       "                };\n",
       "                });\n",
       "            </script>\n",
       "        </div>"
      ]
     },
     "metadata": {},
     "output_type": "display_data"
    }
   ],
   "source": [
    "trace0 = go.Scatter(x = cole_strike2.plate_x[cole_strike2.pitch_type == 'FF'],\n",
    "                   y = cole_strike2.plate_z[cole_strike2.pitch_type == 'FF'],\n",
    "                   name = 'Four Seam Fastball',\n",
    "                   mode = 'markers',\n",
    "                   hovertext=cole_strike2.description,\n",
    "                   marker = dict(size=10,\n",
    "                                line=dict(width=2)\n",
    "                                )\n",
    "                   )\n",
    "\n",
    "trace1 = go.Scatter(x = cole_strike2.plate_x[cole_strike2.pitch_type == 'SL'],\n",
    "                   y = cole_strike2.plate_z[cole_strike2.pitch_type == 'SL'],\n",
    "                   name = 'Slider',\n",
    "                   mode = 'markers',\n",
    "                   hovertext=cole_strike2.description,\n",
    "                   marker = dict(size=10,\n",
    "                                line=dict(width=2)\n",
    "                                )\n",
    "                   )\n",
    "\n",
    "trace2 = go.Scatter(x = cole_strike2.plate_x[cole_strike2.pitch_type == 'KC'],\n",
    "                   y = cole_strike2.plate_z[cole_strike2.pitch_type == 'KC'],\n",
    "                   name = 'Knuckle Curve',\n",
    "                   mode = 'markers',\n",
    "                   hovertext=cole_strike2.description,\n",
    "                   marker = dict(size=10,\n",
    "                                line=dict(width=2)\n",
    "                                )\n",
    "                   )\n",
    "\n",
    "trace3 = go.Scatter(x = cole_strike2.plate_x[cole_strike2.pitch_type == 'CH'],\n",
    "                   y = cole_strike2.plate_z[cole_strike2.pitch_type == 'CH'],\n",
    "                   name = 'Changeup',\n",
    "                   mode = 'markers',\n",
    "                   hovertext=cole_strike2.description,\n",
    "                   marker = dict(size=10,\n",
    "                                line=dict(width=2)\n",
    "                                )\n",
    "                   )\n",
    "\n",
    "data = [trace0, trace1, trace2, trace3]\n",
    "\n",
    "layout = dict(title = 'Pitch types of Gerrit Cole on 2 Strike Count 2020 ',\n",
    "              yaxis = dict(zeroline = False),\n",
    "              xaxis = dict(zeroline = False),\n",
    "              height=700, width=700\n",
    "             )\n",
    "\n",
    "fig = dict(data=data, layout=layout)\n",
    "py.iplot(fig, filename='styled-scatter')"
   ]
  },
  {
   "cell_type": "code",
   "execution_count": 8,
   "metadata": {},
   "outputs": [
    {
     "data": {
      "image/png": "[encoded data removed]",
      "text/plain": [
       "<Figure size 432x288 with 1 Axes>"
      ]
     },
     "metadata": {
      "needs_background": "light"
     },
     "output_type": "display_data"
    }
   ],
   "source": [
    "sns.scatterplot(x='plate_x', \n",
    "            y='plate_z', \n",
    "            hue='pitch_type', \n",
    "            data=cole_strike2,\n",
    "           )\n",
    "plt.legend(bbox_to_anchor=(1.01, 1),borderaxespad=0)\n",
    "plt.title('Pitch Types of Gerrit Cole on 2 Strike Count 2020 (Seaborn)')\n",
    "plt.show()"
   ]
  },
  {
   "cell_type": "markdown",
   "metadata": {},
   "source": [
    "### Pitch Types Gerrit Cole Threw for a strikeout"
   ]
  },
  {
   "cell_type": "code",
   "execution_count": 9,
   "metadata": {},
   "outputs": [
    {
     "name": "stdout",
     "output_type": "stream",
     "text": [
      "Strikeout Pitch %\n",
      "FF    41.129032\n",
      "SL    29.838710\n",
      "KC    24.193548\n",
      "CH     4.838710\n",
      "Name: pitch_type, dtype: float64\n"
     ]
    }
   ],
   "source": [
    "strikeout = cole_stats.events == 'strikeout'\n",
    "cole_k = cole_stats[strikeout]\n",
    "\n",
    "k_pitch_pct = cole_k.pitch_type.value_counts() / len(cole_k)*100\n",
    "print('Strikeout Pitch %\\n{}'.format(k_pitch_pct))"
   ]
  },
  {
   "cell_type": "markdown",
   "metadata": {},
   "source": [
    "### Gerrit Cole Pitch Location on Every Strikeout 2020"
   ]
  },
  {
   "cell_type": "code",
   "execution_count": 10,
   "metadata": {},
   "outputs": [
    {
     "data": {
      "application/vnd.plotly.v1+json": {
       "config": {
        "linkText": "Export to plot.ly",
        "plotlyServerURL": "https://plot.ly",
        "showLink": false
       },
       "data": [
        {
         "marker": {
          "line": {
           "width": 2
          },
          "size": 10
         },
         "mode": "markers",
         "name": "Four Seam Fastball",
         "type": "scatter",
         "x": [
          1.08,
          0.79,
          -0.1,
          -0.7,
          -0.29,
          -0.71,
          -0.92,
          -0.3,
          -0.25,
          0.19,
          -0.68,
          -0.61,
          0.5,
          0.16,
          -0.39,
          -0.23,
          -0.36,
          -0.29,
          -0.05,
          -0.7,
          -0.25,
          -0.11,
          -0.71,
          -0.62,
          -1.09,
          -0.85,
          0.16,
          0.7,
          -0.35,
          0.2,
          0.76,
          -0.1,
          0.65,
          -0.71,
          -0.86,
          0.36,
          0.75,
          -0.7,
          1,
          0.9,
          -0.42,
          -0.72,
          -0.8,
          -0.33,
          -1.14,
          0.92,
          -0.01,
          0.21,
          0.71,
          0.81,
          -0.59
         ],
         "xaxis": "x",
         "y": [
          2.42,
          1.81,
          3.68,
          3.78,
          1.67,
          1.41,
          3.45,
          3.71,
          3.64,
          2.84,
          2.59,
          3.37,
          2.29,
          2.67,
          3.2,
          3.25,
          3.42,
          3.22,
          2.84,
          3.62,
          2.14,
          3.06,
          2.68,
          3.17,
          3.6,
          3.92,
          2.43,
          3.76,
          3.13,
          3.02,
          1.87,
          2.87,
          2.74,
          3.65,
          3.01,
          1.75,
          3.72,
          2.05,
          3.24,
          2.54,
          2.24,
          2.85,
          3.78,
          2.08,
          2.87,
          1.76,
          3.63,
          2.84,
          2.61,
          1.8,
          3.24
         ],
         "yaxis": "y"
        },
        {
         "marker": {
          "line": {
           "width": 2
          },
          "size": 10
         },
         "mode": "markers",
         "name": "Slider",
         "type": "scatter",
         "x": [
          0.91,
          0.94,
          0.48,
          1.1,
          0.46,
          1.24,
          1.09,
          0.72,
          0.76,
          1.12,
          1.05,
          1.21,
          1.51,
          1.3,
          1.55,
          0.46,
          0.79,
          1.05,
          1.22,
          1.45,
          0.99,
          0.83,
          0.6,
          0.77,
          0.2,
          0.85,
          1.71,
          0.86,
          1.43,
          0.37,
          0.92,
          1.09,
          0.22,
          1.05,
          -0.19,
          1.04,
          1.18
         ],
         "xaxis": "x2",
         "y": [
          2.32,
          1.62,
          1.78,
          2.08,
          2.71,
          2.05,
          0.71,
          1.08,
          2.49,
          1.5,
          0.92,
          1.45,
          0.96,
          0.86,
          0.05,
          1.93,
          0.9,
          1.99,
          0.43,
          1.26,
          2.52,
          1.33,
          1.68,
          1.92,
          1.97,
          3.1,
          0.85,
          1.47,
          0.81,
          1.13,
          1.93,
          1.31,
          2.38,
          2.05,
          3.08,
          1.07,
          2.33
         ],
         "yaxis": "y2"
        },
        {
         "marker": {
          "line": {
           "width": 2
          },
          "size": 10
         },
         "mode": "markers",
         "name": "Knuckle Curve",
         "type": "scatter",
         "x": [
          -0.1,
          1.89,
          1.23,
          0.87,
          0.21,
          1.08,
          -0.72,
          1.14,
          0.76,
          0.94,
          0.14,
          0.02,
          -0.09,
          0.29,
          -0.74,
          -0.26,
          0.08,
          -0.61,
          0.42,
          0.75,
          0.14,
          -0.47,
          -0.11,
          0.84,
          0.78,
          1.12,
          0.2,
          0.56,
          0.75,
          1.12
         ],
         "xaxis": "x3",
         "y": [
          1.99,
          -0.48,
          1.42,
          2.44,
          1.04,
          1.39,
          2.38,
          -1.25,
          0.87,
          0.65,
          1.97,
          0.53,
          0.89,
          1.02,
          2.53,
          1.55,
          1.11,
          2.83,
          1.31,
          1.48,
          0.69,
          0.48,
          2.74,
          -0.42,
          1.36,
          0.85,
          1.55,
          0.17,
          0.09,
          0.38
         ],
         "yaxis": "y3"
        },
        {
         "marker": {
          "line": {
           "width": 2
          },
          "size": 10
         },
         "mode": "markers",
         "name": "Changeup",
         "type": "scatter",
         "x": [
          -0.75,
          0.59,
          0.26,
          -0.11,
          -1.17,
          0.03
         ],
         "xaxis": "x4",
         "y": [
          3.11,
          1.64,
          2.84,
          2.07,
          1.95,
          1.77
         ],
         "yaxis": "y4"
        }
       ],
       "layout": {
        "height": 900,
        "template": {
         "data": {
          "bar": [
           {
            "error_x": {
             "color": "#2a3f5f"
            },
            "error_y": {
             "color": "#2a3f5f"
            },
            "marker": {
             "line": {
              "color": "#E5ECF6",
              "width": 0.5
             }
            },
            "type": "bar"
           }
          ],
          "barpolar": [
           {
            "marker": {
             "line": {
              "color": "#E5ECF6",
              "width": 0.5
             }
            },
            "type": "barpolar"
           }
          ],
          "carpet": [
           {
            "aaxis": {
             "endlinecolor": "#2a3f5f",
             "gridcolor": "white",
             "linecolor": "white",
             "minorgridcolor": "white",
             "startlinecolor": "#2a3f5f"
            },
            "baxis": {
             "endlinecolor": "#2a3f5f",
             "gridcolor": "white",
             "linecolor": "white",
             "minorgridcolor": "white",
             "startlinecolor": "#2a3f5f"
            },
            "type": "carpet"
           }
          ],
          "choropleth": [
           {
            "colorbar": {
             "outlinewidth": 0,
             "ticks": ""
            },
            "type": "choropleth"
           }
          ],
          "contour": [
           {
            "colorbar": {
             "outlinewidth": 0,
             "ticks": ""
            },
            "colorscale": [
             [
              0,
              "#0d0887"
             ],
             [
              0.1111111111111111,
              "#46039f"
             ],
             [
              0.2222222222222222,
              "#7201a8"
             ],
             [
              0.3333333333333333,
              "#9c179e"
             ],
             [
              0.4444444444444444,
              "#bd3786"
             ],
             [
              0.5555555555555556,
              "#d8576b"
             ],
             [
              0.6666666666666666,
              "#ed7953"
             ],
             [
              0.7777777777777778,
              "#fb9f3a"
             ],
             [
              0.8888888888888888,
              "#fdca26"
             ],
             [
              1,
              "#f0f921"
             ]
            ],
            "type": "contour"
           }
          ],
          "contourcarpet": [
           {
            "colorbar": {
             "outlinewidth": 0,
             "ticks": ""
            },
            "type": "contourcarpet"
           }
          ],
          "heatmap": [
           {
            "colorbar": {
             "outlinewidth": 0,
             "ticks": ""
            },
            "colorscale": [
             [
              0,
              "#0d0887"
             ],
             [
              0.1111111111111111,
              "#46039f"
             ],
             [
              0.2222222222222222,
              "#7201a8"
             ],
             [
              0.3333333333333333,
              "#9c179e"
             ],
             [
              0.4444444444444444,
              "#bd3786"
             ],
             [
              0.5555555555555556,
              "#d8576b"
             ],
             [
              0.6666666666666666,
              "#ed7953"
             ],
             [
              0.7777777777777778,
              "#fb9f3a"
             ],
             [
              0.8888888888888888,
              "#fdca26"
             ],
             [
              1,
              "#f0f921"
             ]
            ],
            "type": "heatmap"
           }
          ],
          "heatmapgl": [
           {
            "colorbar": {
             "outlinewidth": 0,
             "ticks": ""
            },
            "colorscale": [
             [
              0,
              "#0d0887"
             ],
             [
              0.1111111111111111,
              "#46039f"
             ],
             [
              0.2222222222222222,
              "#7201a8"
             ],
             [
              0.3333333333333333,
              "#9c179e"
             ],
             [
              0.4444444444444444,
              "#bd3786"
             ],
             [
              0.5555555555555556,
              "#d8576b"
             ],
             [
              0.6666666666666666,
              "#ed7953"
             ],
             [
              0.7777777777777778,
              "#fb9f3a"
             ],
             [
              0.8888888888888888,
              "#fdca26"
             ],
             [
              1,
              "#f0f921"
             ]
            ],
            "type": "heatmapgl"
           }
          ],
          "histogram": [
           {
            "marker": {
             "colorbar": {
              "outlinewidth": 0,
              "ticks": ""
             }
            },
            "type": "histogram"
           }
          ],
          "histogram2d": [
           {
            "colorbar": {
             "outlinewidth": 0,
             "ticks": ""
            },
            "colorscale": [
             [
              0,
              "#0d0887"
             ],
             [
              0.1111111111111111,
              "#46039f"
             ],
             [
              0.2222222222222222,
              "#7201a8"
             ],
             [
              0.3333333333333333,
              "#9c179e"
             ],
             [
              0.4444444444444444,
              "#bd3786"
             ],
             [
              0.5555555555555556,
              "#d8576b"
             ],
             [
              0.6666666666666666,
              "#ed7953"
             ],
             [
              0.7777777777777778,
              "#fb9f3a"
             ],
             [
              0.8888888888888888,
              "#fdca26"
             ],
             [
              1,
              "#f0f921"
             ]
            ],
            "type": "histogram2d"
           }
          ],
          "histogram2dcontour": [
           {
            "colorbar": {
             "outlinewidth": 0,
             "ticks": ""
            },
            "colorscale": [
             [
              0,
              "#0d0887"
             ],
             [
              0.1111111111111111,
              "#46039f"
             ],
             [
              0.2222222222222222,
              "#7201a8"
             ],
             [
              0.3333333333333333,
              "#9c179e"
             ],
             [
              0.4444444444444444,
              "#bd3786"
             ],
             [
              0.5555555555555556,
              "#d8576b"
             ],
             [
              0.6666666666666666,
              "#ed7953"
             ],
             [
              0.7777777777777778,
              "#fb9f3a"
             ],
             [
              0.8888888888888888,
              "#fdca26"
             ],
             [
              1,
              "#f0f921"
             ]
            ],
            "type": "histogram2dcontour"
           }
          ],
          "mesh3d": [
           {
            "colorbar": {
             "outlinewidth": 0,
             "ticks": ""
            },
            "type": "mesh3d"
           }
          ],
          "parcoords": [
           {
            "line": {
             "colorbar": {
              "outlinewidth": 0,
              "ticks": ""
             }
            },
            "type": "parcoords"
           }
          ],
          "pie": [
           {
            "automargin": true,
            "type": "pie"
           }
          ],
          "scatter": [
           {
            "marker": {
             "colorbar": {
              "outlinewidth": 0,
              "ticks": ""
             }
            },
            "type": "scatter"
           }
          ],
          "scatter3d": [
           {
            "line": {
             "colorbar": {
              "outlinewidth": 0,
              "ticks": ""
             }
            },
            "marker": {
             "colorbar": {
              "outlinewidth": 0,
              "ticks": ""
             }
            },
            "type": "scatter3d"
           }
          ],
          "scattercarpet": [
           {
            "marker": {
             "colorbar": {
              "outlinewidth": 0,
              "ticks": ""
             }
            },
            "type": "scattercarpet"
           }
          ],
          "scattergeo": [
           {
            "marker": {
             "colorbar": {
              "outlinewidth": 0,
              "ticks": ""
             }
            },
            "type": "scattergeo"
           }
          ],
          "scattergl": [
           {
            "marker": {
             "colorbar": {
              "outlinewidth": 0,
              "ticks": ""
             }
            },
            "type": "scattergl"
           }
          ],
          "scattermapbox": [
           {
            "marker": {
             "colorbar": {
              "outlinewidth": 0,
              "ticks": ""
             }
            },
            "type": "scattermapbox"
           }
          ],
          "scatterpolar": [
           {
            "marker": {
             "colorbar": {
              "outlinewidth": 0,
              "ticks": ""
             }
            },
            "type": "scatterpolar"
           }
          ],
          "scatterpolargl": [
           {
            "marker": {
             "colorbar": {
              "outlinewidth": 0,
              "ticks": ""
             }
            },
            "type": "scatterpolargl"
           }
          ],
          "scatterternary": [
           {
            "marker": {
             "colorbar": {
              "outlinewidth": 0,
              "ticks": ""
             }
            },
            "type": "scatterternary"
           }
          ],
          "surface": [
           {
            "colorbar": {
             "outlinewidth": 0,
             "ticks": ""
            },
            "colorscale": [
             [
              0,
              "#0d0887"
             ],
             [
              0.1111111111111111,
              "#46039f"
             ],
             [
              0.2222222222222222,
              "#7201a8"
             ],
             [
              0.3333333333333333,
              "#9c179e"
             ],
             [
              0.4444444444444444,
              "#bd3786"
             ],
             [
              0.5555555555555556,
              "#d8576b"
             ],
             [
              0.6666666666666666,
              "#ed7953"
             ],
             [
              0.7777777777777778,
              "#fb9f3a"
             ],
             [
              0.8888888888888888,
              "#fdca26"
             ],
             [
              1,
              "#f0f921"
             ]
            ],
            "type": "surface"
           }
          ],
          "table": [
           {
            "cells": {
             "fill": {
              "color": "#EBF0F8"
             },
             "line": {
              "color": "white"
             }
            },
            "header": {
             "fill": {
              "color": "#C8D4E3"
             },
             "line": {
              "color": "white"
             }
            },
            "type": "table"
           }
          ]
         },
         "layout": {
          "annotationdefaults": {
           "arrowcolor": "#2a3f5f",
           "arrowhead": 0,
           "arrowwidth": 1
          },
          "coloraxis": {
           "colorbar": {
            "outlinewidth": 0,
            "ticks": ""
           }
          },
          "colorscale": {
           "diverging": [
            [
             0,
             "#8e0152"
            ],
            [
             0.1,
             "#c51b7d"
            ],
            [
             0.2,
             "#de77ae"
            ],
            [
             0.3,
             "#f1b6da"
            ],
            [
             0.4,
             "#fde0ef"
            ],
            [
             0.5,
             "#f7f7f7"
            ],
            [
             0.6,
             "#e6f5d0"
            ],
            [
             0.7,
             "#b8e186"
            ],
            [
             0.8,
             "#7fbc41"
            ],
            [
             0.9,
             "#4d9221"
            ],
            [
             1,
             "#276419"
            ]
           ],
           "sequential": [
            [
             0,
             "#0d0887"
            ],
            [
             0.1111111111111111,
             "#46039f"
            ],
            [
             0.2222222222222222,
             "#7201a8"
            ],
            [
             0.3333333333333333,
             "#9c179e"
            ],
            [
             0.4444444444444444,
             "#bd3786"
            ],
            [
             0.5555555555555556,
             "#d8576b"
            ],
            [
             0.6666666666666666,
             "#ed7953"
            ],
            [
             0.7777777777777778,
             "#fb9f3a"
            ],
            [
             0.8888888888888888,
             "#fdca26"
            ],
            [
             1,
             "#f0f921"
            ]
           ],
           "sequentialminus": [
            [
             0,
             "#0d0887"
            ],
            [
             0.1111111111111111,
             "#46039f"
            ],
            [
             0.2222222222222222,
             "#7201a8"
            ],
            [
             0.3333333333333333,
             "#9c179e"
            ],
            [
             0.4444444444444444,
             "#bd3786"
            ],
            [
             0.5555555555555556,
             "#d8576b"
            ],
            [
             0.6666666666666666,
             "#ed7953"
            ],
            [
             0.7777777777777778,
             "#fb9f3a"
            ],
            [
             0.8888888888888888,
             "#fdca26"
            ],
            [
             1,
             "#f0f921"
            ]
           ]
          },
          "colorway": [
           "#636efa",
           "#EF553B",
           "#00cc96",
           "#ab63fa",
           "#FFA15A",
           "#19d3f3",
           "#FF6692",
           "#B6E880",
           "#FF97FF",
           "#FECB52"
          ],
          "font": {
           "color": "#2a3f5f"
          },
          "geo": {
           "bgcolor": "white",
           "lakecolor": "white",
           "landcolor": "#E5ECF6",
           "showlakes": true,
           "showland": true,
           "subunitcolor": "white"
          },
          "hoverlabel": {
           "align": "left"
          },
          "hovermode": "closest",
          "mapbox": {
           "style": "light"
          },
          "paper_bgcolor": "white",
          "plot_bgcolor": "#E5ECF6",
          "polar": {
           "angularaxis": {
            "gridcolor": "white",
            "linecolor": "white",
            "ticks": ""
           },
           "bgcolor": "#E5ECF6",
           "radialaxis": {
            "gridcolor": "white",
            "linecolor": "white",
            "ticks": ""
           }
          },
          "scene": {
           "xaxis": {
            "backgroundcolor": "#E5ECF6",
            "gridcolor": "white",
            "gridwidth": 2,
            "linecolor": "white",
            "showbackground": true,
            "ticks": "",
            "zerolinecolor": "white"
           },
           "yaxis": {
            "backgroundcolor": "#E5ECF6",
            "gridcolor": "white",
            "gridwidth": 2,
            "linecolor": "white",
            "showbackground": true,
            "ticks": "",
            "zerolinecolor": "white"
           },
           "zaxis": {
            "backgroundcolor": "#E5ECF6",
            "gridcolor": "white",
            "gridwidth": 2,
            "linecolor": "white",
            "showbackground": true,
            "ticks": "",
            "zerolinecolor": "white"
           }
          },
          "shapedefaults": {
           "line": {
            "color": "#2a3f5f"
           }
          },
          "ternary": {
           "aaxis": {
            "gridcolor": "white",
            "linecolor": "white",
            "ticks": ""
           },
           "baxis": {
            "gridcolor": "white",
            "linecolor": "white",
            "ticks": ""
           },
           "bgcolor": "#E5ECF6",
           "caxis": {
            "gridcolor": "white",
            "linecolor": "white",
            "ticks": ""
           }
          },
          "title": {
           "x": 0.05
          },
          "xaxis": {
           "automargin": true,
           "gridcolor": "white",
           "linecolor": "white",
           "ticks": "",
           "title": {
            "standoff": 15
           },
           "zerolinecolor": "white",
           "zerolinewidth": 2
          },
          "yaxis": {
           "automargin": true,
           "gridcolor": "white",
           "linecolor": "white",
           "ticks": "",
           "title": {
            "standoff": 15
           },
           "zerolinecolor": "white",
           "zerolinewidth": 2
          }
         }
        },
        "title": {
         "text": "Pitch Location on Gerrit Cole Strikeouts 2020"
        },
        "xaxis": {
         "anchor": "y",
         "domain": [
          0,
          0.45
         ],
         "zeroline": false
        },
        "xaxis2": {
         "anchor": "y2",
         "domain": [
          0.55,
          1
         ]
        },
        "xaxis3": {
         "anchor": "y3",
         "domain": [
          0,
          0.45
         ]
        },
        "xaxis4": {
         "anchor": "y4",
         "domain": [
          0.55,
          1
         ]
        },
        "yaxis": {
         "anchor": "x",
         "domain": [
          0.575,
          1
         ],
         "zeroline": false
        },
        "yaxis2": {
         "anchor": "x2",
         "domain": [
          0.575,
          1
         ]
        },
        "yaxis3": {
         "anchor": "x3",
         "domain": [
          0,
          0.425
         ]
        },
        "yaxis4": {
         "anchor": "x4",
         "domain": [
          0,
          0.425
         ]
        }
       }
      },
      "text/html": [
       "<div>\n",
       "        \n",
       "        \n",
       "            <div id=\"e16d29f5-5e68-4147-aa65-566b5a8eed3e\" class=\"plotly-graph-div\" style=\"height:900px; width:100%;\"></div>\n",
       "            <script type=\"text/javascript\">\n",
       "                require([\"plotly\"], function(Plotly) {\n",
       "                    window.PLOTLYENV=window.PLOTLYENV || {};\n",
       "                    \n",
       "                if (document.getElementById(\"e16d29f5-5e68-4147-aa65-566b5a8eed3e\")) {\n",
       "                    Plotly.newPlot(\n",
       "                        'e16d29f5-5e68-4147-aa65-566b5a8eed3e',\n",
       "                        [{\"marker\": {\"line\": {\"width\": 2}, \"size\": 10}, \"mode\": \"markers\", \"name\": \"Four Seam Fastball\", \"type\": \"scatter\", \"x\": [1.08, 0.79, -0.1, -0.7, -0.29, -0.71, -0.92, -0.3, -0.25, 0.19, -0.68, -0.61, 0.5, 0.16, -0.39, -0.23, -0.36, -0.29, -0.05, -0.7, -0.25, -0.11, -0.71, -0.62, -1.09, -0.85, 0.16, 0.7, -0.35, 0.2, 0.76, -0.1, 0.65, -0.71, -0.86, 0.36, 0.75, -0.7, 1.0, 0.9, -0.42, -0.72, -0.8, -0.33, -1.14, 0.92, -0.01, 0.21, 0.71, 0.81, -0.59], \"xaxis\": \"x\", \"y\": [2.42, 1.81, 3.68, 3.78, 1.67, 1.41, 3.45, 3.71, 3.64, 2.84, 2.59, 3.37, 2.29, 2.67, 3.2, 3.25, 3.42, 3.22, 2.84, 3.62, 2.14, 3.06, 2.68, 3.17, 3.6, 3.92, 2.43, 3.76, 3.13, 3.02, 1.87, 2.87, 2.74, 3.65, 3.01, 1.75, 3.72, 2.05, 3.24, 2.54, 2.24, 2.85, 3.78, 2.08, 2.87, 1.76, 3.63, 2.84, 2.61, 1.8, 3.24], \"yaxis\": \"y\"}, {\"marker\": {\"line\": {\"width\": 2}, \"size\": 10}, \"mode\": \"markers\", \"name\": \"Slider\", \"type\": \"scatter\", \"x\": [0.91, 0.94, 0.48, 1.1, 0.46, 1.24, 1.09, 0.72, 0.76, 1.12, 1.05, 1.21, 1.51, 1.3, 1.55, 0.46, 0.79, 1.05, 1.22, 1.45, 0.99, 0.83, 0.6, 0.77, 0.2, 0.85, 1.71, 0.86, 1.43, 0.37, 0.92, 1.09, 0.22, 1.05, -0.19, 1.04, 1.18], \"xaxis\": \"x2\", \"y\": [2.32, 1.62, 1.78, 2.08, 2.71, 2.05, 0.71, 1.08, 2.49, 1.5, 0.92, 1.45, 0.96, 0.86, 0.05, 1.93, 0.9, 1.99, 0.43, 1.26, 2.52, 1.33, 1.68, 1.92, 1.97, 3.1, 0.85, 1.47, 0.81, 1.13, 1.93, 1.31, 2.38, 2.05, 3.08, 1.07, 2.33], \"yaxis\": \"y2\"}, {\"marker\": {\"line\": {\"width\": 2}, \"size\": 10}, \"mode\": \"markers\", \"name\": \"Knuckle Curve\", \"type\": \"scatter\", \"x\": [-0.1, 1.89, 1.23, 0.87, 0.21, 1.08, -0.72, 1.14, 0.76, 0.94, 0.14, 0.02, -0.09, 0.29, -0.74, -0.26, 0.08, -0.61, 0.42, 0.75, 0.14, -0.47, -0.11, 0.84, 0.78, 1.12, 0.2, 0.56, 0.75, 1.12], \"xaxis\": \"x3\", \"y\": [1.99, -0.48, 1.42, 2.44, 1.04, 1.39, 2.38, -1.25, 0.87, 0.65, 1.97, 0.53, 0.89, 1.02, 2.53, 1.55, 1.11, 2.83, 1.31, 1.48, 0.69, 0.48, 2.74, -0.42, 1.36, 0.85, 1.55, 0.17, 0.09, 0.38], \"yaxis\": \"y3\"}, {\"marker\": {\"line\": {\"width\": 2}, \"size\": 10}, \"mode\": \"markers\", \"name\": \"Changeup\", \"type\": \"scatter\", \"x\": [-0.75, 0.59, 0.26, -0.11, -1.17, 0.03], \"xaxis\": \"x4\", \"y\": [3.11, 1.64, 2.84, 2.07, 1.95, 1.77], \"yaxis\": \"y4\"}],\n",
       "                        {\"height\": 900, \"template\": {\"data\": {\"bar\": [{\"error_x\": {\"color\": \"#2a3f5f\"}, \"error_y\": {\"color\": \"#2a3f5f\"}, \"marker\": {\"line\": {\"color\": \"#E5ECF6\", \"width\": 0.5}}, \"type\": \"bar\"}], \"barpolar\": [{\"marker\": {\"line\": {\"color\": \"#E5ECF6\", \"width\": 0.5}}, \"type\": \"barpolar\"}], \"carpet\": [{\"aaxis\": {\"endlinecolor\": \"#2a3f5f\", \"gridcolor\": \"white\", \"linecolor\": \"white\", \"minorgridcolor\": \"white\", \"startlinecolor\": \"#2a3f5f\"}, \"baxis\": {\"endlinecolor\": \"#2a3f5f\", \"gridcolor\": \"white\", \"linecolor\": \"white\", \"minorgridcolor\": \"white\", \"startlinecolor\": \"#2a3f5f\"}, \"type\": \"carpet\"}], \"choropleth\": [{\"colorbar\": {\"outlinewidth\": 0, \"ticks\": \"\"}, \"type\": \"choropleth\"}], \"contour\": [{\"colorbar\": {\"outlinewidth\": 0, \"ticks\": \"\"}, \"colorscale\": [[0.0, \"#0d0887\"], [0.1111111111111111, \"#46039f\"], [0.2222222222222222, \"#7201a8\"], [0.3333333333333333, \"#9c179e\"], [0.4444444444444444, \"#bd3786\"], [0.5555555555555556, \"#d8576b\"], [0.6666666666666666, \"#ed7953\"], [0.7777777777777778, \"#fb9f3a\"], [0.8888888888888888, \"#fdca26\"], [1.0, \"#f0f921\"]], \"type\": \"contour\"}], \"contourcarpet\": [{\"colorbar\": {\"outlinewidth\": 0, \"ticks\": \"\"}, \"type\": \"contourcarpet\"}], \"heatmap\": [{\"colorbar\": {\"outlinewidth\": 0, \"ticks\": \"\"}, \"colorscale\": [[0.0, \"#0d0887\"], [0.1111111111111111, \"#46039f\"], [0.2222222222222222, \"#7201a8\"], [0.3333333333333333, \"#9c179e\"], [0.4444444444444444, \"#bd3786\"], [0.5555555555555556, \"#d8576b\"], [0.6666666666666666, \"#ed7953\"], [0.7777777777777778, \"#fb9f3a\"], [0.8888888888888888, \"#fdca26\"], [1.0, \"#f0f921\"]], \"type\": \"heatmap\"}], \"heatmapgl\": [{\"colorbar\": {\"outlinewidth\": 0, \"ticks\": \"\"}, \"colorscale\": [[0.0, \"#0d0887\"], [0.1111111111111111, \"#46039f\"], [0.2222222222222222, \"#7201a8\"], [0.3333333333333333, \"#9c179e\"], [0.4444444444444444, \"#bd3786\"], [0.5555555555555556, \"#d8576b\"], [0.6666666666666666, \"#ed7953\"], [0.7777777777777778, \"#fb9f3a\"], [0.8888888888888888, \"#fdca26\"], [1.0, \"#f0f921\"]], \"type\": \"heatmapgl\"}], \"histogram\": [{\"marker\": {\"colorbar\": {\"outlinewidth\": 0, \"ticks\": \"\"}}, \"type\": \"histogram\"}], \"histogram2d\": [{\"colorbar\": {\"outlinewidth\": 0, \"ticks\": \"\"}, \"colorscale\": [[0.0, \"#0d0887\"], [0.1111111111111111, \"#46039f\"], [0.2222222222222222, \"#7201a8\"], [0.3333333333333333, \"#9c179e\"], [0.4444444444444444, \"#bd3786\"], [0.5555555555555556, \"#d8576b\"], [0.6666666666666666, \"#ed7953\"], [0.7777777777777778, \"#fb9f3a\"], [0.8888888888888888, \"#fdca26\"], [1.0, \"#f0f921\"]], \"type\": \"histogram2d\"}], \"histogram2dcontour\": [{\"colorbar\": {\"outlinewidth\": 0, \"ticks\": \"\"}, \"colorscale\": [[0.0, \"#0d0887\"], [0.1111111111111111, \"#46039f\"], [0.2222222222222222, \"#7201a8\"], [0.3333333333333333, \"#9c179e\"], [0.4444444444444444, \"#bd3786\"], [0.5555555555555556, \"#d8576b\"], [0.6666666666666666, \"#ed7953\"], [0.7777777777777778, \"#fb9f3a\"], [0.8888888888888888, \"#fdca26\"], [1.0, \"#f0f921\"]], \"type\": \"histogram2dcontour\"}], \"mesh3d\": [{\"colorbar\": {\"outlinewidth\": 0, \"ticks\": \"\"}, \"type\": \"mesh3d\"}], \"parcoords\": [{\"line\": {\"colorbar\": {\"outlinewidth\": 0, \"ticks\": \"\"}}, \"type\": \"parcoords\"}], \"pie\": [{\"automargin\": true, \"type\": \"pie\"}], \"scatter\": [{\"marker\": {\"colorbar\": {\"outlinewidth\": 0, \"ticks\": \"\"}}, \"type\": \"scatter\"}], \"scatter3d\": [{\"line\": {\"colorbar\": {\"outlinewidth\": 0, \"ticks\": \"\"}}, \"marker\": {\"colorbar\": {\"outlinewidth\": 0, \"ticks\": \"\"}}, \"type\": \"scatter3d\"}], \"scattercarpet\": [{\"marker\": {\"colorbar\": {\"outlinewidth\": 0, \"ticks\": \"\"}}, \"type\": \"scattercarpet\"}], \"scattergeo\": [{\"marker\": {\"colorbar\": {\"outlinewidth\": 0, \"ticks\": \"\"}}, \"type\": \"scattergeo\"}], \"scattergl\": [{\"marker\": {\"colorbar\": {\"outlinewidth\": 0, \"ticks\": \"\"}}, \"type\": \"scattergl\"}], \"scattermapbox\": [{\"marker\": {\"colorbar\": {\"outlinewidth\": 0, \"ticks\": \"\"}}, \"type\": \"scattermapbox\"}], \"scatterpolar\": [{\"marker\": {\"colorbar\": {\"outlinewidth\": 0, \"ticks\": \"\"}}, \"type\": \"scatterpolar\"}], \"scatterpolargl\": [{\"marker\": {\"colorbar\": {\"outlinewidth\": 0, \"ticks\": \"\"}}, \"type\": \"scatterpolargl\"}], \"scatterternary\": [{\"marker\": {\"colorbar\": {\"outlinewidth\": 0, \"ticks\": \"\"}}, \"type\": \"scatterternary\"}], \"surface\": [{\"colorbar\": {\"outlinewidth\": 0, \"ticks\": \"\"}, \"colorscale\": [[0.0, \"#0d0887\"], [0.1111111111111111, \"#46039f\"], [0.2222222222222222, \"#7201a8\"], [0.3333333333333333, \"#9c179e\"], [0.4444444444444444, \"#bd3786\"], [0.5555555555555556, \"#d8576b\"], [0.6666666666666666, \"#ed7953\"], [0.7777777777777778, \"#fb9f3a\"], [0.8888888888888888, \"#fdca26\"], [1.0, \"#f0f921\"]], \"type\": \"surface\"}], \"table\": [{\"cells\": {\"fill\": {\"color\": \"#EBF0F8\"}, \"line\": {\"color\": \"white\"}}, \"header\": {\"fill\": {\"color\": \"#C8D4E3\"}, \"line\": {\"color\": \"white\"}}, \"type\": \"table\"}]}, \"layout\": {\"annotationdefaults\": {\"arrowcolor\": \"#2a3f5f\", \"arrowhead\": 0, \"arrowwidth\": 1}, \"coloraxis\": {\"colorbar\": {\"outlinewidth\": 0, \"ticks\": \"\"}}, \"colorscale\": {\"diverging\": [[0, \"#8e0152\"], [0.1, \"#c51b7d\"], [0.2, \"#de77ae\"], [0.3, \"#f1b6da\"], [0.4, \"#fde0ef\"], [0.5, \"#f7f7f7\"], [0.6, \"#e6f5d0\"], [0.7, \"#b8e186\"], [0.8, \"#7fbc41\"], [0.9, \"#4d9221\"], [1, \"#276419\"]], \"sequential\": [[0.0, \"#0d0887\"], [0.1111111111111111, \"#46039f\"], [0.2222222222222222, \"#7201a8\"], [0.3333333333333333, \"#9c179e\"], [0.4444444444444444, \"#bd3786\"], [0.5555555555555556, \"#d8576b\"], [0.6666666666666666, \"#ed7953\"], [0.7777777777777778, \"#fb9f3a\"], [0.8888888888888888, \"#fdca26\"], [1.0, \"#f0f921\"]], \"sequentialminus\": [[0.0, \"#0d0887\"], [0.1111111111111111, \"#46039f\"], [0.2222222222222222, \"#7201a8\"], [0.3333333333333333, \"#9c179e\"], [0.4444444444444444, \"#bd3786\"], [0.5555555555555556, \"#d8576b\"], [0.6666666666666666, \"#ed7953\"], [0.7777777777777778, \"#fb9f3a\"], [0.8888888888888888, \"#fdca26\"], [1.0, \"#f0f921\"]]}, \"colorway\": [\"#636efa\", \"#EF553B\", \"#00cc96\", \"#ab63fa\", \"#FFA15A\", \"#19d3f3\", \"#FF6692\", \"#B6E880\", \"#FF97FF\", \"#FECB52\"], \"font\": {\"color\": \"#2a3f5f\"}, \"geo\": {\"bgcolor\": \"white\", \"lakecolor\": \"white\", \"landcolor\": \"#E5ECF6\", \"showlakes\": true, \"showland\": true, \"subunitcolor\": \"white\"}, \"hoverlabel\": {\"align\": \"left\"}, \"hovermode\": \"closest\", \"mapbox\": {\"style\": \"light\"}, \"paper_bgcolor\": \"white\", \"plot_bgcolor\": \"#E5ECF6\", \"polar\": {\"angularaxis\": {\"gridcolor\": \"white\", \"linecolor\": \"white\", \"ticks\": \"\"}, \"bgcolor\": \"#E5ECF6\", \"radialaxis\": {\"gridcolor\": \"white\", \"linecolor\": \"white\", \"ticks\": \"\"}}, \"scene\": {\"xaxis\": {\"backgroundcolor\": \"#E5ECF6\", \"gridcolor\": \"white\", \"gridwidth\": 2, \"linecolor\": \"white\", \"showbackground\": true, \"ticks\": \"\", \"zerolinecolor\": \"white\"}, \"yaxis\": {\"backgroundcolor\": \"#E5ECF6\", \"gridcolor\": \"white\", \"gridwidth\": 2, \"linecolor\": \"white\", \"showbackground\": true, \"ticks\": \"\", \"zerolinecolor\": \"white\"}, \"zaxis\": {\"backgroundcolor\": \"#E5ECF6\", \"gridcolor\": \"white\", \"gridwidth\": 2, \"linecolor\": \"white\", \"showbackground\": true, \"ticks\": \"\", \"zerolinecolor\": \"white\"}}, \"shapedefaults\": {\"line\": {\"color\": \"#2a3f5f\"}}, \"ternary\": {\"aaxis\": {\"gridcolor\": \"white\", \"linecolor\": \"white\", \"ticks\": \"\"}, \"baxis\": {\"gridcolor\": \"white\", \"linecolor\": \"white\", \"ticks\": \"\"}, \"bgcolor\": \"#E5ECF6\", \"caxis\": {\"gridcolor\": \"white\", \"linecolor\": \"white\", \"ticks\": \"\"}}, \"title\": {\"x\": 0.05}, \"xaxis\": {\"automargin\": true, \"gridcolor\": \"white\", \"linecolor\": \"white\", \"ticks\": \"\", \"title\": {\"standoff\": 15}, \"zerolinecolor\": \"white\", \"zerolinewidth\": 2}, \"yaxis\": {\"automargin\": true, \"gridcolor\": \"white\", \"linecolor\": \"white\", \"ticks\": \"\", \"title\": {\"standoff\": 15}, \"zerolinecolor\": \"white\", \"zerolinewidth\": 2}}}, \"title\": {\"text\": \"Pitch Location on Gerrit Cole Strikeouts 2020\"}, \"xaxis\": {\"anchor\": \"y\", \"domain\": [0.0, 0.45], \"zeroline\": false}, \"xaxis2\": {\"anchor\": \"y2\", \"domain\": [0.55, 1.0]}, \"xaxis3\": {\"anchor\": \"y3\", \"domain\": [0.0, 0.45]}, \"xaxis4\": {\"anchor\": \"y4\", \"domain\": [0.55, 1.0]}, \"yaxis\": {\"anchor\": \"x\", \"domain\": [0.575, 1.0], \"zeroline\": false}, \"yaxis2\": {\"anchor\": \"x2\", \"domain\": [0.575, 1.0]}, \"yaxis3\": {\"anchor\": \"x3\", \"domain\": [0.0, 0.425]}, \"yaxis4\": {\"anchor\": \"x4\", \"domain\": [0.0, 0.425]}},\n",
       "                        {\"responsive\": true}\n",
       "                    ).then(function(){\n",
       "                            \n",
       "var gd = document.getElementById('e16d29f5-5e68-4147-aa65-566b5a8eed3e');\n",
       "var x = new MutationObserver(function (mutations, observer) {{\n",
       "        var display = window.getComputedStyle(gd).display;\n",
       "        if (!display || display === 'none') {{\n",
       "            console.log([gd, 'removed!']);\n",
       "            Plotly.purge(gd);\n",
       "            observer.disconnect();\n",
       "        }}\n",
       "}});\n",
       "\n",
       "// Listen for the removal of the full notebook cells\n",
       "var notebookContainer = gd.closest('#notebook-container');\n",
       "if (notebookContainer) {{\n",
       "    x.observe(notebookContainer, {childList: true});\n",
       "}}\n",
       "\n",
       "// Listen for the clearing of the current output cell\n",
       "var outputEl = gd.closest('.output');\n",
       "if (outputEl) {{\n",
       "    x.observe(outputEl, {childList: true});\n",
       "}}\n",
       "\n",
       "                        })\n",
       "                };\n",
       "                });\n",
       "            </script>\n",
       "        </div>"
      ]
     },
     "metadata": {},
     "output_type": "display_data"
    }
   ],
   "source": [
    "trace0 = go.Scatter(x = cole_k.plate_x[cole_k.pitch_type == 'FF'],\n",
    "                   y = cole_k.plate_z[cole_k.pitch_type == 'FF'],\n",
    "                   name = 'Four Seam Fastball',\n",
    "                   mode = 'markers',\n",
    "                   marker = dict(size=10,\n",
    "                                line=dict(width=2)\n",
    "                                )\n",
    "                   )\n",
    "\n",
    "trace1 = go.Scatter(x = cole_k.plate_x[cole_k.pitch_type == 'SL'],\n",
    "                   y = cole_k.plate_z[cole_k.pitch_type == 'SL'],\n",
    "                   name = 'Slider',\n",
    "                   mode = 'markers',\n",
    "                   marker = dict(size=10,\n",
    "                                line=dict(width=2)\n",
    "                                )\n",
    "                   )\n",
    "\n",
    "trace2 = go.Scatter(x = cole_k.plate_x[cole_k.pitch_type == 'KC'],\n",
    "                   y = cole_k.plate_z[cole_k.pitch_type == 'KC'],\n",
    "                   name = 'Knuckle Curve',\n",
    "                   mode = 'markers',\n",
    "                   marker = dict(size=10,\n",
    "                                line=dict(width=2)\n",
    "                                )\n",
    "                   )\n",
    "\n",
    "trace3 = go.Scatter(x = cole_k.plate_x[cole_k.pitch_type == 'CH'],\n",
    "                   y = cole_k.plate_z[cole_k.pitch_type == 'CH'],\n",
    "                   name = 'Changeup',\n",
    "                   mode = 'markers',\n",
    "                   marker = dict(size=10,\n",
    "                                line=dict(width=2)\n",
    "                                )\n",
    "                   )\n",
    "\n",
    "fig = make_subplots(rows=2, cols=2)\n",
    "fig.add_trace(trace0, row=1, col=1)\n",
    "fig.add_trace(trace1, row=1, col=2)\n",
    "fig.add_trace(trace2, row=2, col=1)\n",
    "fig.add_trace(trace3, row=2, col=2)\n",
    "\n",
    "fig.update_layout(title_text='Pitch Location on Gerrit Cole Strikeouts 2020',\n",
    "                 yaxis=dict(zeroline=False),\n",
    "                 xaxis=dict(zeroline=False),\n",
    "                 height=900)\n",
    "\n",
    "py.iplot(fig, filename='styled-scatter')"
   ]
  },
  {
   "cell_type": "code",
   "execution_count": 11,
   "metadata": {},
   "outputs": [
    {
     "data": {
      "application/vnd.plotly.v1+json": {
       "config": {
        "linkText": "Export to plot.ly",
        "plotlyServerURL": "https://plot.ly",
        "showLink": false
       },
       "data": [
        {
         "marker": {
          "line": {
           "width": 2
          },
          "size": 10
         },
         "mode": "markers",
         "name": "Four Seam Fastball",
         "type": "scatter",
         "x": [
          1.08,
          0.79,
          -0.1,
          -0.7,
          -0.29,
          -0.71,
          -0.92,
          -0.3,
          -0.25,
          0.19,
          -0.68,
          -0.61,
          0.5,
          0.16,
          -0.39,
          -0.23,
          -0.36,
          -0.29,
          -0.05,
          -0.7,
          -0.25,
          -0.11,
          -0.71,
          -0.62,
          -1.09,
          -0.85,
          0.16,
          0.7,
          -0.35,
          0.2,
          0.76,
          -0.1,
          0.65,
          -0.71,
          -0.86,
          0.36,
          0.75,
          -0.7,
          1,
          0.9,
          -0.42,
          -0.72,
          -0.8,
          -0.33,
          -1.14,
          0.92,
          -0.01,
          0.21,
          0.71,
          0.81,
          -0.59
         ],
         "y": [
          2.42,
          1.81,
          3.68,
          3.78,
          1.67,
          1.41,
          3.45,
          3.71,
          3.64,
          2.84,
          2.59,
          3.37,
          2.29,
          2.67,
          3.2,
          3.25,
          3.42,
          3.22,
          2.84,
          3.62,
          2.14,
          3.06,
          2.68,
          3.17,
          3.6,
          3.92,
          2.43,
          3.76,
          3.13,
          3.02,
          1.87,
          2.87,
          2.74,
          3.65,
          3.01,
          1.75,
          3.72,
          2.05,
          3.24,
          2.54,
          2.24,
          2.85,
          3.78,
          2.08,
          2.87,
          1.76,
          3.63,
          2.84,
          2.61,
          1.8,
          3.24
         ]
        },
        {
         "marker": {
          "line": {
           "width": 2
          },
          "size": 10
         },
         "mode": "markers",
         "name": "Slider",
         "type": "scatter",
         "x": [
          0.91,
          0.94,
          0.48,
          1.1,
          0.46,
          1.24,
          1.09,
          0.72,
          0.76,
          1.12,
          1.05,
          1.21,
          1.51,
          1.3,
          1.55,
          0.46,
          0.79,
          1.05,
          1.22,
          1.45,
          0.99,
          0.83,
          0.6,
          0.77,
          0.2,
          0.85,
          1.71,
          0.86,
          1.43,
          0.37,
          0.92,
          1.09,
          0.22,
          1.05,
          -0.19,
          1.04,
          1.18
         ],
         "y": [
          2.32,
          1.62,
          1.78,
          2.08,
          2.71,
          2.05,
          0.71,
          1.08,
          2.49,
          1.5,
          0.92,
          1.45,
          0.96,
          0.86,
          0.05,
          1.93,
          0.9,
          1.99,
          0.43,
          1.26,
          2.52,
          1.33,
          1.68,
          1.92,
          1.97,
          3.1,
          0.85,
          1.47,
          0.81,
          1.13,
          1.93,
          1.31,
          2.38,
          2.05,
          3.08,
          1.07,
          2.33
         ]
        },
        {
         "marker": {
          "line": {
           "width": 2
          },
          "size": 10
         },
         "mode": "markers",
         "name": "Knuckle Curve",
         "type": "scatter",
         "x": [
          -0.1,
          1.89,
          1.23,
          0.87,
          0.21,
          1.08,
          -0.72,
          1.14,
          0.76,
          0.94,
          0.14,
          0.02,
          -0.09,
          0.29,
          -0.74,
          -0.26,
          0.08,
          -0.61,
          0.42,
          0.75,
          0.14,
          -0.47,
          -0.11,
          0.84,
          0.78,
          1.12,
          0.2,
          0.56,
          0.75,
          1.12
         ],
         "y": [
          1.99,
          -0.48,
          1.42,
          2.44,
          1.04,
          1.39,
          2.38,
          -1.25,
          0.87,
          0.65,
          1.97,
          0.53,
          0.89,
          1.02,
          2.53,
          1.55,
          1.11,
          2.83,
          1.31,
          1.48,
          0.69,
          0.48,
          2.74,
          -0.42,
          1.36,
          0.85,
          1.55,
          0.17,
          0.09,
          0.38
         ]
        },
        {
         "marker": {
          "line": {
           "width": 2
          },
          "size": 10
         },
         "mode": "markers",
         "name": "Changeup",
         "type": "scatter",
         "x": [
          -0.75,
          0.59,
          0.26,
          -0.11,
          -1.17,
          0.03
         ],
         "y": [
          3.11,
          1.64,
          2.84,
          2.07,
          1.95,
          1.77
         ]
        }
       ],
       "layout": {
        "height": 700,
        "template": {
         "data": {
          "bar": [
           {
            "error_x": {
             "color": "#2a3f5f"
            },
            "error_y": {
             "color": "#2a3f5f"
            },
            "marker": {
             "line": {
              "color": "#E5ECF6",
              "width": 0.5
             }
            },
            "type": "bar"
           }
          ],
          "barpolar": [
           {
            "marker": {
             "line": {
              "color": "#E5ECF6",
              "width": 0.5
             }
            },
            "type": "barpolar"
           }
          ],
          "carpet": [
           {
            "aaxis": {
             "endlinecolor": "#2a3f5f",
             "gridcolor": "white",
             "linecolor": "white",
             "minorgridcolor": "white",
             "startlinecolor": "#2a3f5f"
            },
            "baxis": {
             "endlinecolor": "#2a3f5f",
             "gridcolor": "white",
             "linecolor": "white",
             "minorgridcolor": "white",
             "startlinecolor": "#2a3f5f"
            },
            "type": "carpet"
           }
          ],
          "choropleth": [
           {
            "colorbar": {
             "outlinewidth": 0,
             "ticks": ""
            },
            "type": "choropleth"
           }
          ],
          "contour": [
           {
            "colorbar": {
             "outlinewidth": 0,
             "ticks": ""
            },
            "colorscale": [
             [
              0,
              "#0d0887"
             ],
             [
              0.1111111111111111,
              "#46039f"
             ],
             [
              0.2222222222222222,
              "#7201a8"
             ],
             [
              0.3333333333333333,
              "#9c179e"
             ],
             [
              0.4444444444444444,
              "#bd3786"
             ],
             [
              0.5555555555555556,
              "#d8576b"
             ],
             [
              0.6666666666666666,
              "#ed7953"
             ],
             [
              0.7777777777777778,
              "#fb9f3a"
             ],
             [
              0.8888888888888888,
              "#fdca26"
             ],
             [
              1,
              "#f0f921"
             ]
            ],
            "type": "contour"
           }
          ],
          "contourcarpet": [
           {
            "colorbar": {
             "outlinewidth": 0,
             "ticks": ""
            },
            "type": "contourcarpet"
           }
          ],
          "heatmap": [
           {
            "colorbar": {
             "outlinewidth": 0,
             "ticks": ""
            },
            "colorscale": [
             [
              0,
              "#0d0887"
             ],
             [
              0.1111111111111111,
              "#46039f"
             ],
             [
              0.2222222222222222,
              "#7201a8"
             ],
             [
              0.3333333333333333,
              "#9c179e"
             ],
             [
              0.4444444444444444,
              "#bd3786"
             ],
             [
              0.5555555555555556,
              "#d8576b"
             ],
             [
              0.6666666666666666,
              "#ed7953"
             ],
             [
              0.7777777777777778,
              "#fb9f3a"
             ],
             [
              0.8888888888888888,
              "#fdca26"
             ],
             [
              1,
              "#f0f921"
             ]
            ],
            "type": "heatmap"
           }
          ],
          "heatmapgl": [
           {
            "colorbar": {
             "outlinewidth": 0,
             "ticks": ""
            },
            "colorscale": [
             [
              0,
              "#0d0887"
             ],
             [
              0.1111111111111111,
              "#46039f"
             ],
             [
              0.2222222222222222,
              "#7201a8"
             ],
             [
              0.3333333333333333,
              "#9c179e"
             ],
             [
              0.4444444444444444,
              "#bd3786"
             ],
             [
              0.5555555555555556,
              "#d8576b"
             ],
             [
              0.6666666666666666,
              "#ed7953"
             ],
             [
              0.7777777777777778,
              "#fb9f3a"
             ],
             [
              0.8888888888888888,
              "#fdca26"
             ],
             [
              1,
              "#f0f921"
             ]
            ],
            "type": "heatmapgl"
           }
          ],
          "histogram": [
           {
            "marker": {
             "colorbar": {
              "outlinewidth": 0,
              "ticks": ""
             }
            },
            "type": "histogram"
           }
          ],
          "histogram2d": [
           {
            "colorbar": {
             "outlinewidth": 0,
             "ticks": ""
            },
            "colorscale": [
             [
              0,
              "#0d0887"
             ],
             [
              0.1111111111111111,
              "#46039f"
             ],
             [
              0.2222222222222222,
              "#7201a8"
             ],
             [
              0.3333333333333333,
              "#9c179e"
             ],
             [
              0.4444444444444444,
              "#bd3786"
             ],
             [
              0.5555555555555556,
              "#d8576b"
             ],
             [
              0.6666666666666666,
              "#ed7953"
             ],
             [
              0.7777777777777778,
              "#fb9f3a"
             ],
             [
              0.8888888888888888,
              "#fdca26"
             ],
             [
              1,
              "#f0f921"
             ]
            ],
            "type": "histogram2d"
           }
          ],
          "histogram2dcontour": [
           {
            "colorbar": {
             "outlinewidth": 0,
             "ticks": ""
            },
            "colorscale": [
             [
              0,
              "#0d0887"
             ],
             [
              0.1111111111111111,
              "#46039f"
             ],
             [
              0.2222222222222222,
              "#7201a8"
             ],
             [
              0.3333333333333333,
              "#9c179e"
             ],
             [
              0.4444444444444444,
              "#bd3786"
             ],
             [
              0.5555555555555556,
              "#d8576b"
             ],
             [
              0.6666666666666666,
              "#ed7953"
             ],
             [
              0.7777777777777778,
              "#fb9f3a"
             ],
             [
              0.8888888888888888,
              "#fdca26"
             ],
             [
              1,
              "#f0f921"
             ]
            ],
            "type": "histogram2dcontour"
           }
          ],
          "mesh3d": [
           {
            "colorbar": {
             "outlinewidth": 0,
             "ticks": ""
            },
            "type": "mesh3d"
           }
          ],
          "parcoords": [
           {
            "line": {
             "colorbar": {
              "outlinewidth": 0,
              "ticks": ""
             }
            },
            "type": "parcoords"
           }
          ],
          "pie": [
           {
            "automargin": true,
            "type": "pie"
           }
          ],
          "scatter": [
           {
            "marker": {
             "colorbar": {
              "outlinewidth": 0,
              "ticks": ""
             }
            },
            "type": "scatter"
           }
          ],
          "scatter3d": [
           {
            "line": {
             "colorbar": {
              "outlinewidth": 0,
              "ticks": ""
             }
            },
            "marker": {
             "colorbar": {
              "outlinewidth": 0,
              "ticks": ""
             }
            },
            "type": "scatter3d"
           }
          ],
          "scattercarpet": [
           {
            "marker": {
             "colorbar": {
              "outlinewidth": 0,
              "ticks": ""
             }
            },
            "type": "scattercarpet"
           }
          ],
          "scattergeo": [
           {
            "marker": {
             "colorbar": {
              "outlinewidth": 0,
              "ticks": ""
             }
            },
            "type": "scattergeo"
           }
          ],
          "scattergl": [
           {
            "marker": {
             "colorbar": {
              "outlinewidth": 0,
              "ticks": ""
             }
            },
            "type": "scattergl"
           }
          ],
          "scattermapbox": [
           {
            "marker": {
             "colorbar": {
              "outlinewidth": 0,
              "ticks": ""
             }
            },
            "type": "scattermapbox"
           }
          ],
          "scatterpolar": [
           {
            "marker": {
             "colorbar": {
              "outlinewidth": 0,
              "ticks": ""
             }
            },
            "type": "scatterpolar"
           }
          ],
          "scatterpolargl": [
           {
            "marker": {
             "colorbar": {
              "outlinewidth": 0,
              "ticks": ""
             }
            },
            "type": "scatterpolargl"
           }
          ],
          "scatterternary": [
           {
            "marker": {
             "colorbar": {
              "outlinewidth": 0,
              "ticks": ""
             }
            },
            "type": "scatterternary"
           }
          ],
          "surface": [
           {
            "colorbar": {
             "outlinewidth": 0,
             "ticks": ""
            },
            "colorscale": [
             [
              0,
              "#0d0887"
             ],
             [
              0.1111111111111111,
              "#46039f"
             ],
             [
              0.2222222222222222,
              "#7201a8"
             ],
             [
              0.3333333333333333,
              "#9c179e"
             ],
             [
              0.4444444444444444,
              "#bd3786"
             ],
             [
              0.5555555555555556,
              "#d8576b"
             ],
             [
              0.6666666666666666,
              "#ed7953"
             ],
             [
              0.7777777777777778,
              "#fb9f3a"
             ],
             [
              0.8888888888888888,
              "#fdca26"
             ],
             [
              1,
              "#f0f921"
             ]
            ],
            "type": "surface"
           }
          ],
          "table": [
           {
            "cells": {
             "fill": {
              "color": "#EBF0F8"
             },
             "line": {
              "color": "white"
             }
            },
            "header": {
             "fill": {
              "color": "#C8D4E3"
             },
             "line": {
              "color": "white"
             }
            },
            "type": "table"
           }
          ]
         },
         "layout": {
          "annotationdefaults": {
           "arrowcolor": "#2a3f5f",
           "arrowhead": 0,
           "arrowwidth": 1
          },
          "coloraxis": {
           "colorbar": {
            "outlinewidth": 0,
            "ticks": ""
           }
          },
          "colorscale": {
           "diverging": [
            [
             0,
             "#8e0152"
            ],
            [
             0.1,
             "#c51b7d"
            ],
            [
             0.2,
             "#de77ae"
            ],
            [
             0.3,
             "#f1b6da"
            ],
            [
             0.4,
             "#fde0ef"
            ],
            [
             0.5,
             "#f7f7f7"
            ],
            [
             0.6,
             "#e6f5d0"
            ],
            [
             0.7,
             "#b8e186"
            ],
            [
             0.8,
             "#7fbc41"
            ],
            [
             0.9,
             "#4d9221"
            ],
            [
             1,
             "#276419"
            ]
           ],
           "sequential": [
            [
             0,
             "#0d0887"
            ],
            [
             0.1111111111111111,
             "#46039f"
            ],
            [
             0.2222222222222222,
             "#7201a8"
            ],
            [
             0.3333333333333333,
             "#9c179e"
            ],
            [
             0.4444444444444444,
             "#bd3786"
            ],
            [
             0.5555555555555556,
             "#d8576b"
            ],
            [
             0.6666666666666666,
             "#ed7953"
            ],
            [
             0.7777777777777778,
             "#fb9f3a"
            ],
            [
             0.8888888888888888,
             "#fdca26"
            ],
            [
             1,
             "#f0f921"
            ]
           ],
           "sequentialminus": [
            [
             0,
             "#0d0887"
            ],
            [
             0.1111111111111111,
             "#46039f"
            ],
            [
             0.2222222222222222,
             "#7201a8"
            ],
            [
             0.3333333333333333,
             "#9c179e"
            ],
            [
             0.4444444444444444,
             "#bd3786"
            ],
            [
             0.5555555555555556,
             "#d8576b"
            ],
            [
             0.6666666666666666,
             "#ed7953"
            ],
            [
             0.7777777777777778,
             "#fb9f3a"
            ],
            [
             0.8888888888888888,
             "#fdca26"
            ],
            [
             1,
             "#f0f921"
            ]
           ]
          },
          "colorway": [
           "#636efa",
           "#EF553B",
           "#00cc96",
           "#ab63fa",
           "#FFA15A",
           "#19d3f3",
           "#FF6692",
           "#B6E880",
           "#FF97FF",
           "#FECB52"
          ],
          "font": {
           "color": "#2a3f5f"
          },
          "geo": {
           "bgcolor": "white",
           "lakecolor": "white",
           "landcolor": "#E5ECF6",
           "showlakes": true,
           "showland": true,
           "subunitcolor": "white"
          },
          "hoverlabel": {
           "align": "left"
          },
          "hovermode": "closest",
          "mapbox": {
           "style": "light"
          },
          "paper_bgcolor": "white",
          "plot_bgcolor": "#E5ECF6",
          "polar": {
           "angularaxis": {
            "gridcolor": "white",
            "linecolor": "white",
            "ticks": ""
           },
           "bgcolor": "#E5ECF6",
           "radialaxis": {
            "gridcolor": "white",
            "linecolor": "white",
            "ticks": ""
           }
          },
          "scene": {
           "xaxis": {
            "backgroundcolor": "#E5ECF6",
            "gridcolor": "white",
            "gridwidth": 2,
            "linecolor": "white",
            "showbackground": true,
            "ticks": "",
            "zerolinecolor": "white"
           },
           "yaxis": {
            "backgroundcolor": "#E5ECF6",
            "gridcolor": "white",
            "gridwidth": 2,
            "linecolor": "white",
            "showbackground": true,
            "ticks": "",
            "zerolinecolor": "white"
           },
           "zaxis": {
            "backgroundcolor": "#E5ECF6",
            "gridcolor": "white",
            "gridwidth": 2,
            "linecolor": "white",
            "showbackground": true,
            "ticks": "",
            "zerolinecolor": "white"
           }
          },
          "shapedefaults": {
           "line": {
            "color": "#2a3f5f"
           }
          },
          "ternary": {
           "aaxis": {
            "gridcolor": "white",
            "linecolor": "white",
            "ticks": ""
           },
           "baxis": {
            "gridcolor": "white",
            "linecolor": "white",
            "ticks": ""
           },
           "bgcolor": "#E5ECF6",
           "caxis": {
            "gridcolor": "white",
            "linecolor": "white",
            "ticks": ""
           }
          },
          "title": {
           "x": 0.05
          },
          "xaxis": {
           "automargin": true,
           "gridcolor": "white",
           "linecolor": "white",
           "ticks": "",
           "title": {
            "standoff": 15
           },
           "zerolinecolor": "white",
           "zerolinewidth": 2
          },
          "yaxis": {
           "automargin": true,
           "gridcolor": "white",
           "linecolor": "white",
           "ticks": "",
           "title": {
            "standoff": 15
           },
           "zerolinecolor": "white",
           "zerolinewidth": 2
          }
         }
        },
        "title": {
         "text": "Pitch types of Gerrit Cole Strikeouts 2020 "
        },
        "width": 700,
        "xaxis": {
         "zeroline": false
        },
        "yaxis": {
         "zeroline": false
        }
       }
      },
      "text/html": [
       "<div>\n",
       "        \n",
       "        \n",
       "            <div id=\"67716c87-dd43-4c5b-9a3e-e3837611248d\" class=\"plotly-graph-div\" style=\"height:700px; width:700px;\"></div>\n",
       "            <script type=\"text/javascript\">\n",
       "                require([\"plotly\"], function(Plotly) {\n",
       "                    window.PLOTLYENV=window.PLOTLYENV || {};\n",
       "                    \n",
       "                if (document.getElementById(\"67716c87-dd43-4c5b-9a3e-e3837611248d\")) {\n",
       "                    Plotly.newPlot(\n",
       "                        '67716c87-dd43-4c5b-9a3e-e3837611248d',\n",
       "                        [{\"marker\": {\"line\": {\"width\": 2}, \"size\": 10}, \"mode\": \"markers\", \"name\": \"Four Seam Fastball\", \"type\": \"scatter\", \"x\": [1.08, 0.79, -0.1, -0.7, -0.29, -0.71, -0.92, -0.3, -0.25, 0.19, -0.68, -0.61, 0.5, 0.16, -0.39, -0.23, -0.36, -0.29, -0.05, -0.7, -0.25, -0.11, -0.71, -0.62, -1.09, -0.85, 0.16, 0.7, -0.35, 0.2, 0.76, -0.1, 0.65, -0.71, -0.86, 0.36, 0.75, -0.7, 1.0, 0.9, -0.42, -0.72, -0.8, -0.33, -1.14, 0.92, -0.01, 0.21, 0.71, 0.81, -0.59], \"y\": [2.42, 1.81, 3.68, 3.78, 1.67, 1.41, 3.45, 3.71, 3.64, 2.84, 2.59, 3.37, 2.29, 2.67, 3.2, 3.25, 3.42, 3.22, 2.84, 3.62, 2.14, 3.06, 2.68, 3.17, 3.6, 3.92, 2.43, 3.76, 3.13, 3.02, 1.87, 2.87, 2.74, 3.65, 3.01, 1.75, 3.72, 2.05, 3.24, 2.54, 2.24, 2.85, 3.78, 2.08, 2.87, 1.76, 3.63, 2.84, 2.61, 1.8, 3.24]}, {\"marker\": {\"line\": {\"width\": 2}, \"size\": 10}, \"mode\": \"markers\", \"name\": \"Slider\", \"type\": \"scatter\", \"x\": [0.91, 0.94, 0.48, 1.1, 0.46, 1.24, 1.09, 0.72, 0.76, 1.12, 1.05, 1.21, 1.51, 1.3, 1.55, 0.46, 0.79, 1.05, 1.22, 1.45, 0.99, 0.83, 0.6, 0.77, 0.2, 0.85, 1.71, 0.86, 1.43, 0.37, 0.92, 1.09, 0.22, 1.05, -0.19, 1.04, 1.18], \"y\": [2.32, 1.62, 1.78, 2.08, 2.71, 2.05, 0.71, 1.08, 2.49, 1.5, 0.92, 1.45, 0.96, 0.86, 0.05, 1.93, 0.9, 1.99, 0.43, 1.26, 2.52, 1.33, 1.68, 1.92, 1.97, 3.1, 0.85, 1.47, 0.81, 1.13, 1.93, 1.31, 2.38, 2.05, 3.08, 1.07, 2.33]}, {\"marker\": {\"line\": {\"width\": 2}, \"size\": 10}, \"mode\": \"markers\", \"name\": \"Knuckle Curve\", \"type\": \"scatter\", \"x\": [-0.1, 1.89, 1.23, 0.87, 0.21, 1.08, -0.72, 1.14, 0.76, 0.94, 0.14, 0.02, -0.09, 0.29, -0.74, -0.26, 0.08, -0.61, 0.42, 0.75, 0.14, -0.47, -0.11, 0.84, 0.78, 1.12, 0.2, 0.56, 0.75, 1.12], \"y\": [1.99, -0.48, 1.42, 2.44, 1.04, 1.39, 2.38, -1.25, 0.87, 0.65, 1.97, 0.53, 0.89, 1.02, 2.53, 1.55, 1.11, 2.83, 1.31, 1.48, 0.69, 0.48, 2.74, -0.42, 1.36, 0.85, 1.55, 0.17, 0.09, 0.38]}, {\"marker\": {\"line\": {\"width\": 2}, \"size\": 10}, \"mode\": \"markers\", \"name\": \"Changeup\", \"type\": \"scatter\", \"x\": [-0.75, 0.59, 0.26, -0.11, -1.17, 0.03], \"y\": [3.11, 1.64, 2.84, 2.07, 1.95, 1.77]}],\n",
       "                        {\"height\": 700, \"template\": {\"data\": {\"bar\": [{\"error_x\": {\"color\": \"#2a3f5f\"}, \"error_y\": {\"color\": \"#2a3f5f\"}, \"marker\": {\"line\": {\"color\": \"#E5ECF6\", \"width\": 0.5}}, \"type\": \"bar\"}], \"barpolar\": [{\"marker\": {\"line\": {\"color\": \"#E5ECF6\", \"width\": 0.5}}, \"type\": \"barpolar\"}], \"carpet\": [{\"aaxis\": {\"endlinecolor\": \"#2a3f5f\", \"gridcolor\": \"white\", \"linecolor\": \"white\", \"minorgridcolor\": \"white\", \"startlinecolor\": \"#2a3f5f\"}, \"baxis\": {\"endlinecolor\": \"#2a3f5f\", \"gridcolor\": \"white\", \"linecolor\": \"white\", \"minorgridcolor\": \"white\", \"startlinecolor\": \"#2a3f5f\"}, \"type\": \"carpet\"}], \"choropleth\": [{\"colorbar\": {\"outlinewidth\": 0, \"ticks\": \"\"}, \"type\": \"choropleth\"}], \"contour\": [{\"colorbar\": {\"outlinewidth\": 0, \"ticks\": \"\"}, \"colorscale\": [[0.0, \"#0d0887\"], [0.1111111111111111, \"#46039f\"], [0.2222222222222222, \"#7201a8\"], [0.3333333333333333, \"#9c179e\"], [0.4444444444444444, \"#bd3786\"], [0.5555555555555556, \"#d8576b\"], [0.6666666666666666, \"#ed7953\"], [0.7777777777777778, \"#fb9f3a\"], [0.8888888888888888, \"#fdca26\"], [1.0, \"#f0f921\"]], \"type\": \"contour\"}], \"contourcarpet\": [{\"colorbar\": {\"outlinewidth\": 0, \"ticks\": \"\"}, \"type\": \"contourcarpet\"}], \"heatmap\": [{\"colorbar\": {\"outlinewidth\": 0, \"ticks\": \"\"}, \"colorscale\": [[0.0, \"#0d0887\"], [0.1111111111111111, \"#46039f\"], [0.2222222222222222, \"#7201a8\"], [0.3333333333333333, \"#9c179e\"], [0.4444444444444444, \"#bd3786\"], [0.5555555555555556, \"#d8576b\"], [0.6666666666666666, \"#ed7953\"], [0.7777777777777778, \"#fb9f3a\"], [0.8888888888888888, \"#fdca26\"], [1.0, \"#f0f921\"]], \"type\": \"heatmap\"}], \"heatmapgl\": [{\"colorbar\": {\"outlinewidth\": 0, \"ticks\": \"\"}, \"colorscale\": [[0.0, \"#0d0887\"], [0.1111111111111111, \"#46039f\"], [0.2222222222222222, \"#7201a8\"], [0.3333333333333333, \"#9c179e\"], [0.4444444444444444, \"#bd3786\"], [0.5555555555555556, \"#d8576b\"], [0.6666666666666666, \"#ed7953\"], [0.7777777777777778, \"#fb9f3a\"], [0.8888888888888888, \"#fdca26\"], [1.0, \"#f0f921\"]], \"type\": \"heatmapgl\"}], \"histogram\": [{\"marker\": {\"colorbar\": {\"outlinewidth\": 0, \"ticks\": \"\"}}, \"type\": \"histogram\"}], \"histogram2d\": [{\"colorbar\": {\"outlinewidth\": 0, \"ticks\": \"\"}, \"colorscale\": [[0.0, \"#0d0887\"], [0.1111111111111111, \"#46039f\"], [0.2222222222222222, \"#7201a8\"], [0.3333333333333333, \"#9c179e\"], [0.4444444444444444, \"#bd3786\"], [0.5555555555555556, \"#d8576b\"], [0.6666666666666666, \"#ed7953\"], [0.7777777777777778, \"#fb9f3a\"], [0.8888888888888888, \"#fdca26\"], [1.0, \"#f0f921\"]], \"type\": \"histogram2d\"}], \"histogram2dcontour\": [{\"colorbar\": {\"outlinewidth\": 0, \"ticks\": \"\"}, \"colorscale\": [[0.0, \"#0d0887\"], [0.1111111111111111, \"#46039f\"], [0.2222222222222222, \"#7201a8\"], [0.3333333333333333, \"#9c179e\"], [0.4444444444444444, \"#bd3786\"], [0.5555555555555556, \"#d8576b\"], [0.6666666666666666, \"#ed7953\"], [0.7777777777777778, \"#fb9f3a\"], [0.8888888888888888, \"#fdca26\"], [1.0, \"#f0f921\"]], \"type\": \"histogram2dcontour\"}], \"mesh3d\": [{\"colorbar\": {\"outlinewidth\": 0, \"ticks\": \"\"}, \"type\": \"mesh3d\"}], \"parcoords\": [{\"line\": {\"colorbar\": {\"outlinewidth\": 0, \"ticks\": \"\"}}, \"type\": \"parcoords\"}], \"pie\": [{\"automargin\": true, \"type\": \"pie\"}], \"scatter\": [{\"marker\": {\"colorbar\": {\"outlinewidth\": 0, \"ticks\": \"\"}}, \"type\": \"scatter\"}], \"scatter3d\": [{\"line\": {\"colorbar\": {\"outlinewidth\": 0, \"ticks\": \"\"}}, \"marker\": {\"colorbar\": {\"outlinewidth\": 0, \"ticks\": \"\"}}, \"type\": \"scatter3d\"}], \"scattercarpet\": [{\"marker\": {\"colorbar\": {\"outlinewidth\": 0, \"ticks\": \"\"}}, \"type\": \"scattercarpet\"}], \"scattergeo\": [{\"marker\": {\"colorbar\": {\"outlinewidth\": 0, \"ticks\": \"\"}}, \"type\": \"scattergeo\"}], \"scattergl\": [{\"marker\": {\"colorbar\": {\"outlinewidth\": 0, \"ticks\": \"\"}}, \"type\": \"scattergl\"}], \"scattermapbox\": [{\"marker\": {\"colorbar\": {\"outlinewidth\": 0, \"ticks\": \"\"}}, \"type\": \"scattermapbox\"}], \"scatterpolar\": [{\"marker\": {\"colorbar\": {\"outlinewidth\": 0, \"ticks\": \"\"}}, \"type\": \"scatterpolar\"}], \"scatterpolargl\": [{\"marker\": {\"colorbar\": {\"outlinewidth\": 0, \"ticks\": \"\"}}, \"type\": \"scatterpolargl\"}], \"scatterternary\": [{\"marker\": {\"colorbar\": {\"outlinewidth\": 0, \"ticks\": \"\"}}, \"type\": \"scatterternary\"}], \"surface\": [{\"colorbar\": {\"outlinewidth\": 0, \"ticks\": \"\"}, \"colorscale\": [[0.0, \"#0d0887\"], [0.1111111111111111, \"#46039f\"], [0.2222222222222222, \"#7201a8\"], [0.3333333333333333, \"#9c179e\"], [0.4444444444444444, \"#bd3786\"], [0.5555555555555556, \"#d8576b\"], [0.6666666666666666, \"#ed7953\"], [0.7777777777777778, \"#fb9f3a\"], [0.8888888888888888, \"#fdca26\"], [1.0, \"#f0f921\"]], \"type\": \"surface\"}], \"table\": [{\"cells\": {\"fill\": {\"color\": \"#EBF0F8\"}, \"line\": {\"color\": \"white\"}}, \"header\": {\"fill\": {\"color\": \"#C8D4E3\"}, \"line\": {\"color\": \"white\"}}, \"type\": \"table\"}]}, \"layout\": {\"annotationdefaults\": {\"arrowcolor\": \"#2a3f5f\", \"arrowhead\": 0, \"arrowwidth\": 1}, \"coloraxis\": {\"colorbar\": {\"outlinewidth\": 0, \"ticks\": \"\"}}, \"colorscale\": {\"diverging\": [[0, \"#8e0152\"], [0.1, \"#c51b7d\"], [0.2, \"#de77ae\"], [0.3, \"#f1b6da\"], [0.4, \"#fde0ef\"], [0.5, \"#f7f7f7\"], [0.6, \"#e6f5d0\"], [0.7, \"#b8e186\"], [0.8, \"#7fbc41\"], [0.9, \"#4d9221\"], [1, \"#276419\"]], \"sequential\": [[0.0, \"#0d0887\"], [0.1111111111111111, \"#46039f\"], [0.2222222222222222, \"#7201a8\"], [0.3333333333333333, \"#9c179e\"], [0.4444444444444444, \"#bd3786\"], [0.5555555555555556, \"#d8576b\"], [0.6666666666666666, \"#ed7953\"], [0.7777777777777778, \"#fb9f3a\"], [0.8888888888888888, \"#fdca26\"], [1.0, \"#f0f921\"]], \"sequentialminus\": [[0.0, \"#0d0887\"], [0.1111111111111111, \"#46039f\"], [0.2222222222222222, \"#7201a8\"], [0.3333333333333333, \"#9c179e\"], [0.4444444444444444, \"#bd3786\"], [0.5555555555555556, \"#d8576b\"], [0.6666666666666666, \"#ed7953\"], [0.7777777777777778, \"#fb9f3a\"], [0.8888888888888888, \"#fdca26\"], [1.0, \"#f0f921\"]]}, \"colorway\": [\"#636efa\", \"#EF553B\", \"#00cc96\", \"#ab63fa\", \"#FFA15A\", \"#19d3f3\", \"#FF6692\", \"#B6E880\", \"#FF97FF\", \"#FECB52\"], \"font\": {\"color\": \"#2a3f5f\"}, \"geo\": {\"bgcolor\": \"white\", \"lakecolor\": \"white\", \"landcolor\": \"#E5ECF6\", \"showlakes\": true, \"showland\": true, \"subunitcolor\": \"white\"}, \"hoverlabel\": {\"align\": \"left\"}, \"hovermode\": \"closest\", \"mapbox\": {\"style\": \"light\"}, \"paper_bgcolor\": \"white\", \"plot_bgcolor\": \"#E5ECF6\", \"polar\": {\"angularaxis\": {\"gridcolor\": \"white\", \"linecolor\": \"white\", \"ticks\": \"\"}, \"bgcolor\": \"#E5ECF6\", \"radialaxis\": {\"gridcolor\": \"white\", \"linecolor\": \"white\", \"ticks\": \"\"}}, \"scene\": {\"xaxis\": {\"backgroundcolor\": \"#E5ECF6\", \"gridcolor\": \"white\", \"gridwidth\": 2, \"linecolor\": \"white\", \"showbackground\": true, \"ticks\": \"\", \"zerolinecolor\": \"white\"}, \"yaxis\": {\"backgroundcolor\": \"#E5ECF6\", \"gridcolor\": \"white\", \"gridwidth\": 2, \"linecolor\": \"white\", \"showbackground\": true, \"ticks\": \"\", \"zerolinecolor\": \"white\"}, \"zaxis\": {\"backgroundcolor\": \"#E5ECF6\", \"gridcolor\": \"white\", \"gridwidth\": 2, \"linecolor\": \"white\", \"showbackground\": true, \"ticks\": \"\", \"zerolinecolor\": \"white\"}}, \"shapedefaults\": {\"line\": {\"color\": \"#2a3f5f\"}}, \"ternary\": {\"aaxis\": {\"gridcolor\": \"white\", \"linecolor\": \"white\", \"ticks\": \"\"}, \"baxis\": {\"gridcolor\": \"white\", \"linecolor\": \"white\", \"ticks\": \"\"}, \"bgcolor\": \"#E5ECF6\", \"caxis\": {\"gridcolor\": \"white\", \"linecolor\": \"white\", \"ticks\": \"\"}}, \"title\": {\"x\": 0.05}, \"xaxis\": {\"automargin\": true, \"gridcolor\": \"white\", \"linecolor\": \"white\", \"ticks\": \"\", \"title\": {\"standoff\": 15}, \"zerolinecolor\": \"white\", \"zerolinewidth\": 2}, \"yaxis\": {\"automargin\": true, \"gridcolor\": \"white\", \"linecolor\": \"white\", \"ticks\": \"\", \"title\": {\"standoff\": 15}, \"zerolinecolor\": \"white\", \"zerolinewidth\": 2}}}, \"title\": {\"text\": \"Pitch types of Gerrit Cole Strikeouts 2020 \"}, \"width\": 700, \"xaxis\": {\"zeroline\": false}, \"yaxis\": {\"zeroline\": false}},\n",
       "                        {\"responsive\": true}\n",
       "                    ).then(function(){\n",
       "                            \n",
       "var gd = document.getElementById('67716c87-dd43-4c5b-9a3e-e3837611248d');\n",
       "var x = new MutationObserver(function (mutations, observer) {{\n",
       "        var display = window.getComputedStyle(gd).display;\n",
       "        if (!display || display === 'none') {{\n",
       "            console.log([gd, 'removed!']);\n",
       "            Plotly.purge(gd);\n",
       "            observer.disconnect();\n",
       "        }}\n",
       "}});\n",
       "\n",
       "// Listen for the removal of the full notebook cells\n",
       "var notebookContainer = gd.closest('#notebook-container');\n",
       "if (notebookContainer) {{\n",
       "    x.observe(notebookContainer, {childList: true});\n",
       "}}\n",
       "\n",
       "// Listen for the clearing of the current output cell\n",
       "var outputEl = gd.closest('.output');\n",
       "if (outputEl) {{\n",
       "    x.observe(outputEl, {childList: true});\n",
       "}}\n",
       "\n",
       "                        })\n",
       "                };\n",
       "                });\n",
       "            </script>\n",
       "        </div>"
      ]
     },
     "metadata": {},
     "output_type": "display_data"
    }
   ],
   "source": [
    "trace0 = go.Scatter(x = cole_k.plate_x[cole_k.pitch_type == 'FF'],\n",
    "                   y = cole_k.plate_z[cole_k.pitch_type == 'FF'],\n",
    "                   name = 'Four Seam Fastball',\n",
    "                   mode = 'markers',\n",
    "                   marker = dict(size=10,\n",
    "                                line=dict(width=2)\n",
    "                                )\n",
    "                   )\n",
    "\n",
    "trace1 = go.Scatter(x = cole_k.plate_x[cole_k.pitch_type == 'SL'],\n",
    "                   y = cole_k.plate_z[cole_k.pitch_type == 'SL'],\n",
    "                   name = 'Slider',\n",
    "                   mode = 'markers',\n",
    "                   marker = dict(size=10,\n",
    "                                line=dict(width=2)\n",
    "                                )\n",
    "                   )\n",
    "\n",
    "trace2 = go.Scatter(x = cole_k.plate_x[cole_k.pitch_type == 'KC'],\n",
    "                   y = cole_k.plate_z[cole_k.pitch_type == 'KC'],\n",
    "                   name = 'Knuckle Curve',\n",
    "                   mode = 'markers',\n",
    "                   marker = dict(size=10,\n",
    "                                line=dict(width=2)\n",
    "                                )\n",
    "                   )\n",
    "\n",
    "trace3 = go.Scatter(x = cole_k.plate_x[cole_k.pitch_type == 'CH'],\n",
    "                   y = cole_k.plate_z[cole_k.pitch_type == 'CH'],\n",
    "                   name = 'Changeup',\n",
    "                   mode = 'markers',\n",
    "                   marker = dict(size=10,\n",
    "                                line=dict(width=2)\n",
    "                                )\n",
    "                   )\n",
    "\n",
    "data = [trace0, trace1, trace2, trace3]\n",
    "\n",
    "layout = dict(title = 'Pitch types of Gerrit Cole Strikeouts 2020 ',\n",
    "              yaxis = dict(zeroline = False),\n",
    "              xaxis = dict(zeroline = False),\n",
    "              height=700, width=700\n",
    "             )\n",
    "\n",
    "fig = dict(data=data, layout=layout)\n",
    "py.iplot(fig, filename='styled-scatter')\n"
   ]
  },
  {
   "cell_type": "code",
   "execution_count": 12,
   "metadata": {},
   "outputs": [
    {
     "data": {
      "text/plain": [
       "ball                       481\n",
       "foul                       269\n",
       "called_strike              241\n",
       "swinging_strike            217\n",
       "hit_into_play              145\n",
       "hit_into_play_no_out        45\n",
       "blocked_ball                30\n",
       "foul_tip                    28\n",
       "hit_into_play_score         24\n",
       "swinging_strike_blocked     15\n",
       "hit_by_pitch                 3\n",
       "foul_bunt                    1\n",
       "Name: description, dtype: int64"
      ]
     },
     "execution_count": 12,
     "metadata": {},
     "output_type": "execute_result"
    }
   ],
   "source": [
    "cole_stats.description.value_counts()"
   ]
  },
  {
   "cell_type": "code",
   "execution_count": 13,
   "metadata": {},
   "outputs": [
    {
     "data": {
      "text/plain": [
       "array(['2020-10-09', '2020-10-05', '2020-09-29', '2020-09-22',\n",
       "       '2020-09-16', '2020-09-11', '2020-09-05', '2020-08-31',\n",
       "       '2020-08-26', '2020-08-19', '2020-08-14', '2020-08-08',\n",
       "       '2020-08-03', '2020-07-29', '2020-07-23'], dtype=object)"
      ]
     },
     "execution_count": 13,
     "metadata": {},
     "output_type": "execute_result"
    }
   ],
   "source": [
    "start_days = cole_stats.game_date.unique()\n",
    "start_days"
   ]
  },
  {
   "cell_type": "code",
   "execution_count": 14,
   "metadata": {},
   "outputs": [
    {
     "data": {
      "text/plain": [
       "FF    52.434957\n",
       "SL    22.615077\n",
       "KC    18.612408\n",
       "CH     6.337558\n",
       "Name: pitch_type, dtype: float64"
      ]
     },
     "execution_count": 14,
     "metadata": {},
     "output_type": "execute_result"
    }
   ],
   "source": [
    "cole_stats.pitch_type.value_counts() / len(cole_stats)*100"
   ]
  },
  {
   "cell_type": "code",
   "execution_count": 15,
   "metadata": {},
   "outputs": [
    {
     "data": {
      "text/plain": [
       "field_out                    137\n",
       "strikeout                    124\n",
       "single                        32\n",
       "walk                          20\n",
       "home_run                      18\n",
       "double                        16\n",
       "force_out                      4\n",
       "grounded_into_double_play      3\n",
       "field_error                    3\n",
       "hit_by_pitch                   3\n",
       "fielders_choice_out            1\n",
       "Name: events, dtype: int64"
      ]
     },
     "execution_count": 15,
     "metadata": {},
     "output_type": "execute_result"
    }
   ],
   "source": [
    "cole_stats.events.value_counts()"
   ]
  },
  {
   "cell_type": "markdown",
   "metadata": {},
   "source": [
    "## Homeruns Hit Against Gerrit Cole"
   ]
  },
  {
   "cell_type": "code",
   "execution_count": 16,
   "metadata": {},
   "outputs": [
    {
     "name": "stdout",
     "output_type": "stream",
     "text": [
      "Innings of HR Allowed by Gerrit Cole\n",
      "4    4\n",
      "3    4\n",
      "1    4\n",
      "5    2\n",
      "2    2\n",
      "7    1\n",
      "6    1\n",
      "Name: inning, dtype: int64\n"
     ]
    }
   ],
   "source": [
    "hr = cole_stats.events == 'home_run'\n",
    "cole_hr = cole_stats[hr]\n",
    "inning_hr = cole_hr.inning.value_counts()\n",
    "print('Innings of HR Allowed by Gerrit Cole\\n{}'.format(inning_hr))"
   ]
  },
  {
   "cell_type": "markdown",
   "metadata": {},
   "source": [
    "### Pitch Pie Chart of HRs Allowed"
   ]
  },
  {
   "cell_type": "code",
   "execution_count": 17,
   "metadata": {},
   "outputs": [
    {
     "name": "stdout",
     "output_type": "stream",
     "text": [
      "Pitch Type on HR Allowed\n",
      "FF    66.666667\n",
      "SL    16.666667\n",
      "KC    11.111111\n",
      "CH     5.555556\n",
      "Name: pitch_type, dtype: float64\n"
     ]
    },
    {
     "data": {
      "application/vnd.plotly.v1+json": {
       "config": {
        "plotlyServerURL": "https://plot.ly"
       },
       "data": [
        {
         "labels": [
          "FF",
          "SL",
          "KC",
          "CH"
         ],
         "title": {
          "text": "Pitch Type on HR Allowed"
         },
         "type": "pie",
         "values": [
          66.66666666666666,
          16.666666666666664,
          11.11111111111111,
          5.555555555555555
         ]
        }
       ],
       "layout": {
        "template": {
         "data": {
          "bar": [
           {
            "error_x": {
             "color": "#2a3f5f"
            },
            "error_y": {
             "color": "#2a3f5f"
            },
            "marker": {
             "line": {
              "color": "#E5ECF6",
              "width": 0.5
             }
            },
            "type": "bar"
           }
          ],
          "barpolar": [
           {
            "marker": {
             "line": {
              "color": "#E5ECF6",
              "width": 0.5
             }
            },
            "type": "barpolar"
           }
          ],
          "carpet": [
           {
            "aaxis": {
             "endlinecolor": "#2a3f5f",
             "gridcolor": "white",
             "linecolor": "white",
             "minorgridcolor": "white",
             "startlinecolor": "#2a3f5f"
            },
            "baxis": {
             "endlinecolor": "#2a3f5f",
             "gridcolor": "white",
             "linecolor": "white",
             "minorgridcolor": "white",
             "startlinecolor": "#2a3f5f"
            },
            "type": "carpet"
           }
          ],
          "choropleth": [
           {
            "colorbar": {
             "outlinewidth": 0,
             "ticks": ""
            },
            "type": "choropleth"
           }
          ],
          "contour": [
           {
            "colorbar": {
             "outlinewidth": 0,
             "ticks": ""
            },
            "colorscale": [
             [
              0,
              "#0d0887"
             ],
             [
              0.1111111111111111,
              "#46039f"
             ],
             [
              0.2222222222222222,
              "#7201a8"
             ],
             [
              0.3333333333333333,
              "#9c179e"
             ],
             [
              0.4444444444444444,
              "#bd3786"
             ],
             [
              0.5555555555555556,
              "#d8576b"
             ],
             [
              0.6666666666666666,
              "#ed7953"
             ],
             [
              0.7777777777777778,
              "#fb9f3a"
             ],
             [
              0.8888888888888888,
              "#fdca26"
             ],
             [
              1,
              "#f0f921"
             ]
            ],
            "type": "contour"
           }
          ],
          "contourcarpet": [
           {
            "colorbar": {
             "outlinewidth": 0,
             "ticks": ""
            },
            "type": "contourcarpet"
           }
          ],
          "heatmap": [
           {
            "colorbar": {
             "outlinewidth": 0,
             "ticks": ""
            },
            "colorscale": [
             [
              0,
              "#0d0887"
             ],
             [
              0.1111111111111111,
              "#46039f"
             ],
             [
              0.2222222222222222,
              "#7201a8"
             ],
             [
              0.3333333333333333,
              "#9c179e"
             ],
             [
              0.4444444444444444,
              "#bd3786"
             ],
             [
              0.5555555555555556,
              "#d8576b"
             ],
             [
              0.6666666666666666,
              "#ed7953"
             ],
             [
              0.7777777777777778,
              "#fb9f3a"
             ],
             [
              0.8888888888888888,
              "#fdca26"
             ],
             [
              1,
              "#f0f921"
             ]
            ],
            "type": "heatmap"
           }
          ],
          "heatmapgl": [
           {
            "colorbar": {
             "outlinewidth": 0,
             "ticks": ""
            },
            "colorscale": [
             [
              0,
              "#0d0887"
             ],
             [
              0.1111111111111111,
              "#46039f"
             ],
             [
              0.2222222222222222,
              "#7201a8"
             ],
             [
              0.3333333333333333,
              "#9c179e"
             ],
             [
              0.4444444444444444,
              "#bd3786"
             ],
             [
              0.5555555555555556,
              "#d8576b"
             ],
             [
              0.6666666666666666,
              "#ed7953"
             ],
             [
              0.7777777777777778,
              "#fb9f3a"
             ],
             [
              0.8888888888888888,
              "#fdca26"
             ],
             [
              1,
              "#f0f921"
             ]
            ],
            "type": "heatmapgl"
           }
          ],
          "histogram": [
           {
            "marker": {
             "colorbar": {
              "outlinewidth": 0,
              "ticks": ""
             }
            },
            "type": "histogram"
           }
          ],
          "histogram2d": [
           {
            "colorbar": {
             "outlinewidth": 0,
             "ticks": ""
            },
            "colorscale": [
             [
              0,
              "#0d0887"
             ],
             [
              0.1111111111111111,
              "#46039f"
             ],
             [
              0.2222222222222222,
              "#7201a8"
             ],
             [
              0.3333333333333333,
              "#9c179e"
             ],
             [
              0.4444444444444444,
              "#bd3786"
             ],
             [
              0.5555555555555556,
              "#d8576b"
             ],
             [
              0.6666666666666666,
              "#ed7953"
             ],
             [
              0.7777777777777778,
              "#fb9f3a"
             ],
             [
              0.8888888888888888,
              "#fdca26"
             ],
             [
              1,
              "#f0f921"
             ]
            ],
            "type": "histogram2d"
           }
          ],
          "histogram2dcontour": [
           {
            "colorbar": {
             "outlinewidth": 0,
             "ticks": ""
            },
            "colorscale": [
             [
              0,
              "#0d0887"
             ],
             [
              0.1111111111111111,
              "#46039f"
             ],
             [
              0.2222222222222222,
              "#7201a8"
             ],
             [
              0.3333333333333333,
              "#9c179e"
             ],
             [
              0.4444444444444444,
              "#bd3786"
             ],
             [
              0.5555555555555556,
              "#d8576b"
             ],
             [
              0.6666666666666666,
              "#ed7953"
             ],
             [
              0.7777777777777778,
              "#fb9f3a"
             ],
             [
              0.8888888888888888,
              "#fdca26"
             ],
             [
              1,
              "#f0f921"
             ]
            ],
            "type": "histogram2dcontour"
           }
          ],
          "mesh3d": [
           {
            "colorbar": {
             "outlinewidth": 0,
             "ticks": ""
            },
            "type": "mesh3d"
           }
          ],
          "parcoords": [
           {
            "line": {
             "colorbar": {
              "outlinewidth": 0,
              "ticks": ""
             }
            },
            "type": "parcoords"
           }
          ],
          "pie": [
           {
            "automargin": true,
            "type": "pie"
           }
          ],
          "scatter": [
           {
            "marker": {
             "colorbar": {
              "outlinewidth": 0,
              "ticks": ""
             }
            },
            "type": "scatter"
           }
          ],
          "scatter3d": [
           {
            "line": {
             "colorbar": {
              "outlinewidth": 0,
              "ticks": ""
             }
            },
            "marker": {
             "colorbar": {
              "outlinewidth": 0,
              "ticks": ""
             }
            },
            "type": "scatter3d"
           }
          ],
          "scattercarpet": [
           {
            "marker": {
             "colorbar": {
              "outlinewidth": 0,
              "ticks": ""
             }
            },
            "type": "scattercarpet"
           }
          ],
          "scattergeo": [
           {
            "marker": {
             "colorbar": {
              "outlinewidth": 0,
              "ticks": ""
             }
            },
            "type": "scattergeo"
           }
          ],
          "scattergl": [
           {
            "marker": {
             "colorbar": {
              "outlinewidth": 0,
              "ticks": ""
             }
            },
            "type": "scattergl"
           }
          ],
          "scattermapbox": [
           {
            "marker": {
             "colorbar": {
              "outlinewidth": 0,
              "ticks": ""
             }
            },
            "type": "scattermapbox"
           }
          ],
          "scatterpolar": [
           {
            "marker": {
             "colorbar": {
              "outlinewidth": 0,
              "ticks": ""
             }
            },
            "type": "scatterpolar"
           }
          ],
          "scatterpolargl": [
           {
            "marker": {
             "colorbar": {
              "outlinewidth": 0,
              "ticks": ""
             }
            },
            "type": "scatterpolargl"
           }
          ],
          "scatterternary": [
           {
            "marker": {
             "colorbar": {
              "outlinewidth": 0,
              "ticks": ""
             }
            },
            "type": "scatterternary"
           }
          ],
          "surface": [
           {
            "colorbar": {
             "outlinewidth": 0,
             "ticks": ""
            },
            "colorscale": [
             [
              0,
              "#0d0887"
             ],
             [
              0.1111111111111111,
              "#46039f"
             ],
             [
              0.2222222222222222,
              "#7201a8"
             ],
             [
              0.3333333333333333,
              "#9c179e"
             ],
             [
              0.4444444444444444,
              "#bd3786"
             ],
             [
              0.5555555555555556,
              "#d8576b"
             ],
             [
              0.6666666666666666,
              "#ed7953"
             ],
             [
              0.7777777777777778,
              "#fb9f3a"
             ],
             [
              0.8888888888888888,
              "#fdca26"
             ],
             [
              1,
              "#f0f921"
             ]
            ],
            "type": "surface"
           }
          ],
          "table": [
           {
            "cells": {
             "fill": {
              "color": "#EBF0F8"
             },
             "line": {
              "color": "white"
             }
            },
            "header": {
             "fill": {
              "color": "#C8D4E3"
             },
             "line": {
              "color": "white"
             }
            },
            "type": "table"
           }
          ]
         },
         "layout": {
          "annotationdefaults": {
           "arrowcolor": "#2a3f5f",
           "arrowhead": 0,
           "arrowwidth": 1
          },
          "coloraxis": {
           "colorbar": {
            "outlinewidth": 0,
            "ticks": ""
           }
          },
          "colorscale": {
           "diverging": [
            [
             0,
             "#8e0152"
            ],
            [
             0.1,
             "#c51b7d"
            ],
            [
             0.2,
             "#de77ae"
            ],
            [
             0.3,
             "#f1b6da"
            ],
            [
             0.4,
             "#fde0ef"
            ],
            [
             0.5,
             "#f7f7f7"
            ],
            [
             0.6,
             "#e6f5d0"
            ],
            [
             0.7,
             "#b8e186"
            ],
            [
             0.8,
             "#7fbc41"
            ],
            [
             0.9,
             "#4d9221"
            ],
            [
             1,
             "#276419"
            ]
           ],
           "sequential": [
            [
             0,
             "#0d0887"
            ],
            [
             0.1111111111111111,
             "#46039f"
            ],
            [
             0.2222222222222222,
             "#7201a8"
            ],
            [
             0.3333333333333333,
             "#9c179e"
            ],
            [
             0.4444444444444444,
             "#bd3786"
            ],
            [
             0.5555555555555556,
             "#d8576b"
            ],
            [
             0.6666666666666666,
             "#ed7953"
            ],
            [
             0.7777777777777778,
             "#fb9f3a"
            ],
            [
             0.8888888888888888,
             "#fdca26"
            ],
            [
             1,
             "#f0f921"
            ]
           ],
           "sequentialminus": [
            [
             0,
             "#0d0887"
            ],
            [
             0.1111111111111111,
             "#46039f"
            ],
            [
             0.2222222222222222,
             "#7201a8"
            ],
            [
             0.3333333333333333,
             "#9c179e"
            ],
            [
             0.4444444444444444,
             "#bd3786"
            ],
            [
             0.5555555555555556,
             "#d8576b"
            ],
            [
             0.6666666666666666,
             "#ed7953"
            ],
            [
             0.7777777777777778,
             "#fb9f3a"
            ],
            [
             0.8888888888888888,
             "#fdca26"
            ],
            [
             1,
             "#f0f921"
            ]
           ]
          },
          "colorway": [
           "#636efa",
           "#EF553B",
           "#00cc96",
           "#ab63fa",
           "#FFA15A",
           "#19d3f3",
           "#FF6692",
           "#B6E880",
           "#FF97FF",
           "#FECB52"
          ],
          "font": {
           "color": "#2a3f5f"
          },
          "geo": {
           "bgcolor": "white",
           "lakecolor": "white",
           "landcolor": "#E5ECF6",
           "showlakes": true,
           "showland": true,
           "subunitcolor": "white"
          },
          "hoverlabel": {
           "align": "left"
          },
          "hovermode": "closest",
          "mapbox": {
           "style": "light"
          },
          "paper_bgcolor": "white",
          "plot_bgcolor": "#E5ECF6",
          "polar": {
           "angularaxis": {
            "gridcolor": "white",
            "linecolor": "white",
            "ticks": ""
           },
           "bgcolor": "#E5ECF6",
           "radialaxis": {
            "gridcolor": "white",
            "linecolor": "white",
            "ticks": ""
           }
          },
          "scene": {
           "xaxis": {
            "backgroundcolor": "#E5ECF6",
            "gridcolor": "white",
            "gridwidth": 2,
            "linecolor": "white",
            "showbackground": true,
            "ticks": "",
            "zerolinecolor": "white"
           },
           "yaxis": {
            "backgroundcolor": "#E5ECF6",
            "gridcolor": "white",
            "gridwidth": 2,
            "linecolor": "white",
            "showbackground": true,
            "ticks": "",
            "zerolinecolor": "white"
           },
           "zaxis": {
            "backgroundcolor": "#E5ECF6",
            "gridcolor": "white",
            "gridwidth": 2,
            "linecolor": "white",
            "showbackground": true,
            "ticks": "",
            "zerolinecolor": "white"
           }
          },
          "shapedefaults": {
           "line": {
            "color": "#2a3f5f"
           }
          },
          "ternary": {
           "aaxis": {
            "gridcolor": "white",
            "linecolor": "white",
            "ticks": ""
           },
           "baxis": {
            "gridcolor": "white",
            "linecolor": "white",
            "ticks": ""
           },
           "bgcolor": "#E5ECF6",
           "caxis": {
            "gridcolor": "white",
            "linecolor": "white",
            "ticks": ""
           }
          },
          "title": {
           "x": 0.05
          },
          "xaxis": {
           "automargin": true,
           "gridcolor": "white",
           "linecolor": "white",
           "ticks": "",
           "title": {
            "standoff": 15
           },
           "zerolinecolor": "white",
           "zerolinewidth": 2
          },
          "yaxis": {
           "automargin": true,
           "gridcolor": "white",
           "linecolor": "white",
           "ticks": "",
           "title": {
            "standoff": 15
           },
           "zerolinecolor": "white",
           "zerolinewidth": 2
          }
         }
        }
       }
      },
      "text/html": [
       "<div>\n",
       "        \n",
       "        \n",
       "            <div id=\"1ee1af44-206d-4fae-8732-c7ae3f12c2fe\" class=\"plotly-graph-div\" style=\"height:525px; width:100%;\"></div>\n",
       "            <script type=\"text/javascript\">\n",
       "                require([\"plotly\"], function(Plotly) {\n",
       "                    window.PLOTLYENV=window.PLOTLYENV || {};\n",
       "                    \n",
       "                if (document.getElementById(\"1ee1af44-206d-4fae-8732-c7ae3f12c2fe\")) {\n",
       "                    Plotly.newPlot(\n",
       "                        '1ee1af44-206d-4fae-8732-c7ae3f12c2fe',\n",
       "                        [{\"labels\": [\"FF\", \"SL\", \"KC\", \"CH\"], \"title\": {\"text\": \"Pitch Type on HR Allowed\"}, \"type\": \"pie\", \"values\": [66.66666666666666, 16.666666666666664, 11.11111111111111, 5.555555555555555]}],\n",
       "                        {\"template\": {\"data\": {\"bar\": [{\"error_x\": {\"color\": \"#2a3f5f\"}, \"error_y\": {\"color\": \"#2a3f5f\"}, \"marker\": {\"line\": {\"color\": \"#E5ECF6\", \"width\": 0.5}}, \"type\": \"bar\"}], \"barpolar\": [{\"marker\": {\"line\": {\"color\": \"#E5ECF6\", \"width\": 0.5}}, \"type\": \"barpolar\"}], \"carpet\": [{\"aaxis\": {\"endlinecolor\": \"#2a3f5f\", \"gridcolor\": \"white\", \"linecolor\": \"white\", \"minorgridcolor\": \"white\", \"startlinecolor\": \"#2a3f5f\"}, \"baxis\": {\"endlinecolor\": \"#2a3f5f\", \"gridcolor\": \"white\", \"linecolor\": \"white\", \"minorgridcolor\": \"white\", \"startlinecolor\": \"#2a3f5f\"}, \"type\": \"carpet\"}], \"choropleth\": [{\"colorbar\": {\"outlinewidth\": 0, \"ticks\": \"\"}, \"type\": \"choropleth\"}], \"contour\": [{\"colorbar\": {\"outlinewidth\": 0, \"ticks\": \"\"}, \"colorscale\": [[0.0, \"#0d0887\"], [0.1111111111111111, \"#46039f\"], [0.2222222222222222, \"#7201a8\"], [0.3333333333333333, \"#9c179e\"], [0.4444444444444444, \"#bd3786\"], [0.5555555555555556, \"#d8576b\"], [0.6666666666666666, \"#ed7953\"], [0.7777777777777778, \"#fb9f3a\"], [0.8888888888888888, \"#fdca26\"], [1.0, \"#f0f921\"]], \"type\": \"contour\"}], \"contourcarpet\": [{\"colorbar\": {\"outlinewidth\": 0, \"ticks\": \"\"}, \"type\": \"contourcarpet\"}], \"heatmap\": [{\"colorbar\": {\"outlinewidth\": 0, \"ticks\": \"\"}, \"colorscale\": [[0.0, \"#0d0887\"], [0.1111111111111111, \"#46039f\"], [0.2222222222222222, \"#7201a8\"], [0.3333333333333333, \"#9c179e\"], [0.4444444444444444, \"#bd3786\"], [0.5555555555555556, \"#d8576b\"], [0.6666666666666666, \"#ed7953\"], [0.7777777777777778, \"#fb9f3a\"], [0.8888888888888888, \"#fdca26\"], [1.0, \"#f0f921\"]], \"type\": \"heatmap\"}], \"heatmapgl\": [{\"colorbar\": {\"outlinewidth\": 0, \"ticks\": \"\"}, \"colorscale\": [[0.0, \"#0d0887\"], [0.1111111111111111, \"#46039f\"], [0.2222222222222222, \"#7201a8\"], [0.3333333333333333, \"#9c179e\"], [0.4444444444444444, \"#bd3786\"], [0.5555555555555556, \"#d8576b\"], [0.6666666666666666, \"#ed7953\"], [0.7777777777777778, \"#fb9f3a\"], [0.8888888888888888, \"#fdca26\"], [1.0, \"#f0f921\"]], \"type\": \"heatmapgl\"}], \"histogram\": [{\"marker\": {\"colorbar\": {\"outlinewidth\": 0, \"ticks\": \"\"}}, \"type\": \"histogram\"}], \"histogram2d\": [{\"colorbar\": {\"outlinewidth\": 0, \"ticks\": \"\"}, \"colorscale\": [[0.0, \"#0d0887\"], [0.1111111111111111, \"#46039f\"], [0.2222222222222222, \"#7201a8\"], [0.3333333333333333, \"#9c179e\"], [0.4444444444444444, \"#bd3786\"], [0.5555555555555556, \"#d8576b\"], [0.6666666666666666, \"#ed7953\"], [0.7777777777777778, \"#fb9f3a\"], [0.8888888888888888, \"#fdca26\"], [1.0, \"#f0f921\"]], \"type\": \"histogram2d\"}], \"histogram2dcontour\": [{\"colorbar\": {\"outlinewidth\": 0, \"ticks\": \"\"}, \"colorscale\": [[0.0, \"#0d0887\"], [0.1111111111111111, \"#46039f\"], [0.2222222222222222, \"#7201a8\"], [0.3333333333333333, \"#9c179e\"], [0.4444444444444444, \"#bd3786\"], [0.5555555555555556, \"#d8576b\"], [0.6666666666666666, \"#ed7953\"], [0.7777777777777778, \"#fb9f3a\"], [0.8888888888888888, \"#fdca26\"], [1.0, \"#f0f921\"]], \"type\": \"histogram2dcontour\"}], \"mesh3d\": [{\"colorbar\": {\"outlinewidth\": 0, \"ticks\": \"\"}, \"type\": \"mesh3d\"}], \"parcoords\": [{\"line\": {\"colorbar\": {\"outlinewidth\": 0, \"ticks\": \"\"}}, \"type\": \"parcoords\"}], \"pie\": [{\"automargin\": true, \"type\": \"pie\"}], \"scatter\": [{\"marker\": {\"colorbar\": {\"outlinewidth\": 0, \"ticks\": \"\"}}, \"type\": \"scatter\"}], \"scatter3d\": [{\"line\": {\"colorbar\": {\"outlinewidth\": 0, \"ticks\": \"\"}}, \"marker\": {\"colorbar\": {\"outlinewidth\": 0, \"ticks\": \"\"}}, \"type\": \"scatter3d\"}], \"scattercarpet\": [{\"marker\": {\"colorbar\": {\"outlinewidth\": 0, \"ticks\": \"\"}}, \"type\": \"scattercarpet\"}], \"scattergeo\": [{\"marker\": {\"colorbar\": {\"outlinewidth\": 0, \"ticks\": \"\"}}, \"type\": \"scattergeo\"}], \"scattergl\": [{\"marker\": {\"colorbar\": {\"outlinewidth\": 0, \"ticks\": \"\"}}, \"type\": \"scattergl\"}], \"scattermapbox\": [{\"marker\": {\"colorbar\": {\"outlinewidth\": 0, \"ticks\": \"\"}}, \"type\": \"scattermapbox\"}], \"scatterpolar\": [{\"marker\": {\"colorbar\": {\"outlinewidth\": 0, \"ticks\": \"\"}}, \"type\": \"scatterpolar\"}], \"scatterpolargl\": [{\"marker\": {\"colorbar\": {\"outlinewidth\": 0, \"ticks\": \"\"}}, \"type\": \"scatterpolargl\"}], \"scatterternary\": [{\"marker\": {\"colorbar\": {\"outlinewidth\": 0, \"ticks\": \"\"}}, \"type\": \"scatterternary\"}], \"surface\": [{\"colorbar\": {\"outlinewidth\": 0, \"ticks\": \"\"}, \"colorscale\": [[0.0, \"#0d0887\"], [0.1111111111111111, \"#46039f\"], [0.2222222222222222, \"#7201a8\"], [0.3333333333333333, \"#9c179e\"], [0.4444444444444444, \"#bd3786\"], [0.5555555555555556, \"#d8576b\"], [0.6666666666666666, \"#ed7953\"], [0.7777777777777778, \"#fb9f3a\"], [0.8888888888888888, \"#fdca26\"], [1.0, \"#f0f921\"]], \"type\": \"surface\"}], \"table\": [{\"cells\": {\"fill\": {\"color\": \"#EBF0F8\"}, \"line\": {\"color\": \"white\"}}, \"header\": {\"fill\": {\"color\": \"#C8D4E3\"}, \"line\": {\"color\": \"white\"}}, \"type\": \"table\"}]}, \"layout\": {\"annotationdefaults\": {\"arrowcolor\": \"#2a3f5f\", \"arrowhead\": 0, \"arrowwidth\": 1}, \"coloraxis\": {\"colorbar\": {\"outlinewidth\": 0, \"ticks\": \"\"}}, \"colorscale\": {\"diverging\": [[0, \"#8e0152\"], [0.1, \"#c51b7d\"], [0.2, \"#de77ae\"], [0.3, \"#f1b6da\"], [0.4, \"#fde0ef\"], [0.5, \"#f7f7f7\"], [0.6, \"#e6f5d0\"], [0.7, \"#b8e186\"], [0.8, \"#7fbc41\"], [0.9, \"#4d9221\"], [1, \"#276419\"]], \"sequential\": [[0.0, \"#0d0887\"], [0.1111111111111111, \"#46039f\"], [0.2222222222222222, \"#7201a8\"], [0.3333333333333333, \"#9c179e\"], [0.4444444444444444, \"#bd3786\"], [0.5555555555555556, \"#d8576b\"], [0.6666666666666666, \"#ed7953\"], [0.7777777777777778, \"#fb9f3a\"], [0.8888888888888888, \"#fdca26\"], [1.0, \"#f0f921\"]], \"sequentialminus\": [[0.0, \"#0d0887\"], [0.1111111111111111, \"#46039f\"], [0.2222222222222222, \"#7201a8\"], [0.3333333333333333, \"#9c179e\"], [0.4444444444444444, \"#bd3786\"], [0.5555555555555556, \"#d8576b\"], [0.6666666666666666, \"#ed7953\"], [0.7777777777777778, \"#fb9f3a\"], [0.8888888888888888, \"#fdca26\"], [1.0, \"#f0f921\"]]}, \"colorway\": [\"#636efa\", \"#EF553B\", \"#00cc96\", \"#ab63fa\", \"#FFA15A\", \"#19d3f3\", \"#FF6692\", \"#B6E880\", \"#FF97FF\", \"#FECB52\"], \"font\": {\"color\": \"#2a3f5f\"}, \"geo\": {\"bgcolor\": \"white\", \"lakecolor\": \"white\", \"landcolor\": \"#E5ECF6\", \"showlakes\": true, \"showland\": true, \"subunitcolor\": \"white\"}, \"hoverlabel\": {\"align\": \"left\"}, \"hovermode\": \"closest\", \"mapbox\": {\"style\": \"light\"}, \"paper_bgcolor\": \"white\", \"plot_bgcolor\": \"#E5ECF6\", \"polar\": {\"angularaxis\": {\"gridcolor\": \"white\", \"linecolor\": \"white\", \"ticks\": \"\"}, \"bgcolor\": \"#E5ECF6\", \"radialaxis\": {\"gridcolor\": \"white\", \"linecolor\": \"white\", \"ticks\": \"\"}}, \"scene\": {\"xaxis\": {\"backgroundcolor\": \"#E5ECF6\", \"gridcolor\": \"white\", \"gridwidth\": 2, \"linecolor\": \"white\", \"showbackground\": true, \"ticks\": \"\", \"zerolinecolor\": \"white\"}, \"yaxis\": {\"backgroundcolor\": \"#E5ECF6\", \"gridcolor\": \"white\", \"gridwidth\": 2, \"linecolor\": \"white\", \"showbackground\": true, \"ticks\": \"\", \"zerolinecolor\": \"white\"}, \"zaxis\": {\"backgroundcolor\": \"#E5ECF6\", \"gridcolor\": \"white\", \"gridwidth\": 2, \"linecolor\": \"white\", \"showbackground\": true, \"ticks\": \"\", \"zerolinecolor\": \"white\"}}, \"shapedefaults\": {\"line\": {\"color\": \"#2a3f5f\"}}, \"ternary\": {\"aaxis\": {\"gridcolor\": \"white\", \"linecolor\": \"white\", \"ticks\": \"\"}, \"baxis\": {\"gridcolor\": \"white\", \"linecolor\": \"white\", \"ticks\": \"\"}, \"bgcolor\": \"#E5ECF6\", \"caxis\": {\"gridcolor\": \"white\", \"linecolor\": \"white\", \"ticks\": \"\"}}, \"title\": {\"x\": 0.05}, \"xaxis\": {\"automargin\": true, \"gridcolor\": \"white\", \"linecolor\": \"white\", \"ticks\": \"\", \"title\": {\"standoff\": 15}, \"zerolinecolor\": \"white\", \"zerolinewidth\": 2}, \"yaxis\": {\"automargin\": true, \"gridcolor\": \"white\", \"linecolor\": \"white\", \"ticks\": \"\", \"title\": {\"standoff\": 15}, \"zerolinecolor\": \"white\", \"zerolinewidth\": 2}}}},\n",
       "                        {\"responsive\": true}\n",
       "                    ).then(function(){\n",
       "                            \n",
       "var gd = document.getElementById('1ee1af44-206d-4fae-8732-c7ae3f12c2fe');\n",
       "var x = new MutationObserver(function (mutations, observer) {{\n",
       "        var display = window.getComputedStyle(gd).display;\n",
       "        if (!display || display === 'none') {{\n",
       "            console.log([gd, 'removed!']);\n",
       "            Plotly.purge(gd);\n",
       "            observer.disconnect();\n",
       "        }}\n",
       "}});\n",
       "\n",
       "// Listen for the removal of the full notebook cells\n",
       "var notebookContainer = gd.closest('#notebook-container');\n",
       "if (notebookContainer) {{\n",
       "    x.observe(notebookContainer, {childList: true});\n",
       "}}\n",
       "\n",
       "// Listen for the clearing of the current output cell\n",
       "var outputEl = gd.closest('.output');\n",
       "if (outputEl) {{\n",
       "    x.observe(outputEl, {childList: true});\n",
       "}}\n",
       "\n",
       "                        })\n",
       "                };\n",
       "                });\n",
       "            </script>\n",
       "        </div>"
      ]
     },
     "metadata": {},
     "output_type": "display_data"
    }
   ],
   "source": [
    "hr_pitch = cole_hr.pitch_type.value_counts() / len(cole_hr)*100\n",
    "print('Pitch Type on HR Allowed\\n{}'.format(hr_pitch))\n",
    "\n",
    "fig = go.Figure(data=[go.Pie(labels=hr_pitch.index, \n",
    "                             values=hr_pitch,\n",
    "                             title='Pitch Type on HR Allowed')])\n",
    "fig.show()"
   ]
  },
  {
   "cell_type": "markdown",
   "metadata": {},
   "source": [
    "### Pitch Locations of HRs Allowed"
   ]
  },
  {
   "cell_type": "code",
   "execution_count": 18,
   "metadata": {},
   "outputs": [
    {
     "data": {
      "application/vnd.plotly.v1+json": {
       "config": {
        "linkText": "Export to plot.ly",
        "plotlyServerURL": "https://plot.ly",
        "showLink": false
       },
       "data": [
        {
         "marker": {
          "line": {
           "width": 2
          },
          "size": 10
         },
         "mode": "markers",
         "name": "Four Seam Fastball",
         "type": "scatter",
         "x": [
          -0.43,
          -0.35,
          0.29,
          -0.38,
          0.47,
          0.34,
          0.78,
          -0.04,
          -0.22,
          -0.13,
          0.57,
          0.23
         ],
         "y": [
          2.21,
          2.25,
          2.94,
          2.43,
          2.47,
          2.74,
          2.77,
          2.51,
          2.86,
          2.91,
          2.37,
          2.37
         ]
        },
        {
         "marker": {
          "line": {
           "width": 2
          },
          "size": 10
         },
         "mode": "markers",
         "name": "Slider",
         "type": "scatter",
         "x": [
          -0.04,
          -0.17,
          0.35
         ],
         "y": [
          2.76,
          1.66,
          3.06
         ]
        },
        {
         "marker": {
          "line": {
           "width": 2
          },
          "size": 10
         },
         "mode": "markers",
         "name": "Knuckle Curve",
         "type": "scatter",
         "x": [
          0.28,
          0.77
         ],
         "y": [
          1.85,
          1.51
         ]
        },
        {
         "marker": {
          "line": {
           "width": 2
          },
          "size": 10
         },
         "mode": "markers",
         "name": "Changeup",
         "type": "scatter",
         "x": [
          -0.48
         ],
         "y": [
          1.96
         ]
        }
       ],
       "layout": {
        "height": 700,
        "template": {
         "data": {
          "bar": [
           {
            "error_x": {
             "color": "#2a3f5f"
            },
            "error_y": {
             "color": "#2a3f5f"
            },
            "marker": {
             "line": {
              "color": "#E5ECF6",
              "width": 0.5
             }
            },
            "type": "bar"
           }
          ],
          "barpolar": [
           {
            "marker": {
             "line": {
              "color": "#E5ECF6",
              "width": 0.5
             }
            },
            "type": "barpolar"
           }
          ],
          "carpet": [
           {
            "aaxis": {
             "endlinecolor": "#2a3f5f",
             "gridcolor": "white",
             "linecolor": "white",
             "minorgridcolor": "white",
             "startlinecolor": "#2a3f5f"
            },
            "baxis": {
             "endlinecolor": "#2a3f5f",
             "gridcolor": "white",
             "linecolor": "white",
             "minorgridcolor": "white",
             "startlinecolor": "#2a3f5f"
            },
            "type": "carpet"
           }
          ],
          "choropleth": [
           {
            "colorbar": {
             "outlinewidth": 0,
             "ticks": ""
            },
            "type": "choropleth"
           }
          ],
          "contour": [
           {
            "colorbar": {
             "outlinewidth": 0,
             "ticks": ""
            },
            "colorscale": [
             [
              0,
              "#0d0887"
             ],
             [
              0.1111111111111111,
              "#46039f"
             ],
             [
              0.2222222222222222,
              "#7201a8"
             ],
             [
              0.3333333333333333,
              "#9c179e"
             ],
             [
              0.4444444444444444,
              "#bd3786"
             ],
             [
              0.5555555555555556,
              "#d8576b"
             ],
             [
              0.6666666666666666,
              "#ed7953"
             ],
             [
              0.7777777777777778,
              "#fb9f3a"
             ],
             [
              0.8888888888888888,
              "#fdca26"
             ],
             [
              1,
              "#f0f921"
             ]
            ],
            "type": "contour"
           }
          ],
          "contourcarpet": [
           {
            "colorbar": {
             "outlinewidth": 0,
             "ticks": ""
            },
            "type": "contourcarpet"
           }
          ],
          "heatmap": [
           {
            "colorbar": {
             "outlinewidth": 0,
             "ticks": ""
            },
            "colorscale": [
             [
              0,
              "#0d0887"
             ],
             [
              0.1111111111111111,
              "#46039f"
             ],
             [
              0.2222222222222222,
              "#7201a8"
             ],
             [
              0.3333333333333333,
              "#9c179e"
             ],
             [
              0.4444444444444444,
              "#bd3786"
             ],
             [
              0.5555555555555556,
              "#d8576b"
             ],
             [
              0.6666666666666666,
              "#ed7953"
             ],
             [
              0.7777777777777778,
              "#fb9f3a"
             ],
             [
              0.8888888888888888,
              "#fdca26"
             ],
             [
              1,
              "#f0f921"
             ]
            ],
            "type": "heatmap"
           }
          ],
          "heatmapgl": [
           {
            "colorbar": {
             "outlinewidth": 0,
             "ticks": ""
            },
            "colorscale": [
             [
              0,
              "#0d0887"
             ],
             [
              0.1111111111111111,
              "#46039f"
             ],
             [
              0.2222222222222222,
              "#7201a8"
             ],
             [
              0.3333333333333333,
              "#9c179e"
             ],
             [
              0.4444444444444444,
              "#bd3786"
             ],
             [
              0.5555555555555556,
              "#d8576b"
             ],
             [
              0.6666666666666666,
              "#ed7953"
             ],
             [
              0.7777777777777778,
              "#fb9f3a"
             ],
             [
              0.8888888888888888,
              "#fdca26"
             ],
             [
              1,
              "#f0f921"
             ]
            ],
            "type": "heatmapgl"
           }
          ],
          "histogram": [
           {
            "marker": {
             "colorbar": {
              "outlinewidth": 0,
              "ticks": ""
             }
            },
            "type": "histogram"
           }
          ],
          "histogram2d": [
           {
            "colorbar": {
             "outlinewidth": 0,
             "ticks": ""
            },
            "colorscale": [
             [
              0,
              "#0d0887"
             ],
             [
              0.1111111111111111,
              "#46039f"
             ],
             [
              0.2222222222222222,
              "#7201a8"
             ],
             [
              0.3333333333333333,
              "#9c179e"
             ],
             [
              0.4444444444444444,
              "#bd3786"
             ],
             [
              0.5555555555555556,
              "#d8576b"
             ],
             [
              0.6666666666666666,
              "#ed7953"
             ],
             [
              0.7777777777777778,
              "#fb9f3a"
             ],
             [
              0.8888888888888888,
              "#fdca26"
             ],
             [
              1,
              "#f0f921"
             ]
            ],
            "type": "histogram2d"
           }
          ],
          "histogram2dcontour": [
           {
            "colorbar": {
             "outlinewidth": 0,
             "ticks": ""
            },
            "colorscale": [
             [
              0,
              "#0d0887"
             ],
             [
              0.1111111111111111,
              "#46039f"
             ],
             [
              0.2222222222222222,
              "#7201a8"
             ],
             [
              0.3333333333333333,
              "#9c179e"
             ],
             [
              0.4444444444444444,
              "#bd3786"
             ],
             [
              0.5555555555555556,
              "#d8576b"
             ],
             [
              0.6666666666666666,
              "#ed7953"
             ],
             [
              0.7777777777777778,
              "#fb9f3a"
             ],
             [
              0.8888888888888888,
              "#fdca26"
             ],
             [
              1,
              "#f0f921"
             ]
            ],
            "type": "histogram2dcontour"
           }
          ],
          "mesh3d": [
           {
            "colorbar": {
             "outlinewidth": 0,
             "ticks": ""
            },
            "type": "mesh3d"
           }
          ],
          "parcoords": [
           {
            "line": {
             "colorbar": {
              "outlinewidth": 0,
              "ticks": ""
             }
            },
            "type": "parcoords"
           }
          ],
          "pie": [
           {
            "automargin": true,
            "type": "pie"
           }
          ],
          "scatter": [
           {
            "marker": {
             "colorbar": {
              "outlinewidth": 0,
              "ticks": ""
             }
            },
            "type": "scatter"
           }
          ],
          "scatter3d": [
           {
            "line": {
             "colorbar": {
              "outlinewidth": 0,
              "ticks": ""
             }
            },
            "marker": {
             "colorbar": {
              "outlinewidth": 0,
              "ticks": ""
             }
            },
            "type": "scatter3d"
           }
          ],
          "scattercarpet": [
           {
            "marker": {
             "colorbar": {
              "outlinewidth": 0,
              "ticks": ""
             }
            },
            "type": "scattercarpet"
           }
          ],
          "scattergeo": [
           {
            "marker": {
             "colorbar": {
              "outlinewidth": 0,
              "ticks": ""
             }
            },
            "type": "scattergeo"
           }
          ],
          "scattergl": [
           {
            "marker": {
             "colorbar": {
              "outlinewidth": 0,
              "ticks": ""
             }
            },
            "type": "scattergl"
           }
          ],
          "scattermapbox": [
           {
            "marker": {
             "colorbar": {
              "outlinewidth": 0,
              "ticks": ""
             }
            },
            "type": "scattermapbox"
           }
          ],
          "scatterpolar": [
           {
            "marker": {
             "colorbar": {
              "outlinewidth": 0,
              "ticks": ""
             }
            },
            "type": "scatterpolar"
           }
          ],
          "scatterpolargl": [
           {
            "marker": {
             "colorbar": {
              "outlinewidth": 0,
              "ticks": ""
             }
            },
            "type": "scatterpolargl"
           }
          ],
          "scatterternary": [
           {
            "marker": {
             "colorbar": {
              "outlinewidth": 0,
              "ticks": ""
             }
            },
            "type": "scatterternary"
           }
          ],
          "surface": [
           {
            "colorbar": {
             "outlinewidth": 0,
             "ticks": ""
            },
            "colorscale": [
             [
              0,
              "#0d0887"
             ],
             [
              0.1111111111111111,
              "#46039f"
             ],
             [
              0.2222222222222222,
              "#7201a8"
             ],
             [
              0.3333333333333333,
              "#9c179e"
             ],
             [
              0.4444444444444444,
              "#bd3786"
             ],
             [
              0.5555555555555556,
              "#d8576b"
             ],
             [
              0.6666666666666666,
              "#ed7953"
             ],
             [
              0.7777777777777778,
              "#fb9f3a"
             ],
             [
              0.8888888888888888,
              "#fdca26"
             ],
             [
              1,
              "#f0f921"
             ]
            ],
            "type": "surface"
           }
          ],
          "table": [
           {
            "cells": {
             "fill": {
              "color": "#EBF0F8"
             },
             "line": {
              "color": "white"
             }
            },
            "header": {
             "fill": {
              "color": "#C8D4E3"
             },
             "line": {
              "color": "white"
             }
            },
            "type": "table"
           }
          ]
         },
         "layout": {
          "annotationdefaults": {
           "arrowcolor": "#2a3f5f",
           "arrowhead": 0,
           "arrowwidth": 1
          },
          "coloraxis": {
           "colorbar": {
            "outlinewidth": 0,
            "ticks": ""
           }
          },
          "colorscale": {
           "diverging": [
            [
             0,
             "#8e0152"
            ],
            [
             0.1,
             "#c51b7d"
            ],
            [
             0.2,
             "#de77ae"
            ],
            [
             0.3,
             "#f1b6da"
            ],
            [
             0.4,
             "#fde0ef"
            ],
            [
             0.5,
             "#f7f7f7"
            ],
            [
             0.6,
             "#e6f5d0"
            ],
            [
             0.7,
             "#b8e186"
            ],
            [
             0.8,
             "#7fbc41"
            ],
            [
             0.9,
             "#4d9221"
            ],
            [
             1,
             "#276419"
            ]
           ],
           "sequential": [
            [
             0,
             "#0d0887"
            ],
            [
             0.1111111111111111,
             "#46039f"
            ],
            [
             0.2222222222222222,
             "#7201a8"
            ],
            [
             0.3333333333333333,
             "#9c179e"
            ],
            [
             0.4444444444444444,
             "#bd3786"
            ],
            [
             0.5555555555555556,
             "#d8576b"
            ],
            [
             0.6666666666666666,
             "#ed7953"
            ],
            [
             0.7777777777777778,
             "#fb9f3a"
            ],
            [
             0.8888888888888888,
             "#fdca26"
            ],
            [
             1,
             "#f0f921"
            ]
           ],
           "sequentialminus": [
            [
             0,
             "#0d0887"
            ],
            [
             0.1111111111111111,
             "#46039f"
            ],
            [
             0.2222222222222222,
             "#7201a8"
            ],
            [
             0.3333333333333333,
             "#9c179e"
            ],
            [
             0.4444444444444444,
             "#bd3786"
            ],
            [
             0.5555555555555556,
             "#d8576b"
            ],
            [
             0.6666666666666666,
             "#ed7953"
            ],
            [
             0.7777777777777778,
             "#fb9f3a"
            ],
            [
             0.8888888888888888,
             "#fdca26"
            ],
            [
             1,
             "#f0f921"
            ]
           ]
          },
          "colorway": [
           "#636efa",
           "#EF553B",
           "#00cc96",
           "#ab63fa",
           "#FFA15A",
           "#19d3f3",
           "#FF6692",
           "#B6E880",
           "#FF97FF",
           "#FECB52"
          ],
          "font": {
           "color": "#2a3f5f"
          },
          "geo": {
           "bgcolor": "white",
           "lakecolor": "white",
           "landcolor": "#E5ECF6",
           "showlakes": true,
           "showland": true,
           "subunitcolor": "white"
          },
          "hoverlabel": {
           "align": "left"
          },
          "hovermode": "closest",
          "mapbox": {
           "style": "light"
          },
          "paper_bgcolor": "white",
          "plot_bgcolor": "#E5ECF6",
          "polar": {
           "angularaxis": {
            "gridcolor": "white",
            "linecolor": "white",
            "ticks": ""
           },
           "bgcolor": "#E5ECF6",
           "radialaxis": {
            "gridcolor": "white",
            "linecolor": "white",
            "ticks": ""
           }
          },
          "scene": {
           "xaxis": {
            "backgroundcolor": "#E5ECF6",
            "gridcolor": "white",
            "gridwidth": 2,
            "linecolor": "white",
            "showbackground": true,
            "ticks": "",
            "zerolinecolor": "white"
           },
           "yaxis": {
            "backgroundcolor": "#E5ECF6",
            "gridcolor": "white",
            "gridwidth": 2,
            "linecolor": "white",
            "showbackground": true,
            "ticks": "",
            "zerolinecolor": "white"
           },
           "zaxis": {
            "backgroundcolor": "#E5ECF6",
            "gridcolor": "white",
            "gridwidth": 2,
            "linecolor": "white",
            "showbackground": true,
            "ticks": "",
            "zerolinecolor": "white"
           }
          },
          "shapedefaults": {
           "line": {
            "color": "#2a3f5f"
           }
          },
          "ternary": {
           "aaxis": {
            "gridcolor": "white",
            "linecolor": "white",
            "ticks": ""
           },
           "baxis": {
            "gridcolor": "white",
            "linecolor": "white",
            "ticks": ""
           },
           "bgcolor": "#E5ECF6",
           "caxis": {
            "gridcolor": "white",
            "linecolor": "white",
            "ticks": ""
           }
          },
          "title": {
           "x": 0.05
          },
          "xaxis": {
           "automargin": true,
           "gridcolor": "white",
           "linecolor": "white",
           "ticks": "",
           "title": {
            "standoff": 15
           },
           "zerolinecolor": "white",
           "zerolinewidth": 2
          },
          "yaxis": {
           "automargin": true,
           "gridcolor": "white",
           "linecolor": "white",
           "ticks": "",
           "title": {
            "standoff": 15
           },
           "zerolinecolor": "white",
           "zerolinewidth": 2
          }
         }
        },
        "title": {
         "text": "Pitch types and Location of Gerrit Cole Homeruns Allowed 2020 "
        },
        "width": 700,
        "xaxis": {
         "zeroline": false
        },
        "yaxis": {
         "zeroline": false
        }
       }
      },
      "text/html": [
       "<div>\n",
       "        \n",
       "        \n",
       "            <div id=\"96f33822-4399-463e-93db-3ba2843137c8\" class=\"plotly-graph-div\" style=\"height:700px; width:700px;\"></div>\n",
       "            <script type=\"text/javascript\">\n",
       "                require([\"plotly\"], function(Plotly) {\n",
       "                    window.PLOTLYENV=window.PLOTLYENV || {};\n",
       "                    \n",
       "                if (document.getElementById(\"96f33822-4399-463e-93db-3ba2843137c8\")) {\n",
       "                    Plotly.newPlot(\n",
       "                        '96f33822-4399-463e-93db-3ba2843137c8',\n",
       "                        [{\"marker\": {\"line\": {\"width\": 2}, \"size\": 10}, \"mode\": \"markers\", \"name\": \"Four Seam Fastball\", \"type\": \"scatter\", \"x\": [-0.43, -0.35, 0.29, -0.38, 0.47, 0.34, 0.78, -0.04, -0.22, -0.13, 0.57, 0.23], \"y\": [2.21, 2.25, 2.94, 2.43, 2.47, 2.74, 2.77, 2.51, 2.86, 2.91, 2.37, 2.37]}, {\"marker\": {\"line\": {\"width\": 2}, \"size\": 10}, \"mode\": \"markers\", \"name\": \"Slider\", \"type\": \"scatter\", \"x\": [-0.04, -0.17, 0.35], \"y\": [2.76, 1.66, 3.06]}, {\"marker\": {\"line\": {\"width\": 2}, \"size\": 10}, \"mode\": \"markers\", \"name\": \"Knuckle Curve\", \"type\": \"scatter\", \"x\": [0.28, 0.77], \"y\": [1.85, 1.51]}, {\"marker\": {\"line\": {\"width\": 2}, \"size\": 10}, \"mode\": \"markers\", \"name\": \"Changeup\", \"type\": \"scatter\", \"x\": [-0.48], \"y\": [1.96]}],\n",
       "                        {\"height\": 700, \"template\": {\"data\": {\"bar\": [{\"error_x\": {\"color\": \"#2a3f5f\"}, \"error_y\": {\"color\": \"#2a3f5f\"}, \"marker\": {\"line\": {\"color\": \"#E5ECF6\", \"width\": 0.5}}, \"type\": \"bar\"}], \"barpolar\": [{\"marker\": {\"line\": {\"color\": \"#E5ECF6\", \"width\": 0.5}}, \"type\": \"barpolar\"}], \"carpet\": [{\"aaxis\": {\"endlinecolor\": \"#2a3f5f\", \"gridcolor\": \"white\", \"linecolor\": \"white\", \"minorgridcolor\": \"white\", \"startlinecolor\": \"#2a3f5f\"}, \"baxis\": {\"endlinecolor\": \"#2a3f5f\", \"gridcolor\": \"white\", \"linecolor\": \"white\", \"minorgridcolor\": \"white\", \"startlinecolor\": \"#2a3f5f\"}, \"type\": \"carpet\"}], \"choropleth\": [{\"colorbar\": {\"outlinewidth\": 0, \"ticks\": \"\"}, \"type\": \"choropleth\"}], \"contour\": [{\"colorbar\": {\"outlinewidth\": 0, \"ticks\": \"\"}, \"colorscale\": [[0.0, \"#0d0887\"], [0.1111111111111111, \"#46039f\"], [0.2222222222222222, \"#7201a8\"], [0.3333333333333333, \"#9c179e\"], [0.4444444444444444, \"#bd3786\"], [0.5555555555555556, \"#d8576b\"], [0.6666666666666666, \"#ed7953\"], [0.7777777777777778, \"#fb9f3a\"], [0.8888888888888888, \"#fdca26\"], [1.0, \"#f0f921\"]], \"type\": \"contour\"}], \"contourcarpet\": [{\"colorbar\": {\"outlinewidth\": 0, \"ticks\": \"\"}, \"type\": \"contourcarpet\"}], \"heatmap\": [{\"colorbar\": {\"outlinewidth\": 0, \"ticks\": \"\"}, \"colorscale\": [[0.0, \"#0d0887\"], [0.1111111111111111, \"#46039f\"], [0.2222222222222222, \"#7201a8\"], [0.3333333333333333, \"#9c179e\"], [0.4444444444444444, \"#bd3786\"], [0.5555555555555556, \"#d8576b\"], [0.6666666666666666, \"#ed7953\"], [0.7777777777777778, \"#fb9f3a\"], [0.8888888888888888, \"#fdca26\"], [1.0, \"#f0f921\"]], \"type\": \"heatmap\"}], \"heatmapgl\": [{\"colorbar\": {\"outlinewidth\": 0, \"ticks\": \"\"}, \"colorscale\": [[0.0, \"#0d0887\"], [0.1111111111111111, \"#46039f\"], [0.2222222222222222, \"#7201a8\"], [0.3333333333333333, \"#9c179e\"], [0.4444444444444444, \"#bd3786\"], [0.5555555555555556, \"#d8576b\"], [0.6666666666666666, \"#ed7953\"], [0.7777777777777778, \"#fb9f3a\"], [0.8888888888888888, \"#fdca26\"], [1.0, \"#f0f921\"]], \"type\": \"heatmapgl\"}], \"histogram\": [{\"marker\": {\"colorbar\": {\"outlinewidth\": 0, \"ticks\": \"\"}}, \"type\": \"histogram\"}], \"histogram2d\": [{\"colorbar\": {\"outlinewidth\": 0, \"ticks\": \"\"}, \"colorscale\": [[0.0, \"#0d0887\"], [0.1111111111111111, \"#46039f\"], [0.2222222222222222, \"#7201a8\"], [0.3333333333333333, \"#9c179e\"], [0.4444444444444444, \"#bd3786\"], [0.5555555555555556, \"#d8576b\"], [0.6666666666666666, \"#ed7953\"], [0.7777777777777778, \"#fb9f3a\"], [0.8888888888888888, \"#fdca26\"], [1.0, \"#f0f921\"]], \"type\": \"histogram2d\"}], \"histogram2dcontour\": [{\"colorbar\": {\"outlinewidth\": 0, \"ticks\": \"\"}, \"colorscale\": [[0.0, \"#0d0887\"], [0.1111111111111111, \"#46039f\"], [0.2222222222222222, \"#7201a8\"], [0.3333333333333333, \"#9c179e\"], [0.4444444444444444, \"#bd3786\"], [0.5555555555555556, \"#d8576b\"], [0.6666666666666666, \"#ed7953\"], [0.7777777777777778, \"#fb9f3a\"], [0.8888888888888888, \"#fdca26\"], [1.0, \"#f0f921\"]], \"type\": \"histogram2dcontour\"}], \"mesh3d\": [{\"colorbar\": {\"outlinewidth\": 0, \"ticks\": \"\"}, \"type\": \"mesh3d\"}], \"parcoords\": [{\"line\": {\"colorbar\": {\"outlinewidth\": 0, \"ticks\": \"\"}}, \"type\": \"parcoords\"}], \"pie\": [{\"automargin\": true, \"type\": \"pie\"}], \"scatter\": [{\"marker\": {\"colorbar\": {\"outlinewidth\": 0, \"ticks\": \"\"}}, \"type\": \"scatter\"}], \"scatter3d\": [{\"line\": {\"colorbar\": {\"outlinewidth\": 0, \"ticks\": \"\"}}, \"marker\": {\"colorbar\": {\"outlinewidth\": 0, \"ticks\": \"\"}}, \"type\": \"scatter3d\"}], \"scattercarpet\": [{\"marker\": {\"colorbar\": {\"outlinewidth\": 0, \"ticks\": \"\"}}, \"type\": \"scattercarpet\"}], \"scattergeo\": [{\"marker\": {\"colorbar\": {\"outlinewidth\": 0, \"ticks\": \"\"}}, \"type\": \"scattergeo\"}], \"scattergl\": [{\"marker\": {\"colorbar\": {\"outlinewidth\": 0, \"ticks\": \"\"}}, \"type\": \"scattergl\"}], \"scattermapbox\": [{\"marker\": {\"colorbar\": {\"outlinewidth\": 0, \"ticks\": \"\"}}, \"type\": \"scattermapbox\"}], \"scatterpolar\": [{\"marker\": {\"colorbar\": {\"outlinewidth\": 0, \"ticks\": \"\"}}, \"type\": \"scatterpolar\"}], \"scatterpolargl\": [{\"marker\": {\"colorbar\": {\"outlinewidth\": 0, \"ticks\": \"\"}}, \"type\": \"scatterpolargl\"}], \"scatterternary\": [{\"marker\": {\"colorbar\": {\"outlinewidth\": 0, \"ticks\": \"\"}}, \"type\": \"scatterternary\"}], \"surface\": [{\"colorbar\": {\"outlinewidth\": 0, \"ticks\": \"\"}, \"colorscale\": [[0.0, \"#0d0887\"], [0.1111111111111111, \"#46039f\"], [0.2222222222222222, \"#7201a8\"], [0.3333333333333333, \"#9c179e\"], [0.4444444444444444, \"#bd3786\"], [0.5555555555555556, \"#d8576b\"], [0.6666666666666666, \"#ed7953\"], [0.7777777777777778, \"#fb9f3a\"], [0.8888888888888888, \"#fdca26\"], [1.0, \"#f0f921\"]], \"type\": \"surface\"}], \"table\": [{\"cells\": {\"fill\": {\"color\": \"#EBF0F8\"}, \"line\": {\"color\": \"white\"}}, \"header\": {\"fill\": {\"color\": \"#C8D4E3\"}, \"line\": {\"color\": \"white\"}}, \"type\": \"table\"}]}, \"layout\": {\"annotationdefaults\": {\"arrowcolor\": \"#2a3f5f\", \"arrowhead\": 0, \"arrowwidth\": 1}, \"coloraxis\": {\"colorbar\": {\"outlinewidth\": 0, \"ticks\": \"\"}}, \"colorscale\": {\"diverging\": [[0, \"#8e0152\"], [0.1, \"#c51b7d\"], [0.2, \"#de77ae\"], [0.3, \"#f1b6da\"], [0.4, \"#fde0ef\"], [0.5, \"#f7f7f7\"], [0.6, \"#e6f5d0\"], [0.7, \"#b8e186\"], [0.8, \"#7fbc41\"], [0.9, \"#4d9221\"], [1, \"#276419\"]], \"sequential\": [[0.0, \"#0d0887\"], [0.1111111111111111, \"#46039f\"], [0.2222222222222222, \"#7201a8\"], [0.3333333333333333, \"#9c179e\"], [0.4444444444444444, \"#bd3786\"], [0.5555555555555556, \"#d8576b\"], [0.6666666666666666, \"#ed7953\"], [0.7777777777777778, \"#fb9f3a\"], [0.8888888888888888, \"#fdca26\"], [1.0, \"#f0f921\"]], \"sequentialminus\": [[0.0, \"#0d0887\"], [0.1111111111111111, \"#46039f\"], [0.2222222222222222, \"#7201a8\"], [0.3333333333333333, \"#9c179e\"], [0.4444444444444444, \"#bd3786\"], [0.5555555555555556, \"#d8576b\"], [0.6666666666666666, \"#ed7953\"], [0.7777777777777778, \"#fb9f3a\"], [0.8888888888888888, \"#fdca26\"], [1.0, \"#f0f921\"]]}, \"colorway\": [\"#636efa\", \"#EF553B\", \"#00cc96\", \"#ab63fa\", \"#FFA15A\", \"#19d3f3\", \"#FF6692\", \"#B6E880\", \"#FF97FF\", \"#FECB52\"], \"font\": {\"color\": \"#2a3f5f\"}, \"geo\": {\"bgcolor\": \"white\", \"lakecolor\": \"white\", \"landcolor\": \"#E5ECF6\", \"showlakes\": true, \"showland\": true, \"subunitcolor\": \"white\"}, \"hoverlabel\": {\"align\": \"left\"}, \"hovermode\": \"closest\", \"mapbox\": {\"style\": \"light\"}, \"paper_bgcolor\": \"white\", \"plot_bgcolor\": \"#E5ECF6\", \"polar\": {\"angularaxis\": {\"gridcolor\": \"white\", \"linecolor\": \"white\", \"ticks\": \"\"}, \"bgcolor\": \"#E5ECF6\", \"radialaxis\": {\"gridcolor\": \"white\", \"linecolor\": \"white\", \"ticks\": \"\"}}, \"scene\": {\"xaxis\": {\"backgroundcolor\": \"#E5ECF6\", \"gridcolor\": \"white\", \"gridwidth\": 2, \"linecolor\": \"white\", \"showbackground\": true, \"ticks\": \"\", \"zerolinecolor\": \"white\"}, \"yaxis\": {\"backgroundcolor\": \"#E5ECF6\", \"gridcolor\": \"white\", \"gridwidth\": 2, \"linecolor\": \"white\", \"showbackground\": true, \"ticks\": \"\", \"zerolinecolor\": \"white\"}, \"zaxis\": {\"backgroundcolor\": \"#E5ECF6\", \"gridcolor\": \"white\", \"gridwidth\": 2, \"linecolor\": \"white\", \"showbackground\": true, \"ticks\": \"\", \"zerolinecolor\": \"white\"}}, \"shapedefaults\": {\"line\": {\"color\": \"#2a3f5f\"}}, \"ternary\": {\"aaxis\": {\"gridcolor\": \"white\", \"linecolor\": \"white\", \"ticks\": \"\"}, \"baxis\": {\"gridcolor\": \"white\", \"linecolor\": \"white\", \"ticks\": \"\"}, \"bgcolor\": \"#E5ECF6\", \"caxis\": {\"gridcolor\": \"white\", \"linecolor\": \"white\", \"ticks\": \"\"}}, \"title\": {\"x\": 0.05}, \"xaxis\": {\"automargin\": true, \"gridcolor\": \"white\", \"linecolor\": \"white\", \"ticks\": \"\", \"title\": {\"standoff\": 15}, \"zerolinecolor\": \"white\", \"zerolinewidth\": 2}, \"yaxis\": {\"automargin\": true, \"gridcolor\": \"white\", \"linecolor\": \"white\", \"ticks\": \"\", \"title\": {\"standoff\": 15}, \"zerolinecolor\": \"white\", \"zerolinewidth\": 2}}}, \"title\": {\"text\": \"Pitch types and Location of Gerrit Cole Homeruns Allowed 2020 \"}, \"width\": 700, \"xaxis\": {\"zeroline\": false}, \"yaxis\": {\"zeroline\": false}},\n",
       "                        {\"responsive\": true}\n",
       "                    ).then(function(){\n",
       "                            \n",
       "var gd = document.getElementById('96f33822-4399-463e-93db-3ba2843137c8');\n",
       "var x = new MutationObserver(function (mutations, observer) {{\n",
       "        var display = window.getComputedStyle(gd).display;\n",
       "        if (!display || display === 'none') {{\n",
       "            console.log([gd, 'removed!']);\n",
       "            Plotly.purge(gd);\n",
       "            observer.disconnect();\n",
       "        }}\n",
       "}});\n",
       "\n",
       "// Listen for the removal of the full notebook cells\n",
       "var notebookContainer = gd.closest('#notebook-container');\n",
       "if (notebookContainer) {{\n",
       "    x.observe(notebookContainer, {childList: true});\n",
       "}}\n",
       "\n",
       "// Listen for the clearing of the current output cell\n",
       "var outputEl = gd.closest('.output');\n",
       "if (outputEl) {{\n",
       "    x.observe(outputEl, {childList: true});\n",
       "}}\n",
       "\n",
       "                        })\n",
       "                };\n",
       "                });\n",
       "            </script>\n",
       "        </div>"
      ]
     },
     "metadata": {},
     "output_type": "display_data"
    }
   ],
   "source": [
    "trace0 = go.Scatter(x = cole_hr.plate_x[cole_hr.pitch_type == 'FF'],\n",
    "                   y = cole_hr.plate_z[cole_hr.pitch_type == 'FF'],\n",
    "                   name = 'Four Seam Fastball',\n",
    "                   mode = 'markers',\n",
    "                   marker = dict(size=10,\n",
    "                                line=dict(width=2)\n",
    "                                )\n",
    "                   )\n",
    "\n",
    "trace1 = go.Scatter(x = cole_hr.plate_x[cole_hr.pitch_type == 'SL'],\n",
    "                   y = cole_hr.plate_z[cole_hr.pitch_type == 'SL'],\n",
    "                   name = 'Slider',\n",
    "                   mode = 'markers',\n",
    "                   marker = dict(size=10,\n",
    "                                line=dict(width=2)\n",
    "                                )\n",
    "                   )\n",
    "\n",
    "trace2 = go.Scatter(x = cole_hr.plate_x[cole_hr.pitch_type == 'KC'],\n",
    "                   y = cole_hr.plate_z[cole_hr.pitch_type == 'KC'],\n",
    "                   name = 'Knuckle Curve',\n",
    "                   mode = 'markers',\n",
    "                   marker = dict(size=10,\n",
    "                                line=dict(width=2)\n",
    "                                )\n",
    "                   )\n",
    "\n",
    "trace3 = go.Scatter(x = cole_hr.plate_x[cole_hr.pitch_type == 'CH'],\n",
    "                   y = cole_hr.plate_z[cole_hr.pitch_type == 'CH'],\n",
    "                   name = 'Changeup',\n",
    "                   mode = 'markers',\n",
    "                   marker = dict(size=10,\n",
    "                                line=dict(width=2)\n",
    "                                )\n",
    "                   )\n",
    "\n",
    "data = [trace0, trace1, trace2, trace3]\n",
    "\n",
    "layout = dict(title = 'Pitch types and Location of Gerrit Cole Homeruns Allowed 2020 ',\n",
    "              yaxis = dict(zeroline = False),\n",
    "              xaxis = dict(zeroline = False),\n",
    "              height=700, width=700\n",
    "             )\n",
    "\n",
    "fig = dict(data=data, layout=layout)\n",
    "py.iplot(fig, filename='styled-scatter')\n"
   ]
  },
  {
   "cell_type": "code",
   "execution_count": 19,
   "metadata": {},
   "outputs": [
    {
     "data": {
      "text/html": [
       "<div>\n",
       "<style scoped>\n",
       "    .dataframe tbody tr th:only-of-type {\n",
       "        vertical-align: middle;\n",
       "    }\n",
       "\n",
       "    .dataframe tbody tr th {\n",
       "        vertical-align: top;\n",
       "    }\n",
       "\n",
       "    .dataframe thead th {\n",
       "        text-align: right;\n",
       "    }\n",
       "</style>\n",
       "<table border=\"1\" class=\"dataframe\">\n",
       "  <thead>\n",
       "    <tr style=\"text-align: right;\">\n",
       "      <th></th>\n",
       "      <th>pitch_type</th>\n",
       "      <th>release_speed</th>\n",
       "      <th>batter</th>\n",
       "      <th>inning</th>\n",
       "      <th>balls</th>\n",
       "      <th>strikes</th>\n",
       "    </tr>\n",
       "  </thead>\n",
       "  <tbody>\n",
       "    <tr>\n",
       "      <th>3</th>\n",
       "      <td>FF</td>\n",
       "      <td>96.4</td>\n",
       "      <td>640457</td>\n",
       "      <td>5</td>\n",
       "      <td>1</td>\n",
       "      <td>1</td>\n",
       "    </tr>\n",
       "    <tr>\n",
       "      <th>141</th>\n",
       "      <td>FF</td>\n",
       "      <td>95.8</td>\n",
       "      <td>596847</td>\n",
       "      <td>4</td>\n",
       "      <td>1</td>\n",
       "      <td>1</td>\n",
       "    </tr>\n",
       "    <tr>\n",
       "      <th>180</th>\n",
       "      <td>FF</td>\n",
       "      <td>96.4</td>\n",
       "      <td>668227</td>\n",
       "      <td>1</td>\n",
       "      <td>2</td>\n",
       "      <td>0</td>\n",
       "    </tr>\n",
       "    <tr>\n",
       "      <th>246</th>\n",
       "      <td>SL</td>\n",
       "      <td>87.8</td>\n",
       "      <td>647304</td>\n",
       "      <td>4</td>\n",
       "      <td>0</td>\n",
       "      <td>1</td>\n",
       "    </tr>\n",
       "    <tr>\n",
       "      <th>356</th>\n",
       "      <td>FF</td>\n",
       "      <td>95.6</td>\n",
       "      <td>624415</td>\n",
       "      <td>4</td>\n",
       "      <td>1</td>\n",
       "      <td>1</td>\n",
       "    </tr>\n",
       "    <tr>\n",
       "      <th>646</th>\n",
       "      <td>FF</td>\n",
       "      <td>96.0</td>\n",
       "      <td>621466</td>\n",
       "      <td>6</td>\n",
       "      <td>1</td>\n",
       "      <td>0</td>\n",
       "    </tr>\n",
       "    <tr>\n",
       "      <th>793</th>\n",
       "      <td>FF</td>\n",
       "      <td>97.0</td>\n",
       "      <td>595281</td>\n",
       "      <td>2</td>\n",
       "      <td>1</td>\n",
       "      <td>1</td>\n",
       "    </tr>\n",
       "    <tr>\n",
       "      <th>803</th>\n",
       "      <td>SL</td>\n",
       "      <td>89.3</td>\n",
       "      <td>596847</td>\n",
       "      <td>1</td>\n",
       "      <td>1</td>\n",
       "      <td>2</td>\n",
       "    </tr>\n",
       "    <tr>\n",
       "      <th>859</th>\n",
       "      <td>KC</td>\n",
       "      <td>83.0</td>\n",
       "      <td>542303</td>\n",
       "      <td>3</td>\n",
       "      <td>1</td>\n",
       "      <td>1</td>\n",
       "    </tr>\n",
       "    <tr>\n",
       "      <th>865</th>\n",
       "      <td>SL</td>\n",
       "      <td>90.0</td>\n",
       "      <td>621020</td>\n",
       "      <td>3</td>\n",
       "      <td>2</td>\n",
       "      <td>1</td>\n",
       "    </tr>\n",
       "    <tr>\n",
       "      <th>914</th>\n",
       "      <td>FF</td>\n",
       "      <td>97.3</td>\n",
       "      <td>660670</td>\n",
       "      <td>1</td>\n",
       "      <td>3</td>\n",
       "      <td>2</td>\n",
       "    </tr>\n",
       "    <tr>\n",
       "      <th>1000</th>\n",
       "      <td>FF</td>\n",
       "      <td>97.8</td>\n",
       "      <td>572287</td>\n",
       "      <td>3</td>\n",
       "      <td>1</td>\n",
       "      <td>2</td>\n",
       "    </tr>\n",
       "    <tr>\n",
       "      <th>1016</th>\n",
       "      <td>CH</td>\n",
       "      <td>87.0</td>\n",
       "      <td>596847</td>\n",
       "      <td>2</td>\n",
       "      <td>2</td>\n",
       "      <td>1</td>\n",
       "    </tr>\n",
       "    <tr>\n",
       "      <th>1084</th>\n",
       "      <td>KC</td>\n",
       "      <td>83.7</td>\n",
       "      <td>657077</td>\n",
       "      <td>4</td>\n",
       "      <td>1</td>\n",
       "      <td>1</td>\n",
       "    </tr>\n",
       "    <tr>\n",
       "      <th>1124</th>\n",
       "      <td>FF</td>\n",
       "      <td>96.1</td>\n",
       "      <td>500874</td>\n",
       "      <td>5</td>\n",
       "      <td>2</td>\n",
       "      <td>0</td>\n",
       "    </tr>\n",
       "    <tr>\n",
       "      <th>1297</th>\n",
       "      <td>FF</td>\n",
       "      <td>98.7</td>\n",
       "      <td>457803</td>\n",
       "      <td>3</td>\n",
       "      <td>3</td>\n",
       "      <td>2</td>\n",
       "    </tr>\n",
       "    <tr>\n",
       "      <th>1323</th>\n",
       "      <td>FF</td>\n",
       "      <td>95.7</td>\n",
       "      <td>596105</td>\n",
       "      <td>7</td>\n",
       "      <td>0</td>\n",
       "      <td>0</td>\n",
       "    </tr>\n",
       "    <tr>\n",
       "      <th>1487</th>\n",
       "      <td>FF</td>\n",
       "      <td>98.1</td>\n",
       "      <td>594809</td>\n",
       "      <td>1</td>\n",
       "      <td>2</td>\n",
       "      <td>2</td>\n",
       "    </tr>\n",
       "  </tbody>\n",
       "</table>\n",
       "</div>"
      ],
      "text/plain": [
       "     pitch_type  release_speed  batter  inning  balls  strikes\n",
       "3            FF           96.4  640457       5      1        1\n",
       "141          FF           95.8  596847       4      1        1\n",
       "180          FF           96.4  668227       1      2        0\n",
       "246          SL           87.8  647304       4      0        1\n",
       "356          FF           95.6  624415       4      1        1\n",
       "646          FF           96.0  621466       6      1        0\n",
       "793          FF           97.0  595281       2      1        1\n",
       "803          SL           89.3  596847       1      1        2\n",
       "859          KC           83.0  542303       3      1        1\n",
       "865          SL           90.0  621020       3      2        1\n",
       "914          FF           97.3  660670       1      3        2\n",
       "1000         FF           97.8  572287       3      1        2\n",
       "1016         CH           87.0  596847       2      2        1\n",
       "1084         KC           83.7  657077       4      1        1\n",
       "1124         FF           96.1  500874       5      2        0\n",
       "1297         FF           98.7  457803       3      3        2\n",
       "1323         FF           95.7  596105       7      0        0\n",
       "1487         FF           98.1  594809       1      2        2"
      ]
     },
     "execution_count": 19,
     "metadata": {},
     "output_type": "execute_result"
    }
   ],
   "source": [
    "cole_hr[['pitch_type', 'release_speed', 'batter', 'inning', 'balls', 'strikes']]"
   ]
  },
  {
   "cell_type": "code",
   "execution_count": 20,
   "metadata": {
    "scrolled": true
   },
   "outputs": [
    {
     "data": {
      "text/html": [
       "<div>\n",
       "<style scoped>\n",
       "    .dataframe tbody tr th:only-of-type {\n",
       "        vertical-align: middle;\n",
       "    }\n",
       "\n",
       "    .dataframe tbody tr th {\n",
       "        vertical-align: top;\n",
       "    }\n",
       "\n",
       "    .dataframe thead th {\n",
       "        text-align: right;\n",
       "    }\n",
       "</style>\n",
       "<table border=\"1\" class=\"dataframe\">\n",
       "  <thead>\n",
       "    <tr style=\"text-align: right;\">\n",
       "      <th></th>\n",
       "      <th>pitch_type</th>\n",
       "      <th>release_speed</th>\n",
       "      <th>events</th>\n",
       "      <th>inning</th>\n",
       "      <th>balls</th>\n",
       "      <th>strikes</th>\n",
       "      <th>inning</th>\n",
       "      <th>at_bat_number</th>\n",
       "      <th>pitch_number</th>\n",
       "    </tr>\n",
       "  </thead>\n",
       "  <tbody>\n",
       "    <tr>\n",
       "      <th>0</th>\n",
       "      <td>KC</td>\n",
       "      <td>83.0</td>\n",
       "      <td>field_out</td>\n",
       "      <td>6</td>\n",
       "      <td>0</td>\n",
       "      <td>0</td>\n",
       "      <td>6</td>\n",
       "      <td>44</td>\n",
       "      <td>1</td>\n",
       "    </tr>\n",
       "    <tr>\n",
       "      <th>1</th>\n",
       "      <td>CH</td>\n",
       "      <td>91.2</td>\n",
       "      <td>field_out</td>\n",
       "      <td>5</td>\n",
       "      <td>1</td>\n",
       "      <td>0</td>\n",
       "      <td>5</td>\n",
       "      <td>38</td>\n",
       "      <td>2</td>\n",
       "    </tr>\n",
       "    <tr>\n",
       "      <th>3</th>\n",
       "      <td>FF</td>\n",
       "      <td>96.4</td>\n",
       "      <td>home_run</td>\n",
       "      <td>5</td>\n",
       "      <td>1</td>\n",
       "      <td>1</td>\n",
       "      <td>5</td>\n",
       "      <td>37</td>\n",
       "      <td>3</td>\n",
       "    </tr>\n",
       "    <tr>\n",
       "      <th>6</th>\n",
       "      <td>FF</td>\n",
       "      <td>98.7</td>\n",
       "      <td>strikeout</td>\n",
       "      <td>5</td>\n",
       "      <td>2</td>\n",
       "      <td>2</td>\n",
       "      <td>5</td>\n",
       "      <td>36</td>\n",
       "      <td>6</td>\n",
       "    </tr>\n",
       "    <tr>\n",
       "      <th>12</th>\n",
       "      <td>KC</td>\n",
       "      <td>82.9</td>\n",
       "      <td>field_out</td>\n",
       "      <td>5</td>\n",
       "      <td>1</td>\n",
       "      <td>1</td>\n",
       "      <td>5</td>\n",
       "      <td>35</td>\n",
       "      <td>3</td>\n",
       "    </tr>\n",
       "  </tbody>\n",
       "</table>\n",
       "</div>"
      ],
      "text/plain": [
       "   pitch_type  release_speed     events  inning  balls  strikes  inning  \\\n",
       "0          KC           83.0  field_out       6      0        0       6   \n",
       "1          CH           91.2  field_out       5      1        0       5   \n",
       "3          FF           96.4   home_run       5      1        1       5   \n",
       "6          FF           98.7  strikeout       5      2        2       5   \n",
       "12         KC           82.9  field_out       5      1        1       5   \n",
       "\n",
       "    at_bat_number  pitch_number  \n",
       "0              44             1  \n",
       "1              38             2  \n",
       "3              37             3  \n",
       "6              36             6  \n",
       "12             35             3  "
      ]
     },
     "execution_count": 20,
     "metadata": {},
     "output_type": "execute_result"
    }
   ],
   "source": [
    "all_events = cole_stats.loc[cole_stats['events'].notnull(),['pitch_type', 'release_speed','events', 'inning', 'balls', 'strikes', 'inning', 'at_bat_number', 'pitch_number']]\n",
    "all_events.head()"
   ]
  },
  {
   "cell_type": "markdown",
   "metadata": {},
   "source": [
    "## Event Percentages on every pitch type"
   ]
  },
  {
   "cell_type": "code",
   "execution_count": 21,
   "metadata": {},
   "outputs": [
    {
     "data": {
      "text/plain": [
       "field_out                    0.448980\n",
       "strikeout                    0.260204\n",
       "single                       0.096939\n",
       "walk                         0.066327\n",
       "home_run                     0.061224\n",
       "double                       0.051020\n",
       "hit_by_pitch                 0.005102\n",
       "force_out                    0.005102\n",
       "grounded_into_double_play    0.005102\n",
       "Name: events, dtype: float64"
      ]
     },
     "execution_count": 21,
     "metadata": {},
     "output_type": "execute_result"
    }
   ],
   "source": [
    "FF_events = all_events[all_events.pitch_type == 'FF']\n",
    "\n",
    "FF_events['events'].value_counts() / len(FF_events)"
   ]
  },
  {
   "cell_type": "code",
   "execution_count": 22,
   "metadata": {},
   "outputs": [
    {
     "data": {
      "text/plain": [
       "strikeout              0.483871\n",
       "field_out              0.274194\n",
       "single                 0.096774\n",
       "double                 0.032258\n",
       "field_error            0.032258\n",
       "home_run               0.032258\n",
       "force_out              0.016129\n",
       "walk                   0.016129\n",
       "fielders_choice_out    0.016129\n",
       "Name: events, dtype: float64"
      ]
     },
     "execution_count": 22,
     "metadata": {},
     "output_type": "execute_result"
    }
   ],
   "source": [
    "KC_events = all_events[all_events.pitch_type == 'KC']\n",
    "\n",
    "KC_events['events'].value_counts() / len(KC_events)"
   ]
  },
  {
   "cell_type": "code",
   "execution_count": 23,
   "metadata": {},
   "outputs": [
    {
     "data": {
      "text/plain": [
       "strikeout                    0.420455\n",
       "field_out                    0.295455\n",
       "walk                         0.068182\n",
       "single                       0.068182\n",
       "double                       0.034091\n",
       "home_run                     0.034091\n",
       "grounded_into_double_play    0.022727\n",
       "hit_by_pitch                 0.022727\n",
       "force_out                    0.022727\n",
       "field_error                  0.011364\n",
       "Name: events, dtype: float64"
      ]
     },
     "execution_count": 23,
     "metadata": {},
     "output_type": "execute_result"
    }
   ],
   "source": [
    "SL_events = all_events[all_events.pitch_type == 'SL']\n",
    "\n",
    "SL_events['events'].value_counts() / len(SL_events)"
   ]
  },
  {
   "cell_type": "code",
   "execution_count": 24,
   "metadata": {},
   "outputs": [
    {
     "data": {
      "text/plain": [
       "field_out    0.400000\n",
       "strikeout    0.400000\n",
       "double       0.066667\n",
       "single       0.066667\n",
       "home_run     0.066667\n",
       "Name: events, dtype: float64"
      ]
     },
     "execution_count": 24,
     "metadata": {},
     "output_type": "execute_result"
    }
   ],
   "source": [
    "CH_events = all_events[all_events.pitch_type == 'CH']\n",
    "\n",
    "CH_events['events'].value_counts() / len(CH_events)"
   ]
  },
  {
   "cell_type": "markdown",
   "metadata": {},
   "source": [
    "## Gerrit Cole Injury History\n",
    "\n",
    "I was curious about Cole's Pittsburgh Pirates Stint. Specifically during the 2014 and 2016 seasons in terms of pitch usage and pitch counts per game. Since then, Gerrit Cole became the GOAT lol"
   ]
  },
  {
   "cell_type": "markdown",
   "metadata": {},
   "source": [
    "### June 7-28, 2014: Shoulder Fatigue"
   ]
  },
  {
   "cell_type": "code",
   "execution_count": 25,
   "metadata": {},
   "outputs": [
    {
     "name": "stdout",
     "output_type": "stream",
     "text": [
      "Gathering Player Data\n"
     ]
    },
    {
     "name": "stderr",
     "output_type": "stream",
     "text": [
      "/Users/paulomacasaet/anaconda3/lib/python3.7/site-packages/IPython/core/interactiveshell.py:3325: DtypeWarning:\n",
      "\n",
      "Columns (87,88) have mixed types. Specify dtype option on import or set low_memory=False.\n",
      "\n"
     ]
    }
   ],
   "source": [
    "sample = statcast_pitcher('2014-03-29', '2020-10-18',543037)"
   ]
  },
  {
   "cell_type": "code",
   "execution_count": 26,
   "metadata": {},
   "outputs": [
    {
     "data": {
      "text/html": [
       "<div>\n",
       "<style scoped>\n",
       "    .dataframe tbody tr th:only-of-type {\n",
       "        vertical-align: middle;\n",
       "    }\n",
       "\n",
       "    .dataframe tbody tr th {\n",
       "        vertical-align: top;\n",
       "    }\n",
       "\n",
       "    .dataframe thead th {\n",
       "        text-align: right;\n",
       "    }\n",
       "</style>\n",
       "<table border=\"1\" class=\"dataframe\">\n",
       "  <thead>\n",
       "    <tr style=\"text-align: right;\">\n",
       "      <th></th>\n",
       "      <th>pitch_type</th>\n",
       "      <th>game_date</th>\n",
       "      <th>release_speed</th>\n",
       "      <th>release_pos_x</th>\n",
       "      <th>release_pos_z</th>\n",
       "      <th>player_name</th>\n",
       "      <th>batter</th>\n",
       "      <th>pitcher</th>\n",
       "      <th>events</th>\n",
       "      <th>description</th>\n",
       "      <th>...</th>\n",
       "      <th>home_score</th>\n",
       "      <th>away_score</th>\n",
       "      <th>bat_score</th>\n",
       "      <th>fld_score</th>\n",
       "      <th>post_away_score</th>\n",
       "      <th>post_home_score</th>\n",
       "      <th>post_bat_score</th>\n",
       "      <th>post_fld_score</th>\n",
       "      <th>if_fielding_alignment</th>\n",
       "      <th>of_fielding_alignment</th>\n",
       "    </tr>\n",
       "  </thead>\n",
       "  <tbody>\n",
       "    <tr>\n",
       "      <th>0</th>\n",
       "      <td>FF</td>\n",
       "      <td>2019-10-27</td>\n",
       "      <td>98.2</td>\n",
       "      <td>-1.85</td>\n",
       "      <td>5.62</td>\n",
       "      <td>Gerrit Cole</td>\n",
       "      <td>645302</td>\n",
       "      <td>543037</td>\n",
       "      <td>strikeout</td>\n",
       "      <td>called_strike</td>\n",
       "      <td>...</td>\n",
       "      <td>1</td>\n",
       "      <td>4</td>\n",
       "      <td>1</td>\n",
       "      <td>4</td>\n",
       "      <td>4</td>\n",
       "      <td>1</td>\n",
       "      <td>1</td>\n",
       "      <td>4</td>\n",
       "      <td>Standard</td>\n",
       "      <td>Standard</td>\n",
       "    </tr>\n",
       "    <tr>\n",
       "      <th>1</th>\n",
       "      <td>FF</td>\n",
       "      <td>2019-10-27</td>\n",
       "      <td>99.8</td>\n",
       "      <td>-2.11</td>\n",
       "      <td>5.61</td>\n",
       "      <td>Gerrit Cole</td>\n",
       "      <td>645302</td>\n",
       "      <td>543037</td>\n",
       "      <td>NaN</td>\n",
       "      <td>ball</td>\n",
       "      <td>...</td>\n",
       "      <td>1</td>\n",
       "      <td>4</td>\n",
       "      <td>1</td>\n",
       "      <td>4</td>\n",
       "      <td>4</td>\n",
       "      <td>1</td>\n",
       "      <td>1</td>\n",
       "      <td>4</td>\n",
       "      <td>Standard</td>\n",
       "      <td>Standard</td>\n",
       "    </tr>\n",
       "    <tr>\n",
       "      <th>2</th>\n",
       "      <td>FF</td>\n",
       "      <td>2019-10-27</td>\n",
       "      <td>98.4</td>\n",
       "      <td>-1.90</td>\n",
       "      <td>5.72</td>\n",
       "      <td>Gerrit Cole</td>\n",
       "      <td>645302</td>\n",
       "      <td>543037</td>\n",
       "      <td>NaN</td>\n",
       "      <td>called_strike</td>\n",
       "      <td>...</td>\n",
       "      <td>1</td>\n",
       "      <td>4</td>\n",
       "      <td>1</td>\n",
       "      <td>4</td>\n",
       "      <td>4</td>\n",
       "      <td>1</td>\n",
       "      <td>1</td>\n",
       "      <td>4</td>\n",
       "      <td>Standard</td>\n",
       "      <td>Standard</td>\n",
       "    </tr>\n",
       "    <tr>\n",
       "      <th>3</th>\n",
       "      <td>FF</td>\n",
       "      <td>2019-10-27</td>\n",
       "      <td>98.0</td>\n",
       "      <td>-1.76</td>\n",
       "      <td>5.76</td>\n",
       "      <td>Gerrit Cole</td>\n",
       "      <td>645302</td>\n",
       "      <td>543037</td>\n",
       "      <td>NaN</td>\n",
       "      <td>ball</td>\n",
       "      <td>...</td>\n",
       "      <td>1</td>\n",
       "      <td>4</td>\n",
       "      <td>1</td>\n",
       "      <td>4</td>\n",
       "      <td>4</td>\n",
       "      <td>1</td>\n",
       "      <td>1</td>\n",
       "      <td>4</td>\n",
       "      <td>Standard</td>\n",
       "      <td>Standard</td>\n",
       "    </tr>\n",
       "    <tr>\n",
       "      <th>4</th>\n",
       "      <td>FF</td>\n",
       "      <td>2019-10-27</td>\n",
       "      <td>97.5</td>\n",
       "      <td>-2.10</td>\n",
       "      <td>5.60</td>\n",
       "      <td>Gerrit Cole</td>\n",
       "      <td>645302</td>\n",
       "      <td>543037</td>\n",
       "      <td>NaN</td>\n",
       "      <td>swinging_strike</td>\n",
       "      <td>...</td>\n",
       "      <td>1</td>\n",
       "      <td>4</td>\n",
       "      <td>1</td>\n",
       "      <td>4</td>\n",
       "      <td>4</td>\n",
       "      <td>1</td>\n",
       "      <td>1</td>\n",
       "      <td>4</td>\n",
       "      <td>Standard</td>\n",
       "      <td>Standard</td>\n",
       "    </tr>\n",
       "  </tbody>\n",
       "</table>\n",
       "<p>5 rows × 89 columns</p>\n",
       "</div>"
      ],
      "text/plain": [
       "  pitch_type   game_date  release_speed  release_pos_x  release_pos_z  \\\n",
       "0         FF  2019-10-27           98.2          -1.85           5.62   \n",
       "1         FF  2019-10-27           99.8          -2.11           5.61   \n",
       "2         FF  2019-10-27           98.4          -1.90           5.72   \n",
       "3         FF  2019-10-27           98.0          -1.76           5.76   \n",
       "4         FF  2019-10-27           97.5          -2.10           5.60   \n",
       "\n",
       "   player_name  batter  pitcher     events      description  ...  home_score  \\\n",
       "0  Gerrit Cole  645302   543037  strikeout    called_strike  ...           1   \n",
       "1  Gerrit Cole  645302   543037        NaN             ball  ...           1   \n",
       "2  Gerrit Cole  645302   543037        NaN    called_strike  ...           1   \n",
       "3  Gerrit Cole  645302   543037        NaN             ball  ...           1   \n",
       "4  Gerrit Cole  645302   543037        NaN  swinging_strike  ...           1   \n",
       "\n",
       "   away_score  bat_score  fld_score  post_away_score post_home_score  \\\n",
       "0           4          1          4                4               1   \n",
       "1           4          1          4                4               1   \n",
       "2           4          1          4                4               1   \n",
       "3           4          1          4                4               1   \n",
       "4           4          1          4                4               1   \n",
       "\n",
       "  post_bat_score post_fld_score if_fielding_alignment of_fielding_alignment  \n",
       "0              1              4              Standard              Standard  \n",
       "1              1              4              Standard              Standard  \n",
       "2              1              4              Standard              Standard  \n",
       "3              1              4              Standard              Standard  \n",
       "4              1              4              Standard              Standard  \n",
       "\n",
       "[5 rows x 89 columns]"
      ]
     },
     "execution_count": 26,
     "metadata": {},
     "output_type": "execute_result"
    }
   ],
   "source": [
    "sample.head()"
   ]
  },
  {
   "cell_type": "code",
   "execution_count": 27,
   "metadata": {},
   "outputs": [],
   "source": [
    "cole14 = sample[sample['game_year'] == 2014]\n",
    "cole14 = cole14.iloc[::-1].reset_index() # reverse rows to beginning of season"
   ]
  },
  {
   "cell_type": "code",
   "execution_count": 28,
   "metadata": {},
   "outputs": [],
   "source": [
    "before = cole14.loc[0:1204]"
   ]
  },
  {
   "cell_type": "code",
   "execution_count": 38,
   "metadata": {},
   "outputs": [
    {
     "name": "stdout",
     "output_type": "stream",
     "text": [
      "['2014-04-04' '2014-04-10' '2014-04-15' '2014-04-20' '2014-04-25'\n",
      " '2014-05-02' '2014-05-07' '2014-05-13' '2014-05-18' '2014-05-24'\n",
      " '2014-05-29' '2014-06-03']\n",
      "Total Starts Before Injury: 12\n"
     ]
    }
   ],
   "source": [
    "# Get all starts of the timeframe\n",
    "starts = before.game_date.unique()\n",
    "print(starts)\n",
    "print('Total Starts Before Injury: {}'.format(len(starts)))"
   ]
  },
  {
   "cell_type": "code",
   "execution_count": 45,
   "metadata": {},
   "outputs": [],
   "source": [
    "sns.set(rc={'figure.figsize':(11,  8)})"
   ]
  },
  {
   "cell_type": "markdown",
   "metadata": {},
   "source": [
    "### Pitch Speed Distribution Per Game"
   ]
  },
  {
   "cell_type": "code",
   "execution_count": 46,
   "metadata": {},
   "outputs": [
    {
     "data": {
      "image/png": "[encoded data removed]",
      "text/plain": [
       "<Figure size 792x576 with 1 Axes>"
      ]
     },
     "metadata": {},
     "output_type": "display_data"
    }
   ],
   "source": [
    "ax = sns.boxplot(x='pitch_type', y='release_speed', data=before)\n",
    "plt.title('Pitch Speeds Pre Injury')\n",
    "plt.show()"
   ]
  },
  {
   "cell_type": "markdown",
   "metadata": {},
   "source": [
    "### Pitch Type Distribution Collated"
   ]
  },
  {
   "cell_type": "code",
   "execution_count": 29,
   "metadata": {},
   "outputs": [
    {
     "data": {
      "text/plain": [
       "FF    55.352697\n",
       "SL    19.253112\n",
       "SI    11.618257\n",
       "KC     7.717842\n",
       "CH     5.311203\n",
       "CU     0.746888\n",
       "Name: pitch_type, dtype: float64"
      ]
     },
     "execution_count": 29,
     "metadata": {},
     "output_type": "execute_result"
    }
   ],
   "source": [
    "before.pitch_type.value_counts() / len(before) * 100"
   ]
  },
  {
   "cell_type": "markdown",
   "metadata": {},
   "source": [
    "### Pitch Types and Pitch Count of Starts before injury"
   ]
  },
  {
   "cell_type": "code",
   "execution_count": 47,
   "metadata": {},
   "outputs": [],
   "source": [
    "def pitchTypesAndTotal(df, date):\n",
    "    start = df[df['game_date'] == date]\n",
    "    distribution = start.pitch_type.value_counts()\n",
    "    pitchCount = 'Pitch Count: {}'.format(len(start))\n",
    "    return distribution, pitchCount"
   ]
  },
  {
   "cell_type": "code",
   "execution_count": 48,
   "metadata": {},
   "outputs": [
    {
     "name": "stdout",
     "output_type": "stream",
     "text": [
      "(FF    63\n",
      "KC    18\n",
      "SL    17\n",
      "SI     5\n",
      "CH     3\n",
      "CU     2\n",
      "Name: pitch_type, dtype: int64, 'Pitch Count: 108')\n",
      "\n",
      "(FF    35\n",
      "SI    27\n",
      "SL    27\n",
      "CH     5\n",
      "CU     4\n",
      "KC     2\n",
      "Name: pitch_type, dtype: int64, 'Pitch Count: 100')\n",
      "\n",
      "(FF    56\n",
      "SL    30\n",
      "KC     8\n",
      "SI     3\n",
      "CU     1\n",
      "Name: pitch_type, dtype: int64, 'Pitch Count: 98')\n",
      "\n",
      "(FF    58\n",
      "SL    16\n",
      "SI     8\n",
      "KC     6\n",
      "CH     2\n",
      "CU     1\n",
      "Name: pitch_type, dtype: int64, 'Pitch Count: 91')\n",
      "\n",
      "(SI    41\n",
      "FF    32\n",
      "SL    24\n",
      "KC     3\n",
      "CH     2\n",
      "Name: pitch_type, dtype: int64, 'Pitch Count: 102')\n",
      "\n",
      "(FF    63\n",
      "SL    14\n",
      "KC    12\n",
      "CH     4\n",
      "CU     1\n",
      "SI     1\n",
      "Name: pitch_type, dtype: int64, 'Pitch Count: 95')\n",
      "\n",
      "(FF    64\n",
      "SL    15\n",
      "KC    11\n",
      "SI    11\n",
      "CH     6\n",
      "Name: pitch_type, dtype: int64, 'Pitch Count: 107')\n",
      "\n",
      "(FF    48\n",
      "SL    22\n",
      "SI    18\n",
      "CH    13\n",
      "KC     4\n",
      "Name: pitch_type, dtype: int64, 'Pitch Count: 105')\n",
      "\n",
      "(FF    60\n",
      "SL    19\n",
      "CH    13\n",
      "KC     4\n",
      "SI     3\n",
      "Name: pitch_type, dtype: int64, 'Pitch Count: 99')\n",
      "\n",
      "(FF    75\n",
      "SL    18\n",
      "SI     7\n",
      "KC     7\n",
      "CH     5\n",
      "Name: pitch_type, dtype: int64, 'Pitch Count: 112')\n",
      "\n",
      "(FF    57\n",
      "SL    17\n",
      "SI     9\n",
      "CH     4\n",
      "KC     1\n",
      "Name: pitch_type, dtype: int64, 'Pitch Count: 88')\n",
      "\n",
      "(FF    56\n",
      "KC    17\n",
      "SL    13\n",
      "SI     7\n",
      "CH     7\n",
      "Name: pitch_type, dtype: int64, 'Pitch Count: 100')\n",
      "\n"
     ]
    }
   ],
   "source": [
    "for i in starts:\n",
    "    print(pitchTypesAndTotal(before, i))\n",
    "    print()"
   ]
  },
  {
   "cell_type": "code",
   "execution_count": 57,
   "metadata": {},
   "outputs": [
    {
     "data": {
      "image/png": "[encoded data removed]",
      "text/plain": [
       "<Figure size 792x576 with 1 Axes>"
      ]
     },
     "metadata": {},
     "output_type": "display_data"
    }
   ],
   "source": [
    "ax = sns.countplot(x='game_date',\n",
    "                  hue='pitch_type',\n",
    "                  data=before)\n",
    "ax.legend(bbox_to_anchor=(1.01, 1),borderaxespad=0)\n",
    "ax.set_xticklabels(ax.get_xticklabels(), rotation=30)\n",
    "plt.show()"
   ]
  },
  {
   "cell_type": "code",
   "execution_count": 52,
   "metadata": {},
   "outputs": [
    {
     "data": {
      "image/png": "[encoded data removed]",
      "text/plain": [
       "<Figure size 792x576 with 1 Axes>"
      ]
     },
     "metadata": {},
     "output_type": "display_data"
    }
   ],
   "source": [
    "ax = sns.lineplot(x='inning', y='release_speed', hue='pitch_type', data=before)\n",
    "ax.legend(bbox_to_anchor=(1.01, 1),borderaxespad=0)\n",
    "plt.show()"
   ]
  },
  {
   "cell_type": "code",
   "execution_count": 34,
   "metadata": {},
   "outputs": [
    {
     "data": {
      "text/html": [
       "<div>\n",
       "<style scoped>\n",
       "    .dataframe tbody tr th:only-of-type {\n",
       "        vertical-align: middle;\n",
       "    }\n",
       "\n",
       "    .dataframe tbody tr th {\n",
       "        vertical-align: top;\n",
       "    }\n",
       "\n",
       "    .dataframe thead th {\n",
       "        text-align: right;\n",
       "    }\n",
       "</style>\n",
       "<table border=\"1\" class=\"dataframe\">\n",
       "  <thead>\n",
       "    <tr style=\"text-align: right;\">\n",
       "      <th></th>\n",
       "      <th>index</th>\n",
       "      <th>pitch_type</th>\n",
       "      <th>game_date</th>\n",
       "      <th>release_speed</th>\n",
       "      <th>release_pos_x</th>\n",
       "      <th>release_pos_z</th>\n",
       "      <th>player_name</th>\n",
       "      <th>batter</th>\n",
       "      <th>pitcher</th>\n",
       "      <th>events</th>\n",
       "      <th>...</th>\n",
       "      <th>home_score</th>\n",
       "      <th>away_score</th>\n",
       "      <th>bat_score</th>\n",
       "      <th>fld_score</th>\n",
       "      <th>post_away_score</th>\n",
       "      <th>post_home_score</th>\n",
       "      <th>post_bat_score</th>\n",
       "      <th>post_fld_score</th>\n",
       "      <th>if_fielding_alignment</th>\n",
       "      <th>of_fielding_alignment</th>\n",
       "    </tr>\n",
       "  </thead>\n",
       "  <tbody>\n",
       "    <tr>\n",
       "      <th>2192</th>\n",
       "      <td>15914</td>\n",
       "      <td>FF</td>\n",
       "      <td>2014-09-28</td>\n",
       "      <td>99.2</td>\n",
       "      <td>NaN</td>\n",
       "      <td>NaN</td>\n",
       "      <td>Gerrit Cole</td>\n",
       "      <td>519023</td>\n",
       "      <td>543037</td>\n",
       "      <td>strikeout</td>\n",
       "      <td>...</td>\n",
       "      <td>1</td>\n",
       "      <td>1</td>\n",
       "      <td>1</td>\n",
       "      <td>1</td>\n",
       "      <td>1</td>\n",
       "      <td>1</td>\n",
       "      <td>1</td>\n",
       "      <td>1</td>\n",
       "      <td>NaN</td>\n",
       "      <td>NaN</td>\n",
       "    </tr>\n",
       "    <tr>\n",
       "      <th>2193</th>\n",
       "      <td>15913</td>\n",
       "      <td>SL</td>\n",
       "      <td>2014-09-28</td>\n",
       "      <td>86.3</td>\n",
       "      <td>NaN</td>\n",
       "      <td>NaN</td>\n",
       "      <td>Gerrit Cole</td>\n",
       "      <td>457803</td>\n",
       "      <td>543037</td>\n",
       "      <td>single</td>\n",
       "      <td>...</td>\n",
       "      <td>1</td>\n",
       "      <td>1</td>\n",
       "      <td>1</td>\n",
       "      <td>1</td>\n",
       "      <td>1</td>\n",
       "      <td>1</td>\n",
       "      <td>1</td>\n",
       "      <td>1</td>\n",
       "      <td>NaN</td>\n",
       "      <td>NaN</td>\n",
       "    </tr>\n",
       "    <tr>\n",
       "      <th>2194</th>\n",
       "      <td>15912</td>\n",
       "      <td>SI</td>\n",
       "      <td>2014-09-28</td>\n",
       "      <td>97.2</td>\n",
       "      <td>NaN</td>\n",
       "      <td>NaN</td>\n",
       "      <td>Gerrit Cole</td>\n",
       "      <td>502317</td>\n",
       "      <td>543037</td>\n",
       "      <td>NaN</td>\n",
       "      <td>...</td>\n",
       "      <td>1</td>\n",
       "      <td>1</td>\n",
       "      <td>1</td>\n",
       "      <td>1</td>\n",
       "      <td>1</td>\n",
       "      <td>1</td>\n",
       "      <td>1</td>\n",
       "      <td>1</td>\n",
       "      <td>NaN</td>\n",
       "      <td>NaN</td>\n",
       "    </tr>\n",
       "    <tr>\n",
       "      <th>2195</th>\n",
       "      <td>15911</td>\n",
       "      <td>SI</td>\n",
       "      <td>2014-09-28</td>\n",
       "      <td>98.1</td>\n",
       "      <td>NaN</td>\n",
       "      <td>NaN</td>\n",
       "      <td>Gerrit Cole</td>\n",
       "      <td>502317</td>\n",
       "      <td>543037</td>\n",
       "      <td>NaN</td>\n",
       "      <td>...</td>\n",
       "      <td>1</td>\n",
       "      <td>1</td>\n",
       "      <td>1</td>\n",
       "      <td>1</td>\n",
       "      <td>1</td>\n",
       "      <td>1</td>\n",
       "      <td>1</td>\n",
       "      <td>1</td>\n",
       "      <td>NaN</td>\n",
       "      <td>NaN</td>\n",
       "    </tr>\n",
       "    <tr>\n",
       "      <th>2196</th>\n",
       "      <td>15910</td>\n",
       "      <td>SL</td>\n",
       "      <td>2014-09-28</td>\n",
       "      <td>87.5</td>\n",
       "      <td>NaN</td>\n",
       "      <td>NaN</td>\n",
       "      <td>Gerrit Cole</td>\n",
       "      <td>502317</td>\n",
       "      <td>543037</td>\n",
       "      <td>field_out</td>\n",
       "      <td>...</td>\n",
       "      <td>1</td>\n",
       "      <td>1</td>\n",
       "      <td>1</td>\n",
       "      <td>1</td>\n",
       "      <td>1</td>\n",
       "      <td>1</td>\n",
       "      <td>1</td>\n",
       "      <td>1</td>\n",
       "      <td>NaN</td>\n",
       "      <td>NaN</td>\n",
       "    </tr>\n",
       "  </tbody>\n",
       "</table>\n",
       "<p>5 rows × 90 columns</p>\n",
       "</div>"
      ],
      "text/plain": [
       "      index pitch_type   game_date  release_speed  release_pos_x  \\\n",
       "2192  15914         FF  2014-09-28           99.2            NaN   \n",
       "2193  15913         SL  2014-09-28           86.3            NaN   \n",
       "2194  15912         SI  2014-09-28           97.2            NaN   \n",
       "2195  15911         SI  2014-09-28           98.1            NaN   \n",
       "2196  15910         SL  2014-09-28           87.5            NaN   \n",
       "\n",
       "      release_pos_z  player_name  batter  pitcher     events  ... home_score  \\\n",
       "2192            NaN  Gerrit Cole  519023   543037  strikeout  ...          1   \n",
       "2193            NaN  Gerrit Cole  457803   543037     single  ...          1   \n",
       "2194            NaN  Gerrit Cole  502317   543037        NaN  ...          1   \n",
       "2195            NaN  Gerrit Cole  502317   543037        NaN  ...          1   \n",
       "2196            NaN  Gerrit Cole  502317   543037  field_out  ...          1   \n",
       "\n",
       "      away_score  bat_score  fld_score  post_away_score  post_home_score  \\\n",
       "2192           1          1          1                1                1   \n",
       "2193           1          1          1                1                1   \n",
       "2194           1          1          1                1                1   \n",
       "2195           1          1          1                1                1   \n",
       "2196           1          1          1                1                1   \n",
       "\n",
       "     post_bat_score post_fld_score if_fielding_alignment of_fielding_alignment  \n",
       "2192              1              1                   NaN                   NaN  \n",
       "2193              1              1                   NaN                   NaN  \n",
       "2194              1              1                   NaN                   NaN  \n",
       "2195              1              1                   NaN                   NaN  \n",
       "2196              1              1                   NaN                   NaN  \n",
       "\n",
       "[5 rows x 90 columns]"
      ]
     },
     "execution_count": 34,
     "metadata": {},
     "output_type": "execute_result"
    }
   ],
   "source": [
    "after = cole14.loc[1205:]\n",
    "after.tail()"
   ]
  },
  {
   "cell_type": "code",
   "execution_count": 35,
   "metadata": {},
   "outputs": [
    {
     "name": "stdout",
     "output_type": "stream",
     "text": [
      "['2014-06-28' '2014-07-04' '2014-08-20' '2014-08-26' '2014-09-01'\n",
      " '2014-09-07' '2014-09-12' '2014-09-18' '2014-09-23' '2014-09-28']\n",
      "Total Starts After Injury: 10\n"
     ]
    }
   ],
   "source": [
    "starts = after.game_date.unique()\n",
    "print(starts)\n",
    "print('Total Starts After Injury: {}'.format(len(starts)))"
   ]
  },
  {
   "cell_type": "code",
   "execution_count": 58,
   "metadata": {},
   "outputs": [
    {
     "data": {
      "image/png": "[encoded data removed]",
      "text/plain": [
       "<Figure size 792x576 with 1 Axes>"
      ]
     },
     "metadata": {},
     "output_type": "display_data"
    }
   ],
   "source": [
    "ax = sns.boxplot(x='pitch_type', y='release_speed', data=after)\n",
    "plt.title('Pitch Speeds Post Injury')\n",
    "plt.show()"
   ]
  },
  {
   "cell_type": "code",
   "execution_count": 36,
   "metadata": {},
   "outputs": [
    {
     "name": "stdout",
     "output_type": "stream",
     "text": [
      "(FF    63.440860\n",
      "SL    17.204301\n",
      "CH     7.526882\n",
      "KC     5.376344\n",
      "SI     5.376344\n",
      "CU     1.075269\n",
      "Name: pitch_type, dtype: float64, 'Pitch Count: 93')\n",
      "\n",
      "(FF    61.25\n",
      "SL    22.50\n",
      "KC     8.75\n",
      "SI     6.25\n",
      "CH     1.25\n",
      "Name: pitch_type, dtype: float64, 'Pitch Count: 80')\n",
      "\n",
      "(FF    46.391753\n",
      "SI    16.494845\n",
      "KC    15.463918\n",
      "SL    11.340206\n",
      "IN     4.123711\n",
      "CH     4.123711\n",
      "CU     2.061856\n",
      "Name: pitch_type, dtype: float64, 'Pitch Count: 97')\n",
      "\n",
      "(FF    46.296296\n",
      "SL    25.000000\n",
      "SI    19.444444\n",
      "KC     5.555556\n",
      "CH     2.777778\n",
      "CU     0.925926\n",
      "Name: pitch_type, dtype: float64, 'Pitch Count: 108')\n",
      "\n",
      "(SI    52.127660\n",
      "SL    20.212766\n",
      "FF    13.829787\n",
      "KC     8.510638\n",
      "CH     4.255319\n",
      "CU     1.063830\n",
      "Name: pitch_type, dtype: float64, 'Pitch Count: 94')\n",
      "\n",
      "(FF    36.792453\n",
      "SI    26.415094\n",
      "CH    13.207547\n",
      "SL    12.264151\n",
      "KC    10.377358\n",
      "CU     0.943396\n",
      "Name: pitch_type, dtype: float64, 'Pitch Count: 106')\n",
      "\n",
      "(FF    53.398058\n",
      "SL    14.563107\n",
      "KC    14.563107\n",
      "SI     7.766990\n",
      "CH     6.796117\n",
      "CU     2.912621\n",
      "Name: pitch_type, dtype: float64, 'Pitch Count: 103')\n",
      "\n",
      "(FF    65.306122\n",
      "KC    14.285714\n",
      "SL    12.244898\n",
      "SI     5.102041\n",
      "CU     1.020408\n",
      "CH     1.020408\n",
      "Name: pitch_type, dtype: float64, 'Pitch Count: 98')\n",
      "\n",
      "(FF    45.045045\n",
      "KC    26.126126\n",
      "SI    18.918919\n",
      "SL     6.306306\n",
      "CH     2.702703\n",
      "CU     0.900901\n",
      "Name: pitch_type, dtype: float64, 'Pitch Count: 111')\n",
      "\n",
      "(FF    40.196078\n",
      "SI    28.431373\n",
      "SL    19.607843\n",
      "KC     7.843137\n",
      "CH     3.921569\n",
      "Name: pitch_type, dtype: float64, 'Pitch Count: 102')\n",
      "\n"
     ]
    }
   ],
   "source": [
    "for i in starts:\n",
    "    print(pitchTypesAndTotal(after, i))\n",
    "    print()"
   ]
  },
  {
   "cell_type": "code",
   "execution_count": 59,
   "metadata": {},
   "outputs": [
    {
     "data": {
      "image/png": "[encoded data removed]",
      "text/plain": [
       "<Figure size 792x576 with 1 Axes>"
      ]
     },
     "metadata": {},
     "output_type": "display_data"
    }
   ],
   "source": [
    "ax = sns.lineplot(x='inning', y='release_speed', hue='pitch_type', data=after)\n",
    "ax.legend(bbox_to_anchor=(1.01, 1),borderaxespad=0)\n",
    "plt.show()"
   ]
  },
  {
   "cell_type": "code",
   "execution_count": 60,
   "metadata": {},
   "outputs": [
    {
     "data": {
      "image/png": "[encoded data removed]",
      "text/plain": [
       "<Figure size 792x576 with 1 Axes>"
      ]
     },
     "metadata": {},
     "output_type": "display_data"
    }
   ],
   "source": [
    "ax = sns.countplot(x='game_date',\n",
    "                  hue='pitch_type',\n",
    "                  data=after)\n",
    "ax.legend(bbox_to_anchor=(1.01, 1),borderaxespad=0)\n",
    "ax.set_xticklabels(ax.get_xticklabels(), rotation=30)\n",
    "plt.show()"
   ]
  },
  {
   "cell_type": "code",
   "execution_count": null,
   "metadata": {},
   "outputs": [],
   "source": []
  }
 ],
 "metadata": {
  "kernelspec": {
   "display_name": "Python 3",
   "language": "python",
   "name": "python3"
  },
  "language_info": {
   "codemirror_mode": {
    "name": "ipython",
    "version": 3
   },
   "file_extension": ".py",
   "mimetype": "text/x-python",
   "name": "python",
   "nbconvert_exporter": "python",
   "pygments_lexer": "ipython3",
   "version": "3.7.3"
  }
 },
 "nbformat": 4,
 "nbformat_minor": 2
}
